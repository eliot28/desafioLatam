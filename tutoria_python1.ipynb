{
  "nbformat": 4,
  "nbformat_minor": 0,
  "metadata": {
    "colab": {
      "provenance": []
    },
    "kernelspec": {
      "name": "python3",
      "display_name": "Python 3"
    },
    "language_info": {
      "name": "python"
    }
  },
  "cells": [
    {
      "cell_type": "markdown",
      "source": [
        "Tutoria 1 de python\n",
        "resolución de tutoria"
      ],
      "metadata": {
        "id": "arpn8QX90S-s"
      }
    },
    {
      "cell_type": "code",
      "execution_count": 1,
      "metadata": {
        "colab": {
          "base_uri": "https://localhost:8080/"
        },
        "id": "ORROz7cWz36u",
        "outputId": "89fac305-0414-4b4f-9be0-e2633099b549"
      },
      "outputs": [
        {
          "output_type": "stream",
          "name": "stdout",
          "text": [
            "Ingresa tu nombre: matias\n",
            "Hola matias !\n"
          ]
        }
      ],
      "source": [
        "nombre = input('Ingresa tu nombre: ')\n",
        "print('Hola '+nombre+' !')"
      ]
    },
    {
      "cell_type": "code",
      "source": [
        "nombre = input('Ingrese su nombre: ')\n",
        "edad = input('Ingrese su edad: ')\n",
        "print(f'Hola {nombre}, tienes {edad} años')"
      ],
      "metadata": {
        "colab": {
          "base_uri": "https://localhost:8080/"
        },
        "id": "sKWCISai1Ehe",
        "outputId": "d6c53d1d-3ee2-4367-a192-66e4b724d447"
      },
      "execution_count": 2,
      "outputs": [
        {
          "output_type": "stream",
          "name": "stdout",
          "text": [
            "Ingrese su nombre: matias\n",
            "Ingrese su edad: 30\n",
            "Hola matias, tienes 30 años\n"
          ]
        }
      ]
    },
    {
      "cell_type": "code",
      "source": [
        "##Listas\n",
        "frutas = ['manzana','pera','naranja','sandia']\n",
        "### [0,1,2,3]"
      ],
      "metadata": {
        "id": "JCyhQ_uX2B7M"
      },
      "execution_count": 89,
      "outputs": []
    },
    {
      "cell_type": "code",
      "source": [
        "print(frutas[0])"
      ],
      "metadata": {
        "colab": {
          "base_uri": "https://localhost:8080/"
        },
        "id": "lIubD1vG2czJ",
        "outputId": "e9e2eede-53ae-4cf4-86e8-05d4c9ae7013"
      },
      "execution_count": 5,
      "outputs": [
        {
          "output_type": "stream",
          "name": "stdout",
          "text": [
            "manzana\n"
          ]
        }
      ]
    },
    {
      "cell_type": "code",
      "source": [
        "print(frutas[-1]) ## me trae el último"
      ],
      "metadata": {
        "colab": {
          "base_uri": "https://localhost:8080/"
        },
        "id": "VFWRXeH12oWb",
        "outputId": "a46d0613-006d-4c72-d916-5d412097495c"
      },
      "execution_count": 6,
      "outputs": [
        {
          "output_type": "stream",
          "name": "stdout",
          "text": [
            "sandia\n"
          ]
        }
      ]
    },
    {
      "cell_type": "code",
      "source": [
        "print(frutas[len(frutas)-1])"
      ],
      "metadata": {
        "colab": {
          "base_uri": "https://localhost:8080/"
        },
        "id": "zTgLtcQ87XDs",
        "outputId": "4ea9dd25-f13e-4e47-8aad-c75297024dbc"
      },
      "execution_count": 36,
      "outputs": [
        {
          "output_type": "stream",
          "name": "stdout",
          "text": [
            "sandia\n"
          ]
        }
      ]
    },
    {
      "cell_type": "code",
      "source": [
        "diccionario = {'nombre':'matias',\n",
        "               'edad':30,\n",
        "               'ciudad':'santiago'}"
      ],
      "metadata": {
        "id": "_oXYVgRH27KS"
      },
      "execution_count": 68,
      "outputs": []
    },
    {
      "cell_type": "code",
      "source": [
        "print(diccionario)"
      ],
      "metadata": {
        "colab": {
          "base_uri": "https://localhost:8080/"
        },
        "id": "lz_XEkO53g0K",
        "outputId": "3b572f6f-92b1-4983-febd-ca75d429a4d5"
      },
      "execution_count": 14,
      "outputs": [
        {
          "output_type": "stream",
          "name": "stdout",
          "text": [
            "{'nombre': 'matias', 'edad': 30, 'ciudad': 'santiago', 'profesion': 'cocinero'}\n"
          ]
        }
      ]
    },
    {
      "cell_type": "code",
      "source": [
        "print(diccionario['nombre'])\n",
        "print(diccionario['edad'])"
      ],
      "metadata": {
        "colab": {
          "base_uri": "https://localhost:8080/"
        },
        "id": "aLiI8L3P3uRd",
        "outputId": "508b0064-0941-4b75-a09f-251a62b81370"
      },
      "execution_count": 12,
      "outputs": [
        {
          "output_type": "stream",
          "name": "stdout",
          "text": [
            "matias\n",
            "30\n"
          ]
        }
      ]
    },
    {
      "cell_type": "code",
      "source": [
        "## para agrear información al diccionario\n",
        "diccionario['profesion'] = 'cocinero'"
      ],
      "metadata": {
        "id": "pvbr98n94E6y"
      },
      "execution_count": 69,
      "outputs": []
    },
    {
      "cell_type": "code",
      "source": [
        "## operaciones de metodos con string\n",
        "\n",
        "##suma de string\n",
        "\n",
        "print(diccionario['nombre']+' '+diccionario['ciudad'])"
      ],
      "metadata": {
        "colab": {
          "base_uri": "https://localhost:8080/"
        },
        "id": "4FUy94uo4hiM",
        "outputId": "cc79df7a-2e36-417e-93f2-16aad2857c28"
      },
      "execution_count": 16,
      "outputs": [
        {
          "output_type": "stream",
          "name": "stdout",
          "text": [
            "matias santiago\n"
          ]
        }
      ]
    },
    {
      "cell_type": "code",
      "source": [
        "## para saber el tiempo de datos que es la variable\n",
        "type(diccionario['nombre'])"
      ],
      "metadata": {
        "colab": {
          "base_uri": "https://localhost:8080/"
        },
        "id": "AO2YUPij41fc",
        "outputId": "c94724d8-9279-45b0-96d6-82542cd04366"
      },
      "execution_count": 21,
      "outputs": [
        {
          "output_type": "execute_result",
          "data": {
            "text/plain": [
              "str"
            ]
          },
          "metadata": {},
          "execution_count": 21
        }
      ]
    },
    {
      "cell_type": "code",
      "source": [
        "type(diccionario['edad'])"
      ],
      "metadata": {
        "colab": {
          "base_uri": "https://localhost:8080/"
        },
        "id": "aCGz73Rw5bHJ",
        "outputId": "a35f40ec-43ed-4a8c-b144-beaea20c0dd2"
      },
      "execution_count": 22,
      "outputs": [
        {
          "output_type": "execute_result",
          "data": {
            "text/plain": [
              "int"
            ]
          },
          "metadata": {},
          "execution_count": 22
        }
      ]
    },
    {
      "cell_type": "code",
      "source": [
        "## sumar int + un string / no se puede\n",
        "print(diccionario['nombre']+' '+diccionario['edad'])"
      ],
      "metadata": {
        "colab": {
          "base_uri": "https://localhost:8080/",
          "height": 193
        },
        "id": "j_dQ9FD45PjB",
        "outputId": "7f33216e-66be-4672-c312-bbd4870ea322"
      },
      "execution_count": 23,
      "outputs": [
        {
          "output_type": "error",
          "ename": "TypeError",
          "evalue": "can only concatenate str (not \"int\") to str",
          "traceback": [
            "\u001b[0;31m---------------------------------------------------------------------------\u001b[0m",
            "\u001b[0;31mTypeError\u001b[0m                                 Traceback (most recent call last)",
            "\u001b[0;32m<ipython-input-23-1f6009050f39>\u001b[0m in \u001b[0;36m<cell line: 2>\u001b[0;34m()\u001b[0m\n\u001b[1;32m      1\u001b[0m \u001b[0;31m## sumar int + un string\u001b[0m\u001b[0;34m\u001b[0m\u001b[0;34m\u001b[0m\u001b[0m\n\u001b[0;32m----> 2\u001b[0;31m \u001b[0mprint\u001b[0m\u001b[0;34m(\u001b[0m\u001b[0mdiccionario\u001b[0m\u001b[0;34m[\u001b[0m\u001b[0;34m'nombre'\u001b[0m\u001b[0;34m]\u001b[0m\u001b[0;34m+\u001b[0m\u001b[0;34m' '\u001b[0m\u001b[0;34m+\u001b[0m\u001b[0mdiccionario\u001b[0m\u001b[0;34m[\u001b[0m\u001b[0;34m'edad'\u001b[0m\u001b[0;34m]\u001b[0m\u001b[0;34m)\u001b[0m\u001b[0;34m\u001b[0m\u001b[0;34m\u001b[0m\u001b[0m\n\u001b[0m",
            "\u001b[0;31mTypeError\u001b[0m: can only concatenate str (not \"int\") to str"
          ]
        }
      ]
    },
    {
      "cell_type": "code",
      "source": [
        "## tengo que pasar el int a string con la función str()\n",
        "print(diccionario['nombre']+' '+str(diccionario['edad']))"
      ],
      "metadata": {
        "colab": {
          "base_uri": "https://localhost:8080/"
        },
        "id": "7Fq2DymI5i6o",
        "outputId": "0778c41b-30ad-47e2-8a3a-3316c6a839aa"
      },
      "execution_count": 25,
      "outputs": [
        {
          "output_type": "stream",
          "name": "stdout",
          "text": [
            "matias 30\n"
          ]
        }
      ]
    },
    {
      "cell_type": "code",
      "source": [
        "## multiplicar un string\n",
        "print(4*(diccionario['nombre']+' '))"
      ],
      "metadata": {
        "colab": {
          "base_uri": "https://localhost:8080/"
        },
        "id": "x-EUjYDG5oAZ",
        "outputId": "d4adefcc-d8fc-40f7-cd99-f90c64e4dddf"
      },
      "execution_count": 27,
      "outputs": [
        {
          "output_type": "stream",
          "name": "stdout",
          "text": [
            "matias matias matias matias \n"
          ]
        }
      ]
    },
    {
      "cell_type": "code",
      "source": [
        "## para contar cuantas veces esta x letra en el string se usa la función count()\n",
        "print(diccionario['nombre'].count('a'))"
      ],
      "metadata": {
        "colab": {
          "base_uri": "https://localhost:8080/"
        },
        "id": "1Mj9fRH66AbR",
        "outputId": "4df6b538-399f-4040-d52c-ea12e773236c"
      },
      "execution_count": 28,
      "outputs": [
        {
          "output_type": "stream",
          "name": "stdout",
          "text": [
            "2\n"
          ]
        }
      ]
    },
    {
      "cell_type": "code",
      "source": [
        "diccionario['direccion'] = 'MONEDA 2000'"
      ],
      "metadata": {
        "id": "xtTNPsiJ6O5b"
      },
      "execution_count": 70,
      "outputs": []
    },
    {
      "cell_type": "code",
      "source": [
        "## para mayuscula upper()\n",
        "print(diccionario['nombre'].upper())"
      ],
      "metadata": {
        "colab": {
          "base_uri": "https://localhost:8080/"
        },
        "id": "R-py5Z7T6asH",
        "outputId": "0417f42f-526d-4de5-ba00-601378268958"
      },
      "execution_count": 30,
      "outputs": [
        {
          "output_type": "stream",
          "name": "stdout",
          "text": [
            "MATIAS\n"
          ]
        }
      ]
    },
    {
      "cell_type": "code",
      "source": [
        "## la direccion con minuscula lower()\n",
        "print(diccionario['direccion'].lower())"
      ],
      "metadata": {
        "colab": {
          "base_uri": "https://localhost:8080/"
        },
        "id": "gSgosIAf6nDg",
        "outputId": "2ad45f48-c8e9-4df7-aa39-c93b7e2439ed"
      },
      "execution_count": 71,
      "outputs": [
        {
          "output_type": "stream",
          "name": "stdout",
          "text": [
            "moneda 2000\n"
          ]
        }
      ]
    },
    {
      "cell_type": "code",
      "source": [
        "### len te permite contar letras y espacios de un string\n",
        "print(len(4*(diccionario['nombre'])))"
      ],
      "metadata": {
        "colab": {
          "base_uri": "https://localhost:8080/"
        },
        "id": "bIXgo6_E6ymj",
        "outputId": "71170418-509f-45a3-84db-0c78cea79408"
      },
      "execution_count": 33,
      "outputs": [
        {
          "output_type": "stream",
          "name": "stdout",
          "text": [
            "24\n"
          ]
        }
      ]
    },
    {
      "cell_type": "code",
      "source": [
        "len(frutas)"
      ],
      "metadata": {
        "colab": {
          "base_uri": "https://localhost:8080/"
        },
        "id": "kt6m02v-7Rmz",
        "outputId": "d4e56c7b-d990-4bec-c1a2-b0b19e76128e"
      },
      "execution_count": 34,
      "outputs": [
        {
          "output_type": "execute_result",
          "data": {
            "text/plain": [
              "4"
            ]
          },
          "metadata": {},
          "execution_count": 34
        }
      ]
    },
    {
      "cell_type": "code",
      "source": [
        "## matematica en python\n",
        "print(2+5) #SUMA\n",
        "print(2-5) #RESTA\n",
        "print(2*5) #MULTIPLICACION\n",
        "print(5/2) #DIVISION\n",
        "print(5//2) #CUANTAS VECES CABE\n",
        "print(10%3) #CUOCIENTE DE LA DIVISION\n",
        "print(3**4) #exponencial"
      ],
      "metadata": {
        "colab": {
          "base_uri": "https://localhost:8080/"
        },
        "id": "Q8rZs_e-9UgB",
        "outputId": "99ce5c5f-236e-4eb1-c708-4a02c7a297d2"
      },
      "execution_count": 37,
      "outputs": [
        {
          "output_type": "stream",
          "name": "stdout",
          "text": [
            "7\n",
            "-3\n",
            "10\n",
            "2.5\n",
            "2\n",
            "1\n",
            "81\n"
          ]
        }
      ]
    },
    {
      "cell_type": "code",
      "source": [
        "5/2"
      ],
      "metadata": {
        "colab": {
          "base_uri": "https://localhost:8080/"
        },
        "id": "AWQBbwv9-PsF",
        "outputId": "f3492976-311f-403b-d915-05e1b54a8248"
      },
      "execution_count": 38,
      "outputs": [
        {
          "output_type": "execute_result",
          "data": {
            "text/plain": [
              "2.5"
            ]
          },
          "metadata": {},
          "execution_count": 38
        }
      ]
    },
    {
      "cell_type": "code",
      "source": [
        "import random\n",
        "opciones = ['cara','sello']\n",
        "resultado = random.choice(opciones)\n",
        "print(f'El resultado es: {resultado}')"
      ],
      "metadata": {
        "colab": {
          "base_uri": "https://localhost:8080/"
        },
        "id": "DCQ1eUP8-iGj",
        "outputId": "784c0f8b-a39d-4c9b-8094-4aa8b96987bf"
      },
      "execution_count": 47,
      "outputs": [
        {
          "output_type": "stream",
          "name": "stdout",
          "text": [
            "El resultado es: cara\n"
          ]
        }
      ]
    },
    {
      "cell_type": "code",
      "source": [],
      "metadata": {
        "id": "mANFznMF_LB1"
      },
      "execution_count": null,
      "outputs": []
    },
    {
      "cell_type": "markdown",
      "source": [
        "![gatito](https://t2.ea.ltmcdn.com/es/posts/7/4/3/como_ayudar_a_un_gatito_a_defecar_20347_orig.jpg)"
      ],
      "metadata": {
        "id": "8qcfL_za_7X_"
      }
    },
    {
      "cell_type": "code",
      "source": [
        "## funcion find para encontrar string dentro de string\n",
        "print(diccionario['nombre'].find('m'))\n",
        "print(diccionario['nombre'].find('a'))\n",
        "print(diccionario['nombre'].find('t'))\n",
        "print(diccionario['nombre'].find('i'))\n",
        "print(diccionario['nombre'].find('as'))\n",
        "print(diccionario['nombre'].find('s'))"
      ],
      "metadata": {
        "colab": {
          "base_uri": "https://localhost:8080/"
        },
        "id": "4cWENdtfAA_b",
        "outputId": "976ef5e9-e00e-498f-be4d-8b5d581eaff6"
      },
      "execution_count": 56,
      "outputs": [
        {
          "output_type": "stream",
          "name": "stdout",
          "text": [
            "0\n",
            "1\n",
            "2\n",
            "3\n",
            "4\n",
            "5\n"
          ]
        }
      ]
    },
    {
      "cell_type": "markdown",
      "source": [],
      "metadata": {
        "id": "vV6LzmavADTU"
      }
    },
    {
      "cell_type": "code",
      "source": [
        "print(diccionario)"
      ],
      "metadata": {
        "colab": {
          "base_uri": "https://localhost:8080/"
        },
        "id": "XLd2ik98CCU4",
        "outputId": "225ecfd0-8e77-4b9e-a9a1-6bb61609d121"
      },
      "execution_count": 76,
      "outputs": [
        {
          "output_type": "stream",
          "name": "stdout",
          "text": [
            "{'nombre': 'Juan', 'edad': 30, 'ciudad': 'santiago', 'profesion': 'cocinero', 'direccion': 'MONEDA 2000'}\n"
          ]
        }
      ]
    },
    {
      "cell_type": "code",
      "source": [
        "## es para remplazar string\n",
        "diccionario['nombre']=diccionario['nombre'].replace('matias','juan') ## cambiar el nombre\n",
        "print(diccionario['nombre'])"
      ],
      "metadata": {
        "colab": {
          "base_uri": "https://localhost:8080/"
        },
        "id": "T8-s4s7KBz9s",
        "outputId": "5662b218-376b-4706-eb9c-f3bb81e47444"
      },
      "execution_count": 72,
      "outputs": [
        {
          "output_type": "stream",
          "name": "stdout",
          "text": [
            "juan\n"
          ]
        }
      ]
    },
    {
      "cell_type": "code",
      "source": [
        "diccionario['nombre']=diccionario['nombre'].replace('j','J') ## cambiar una letra\n",
        "print(diccionario['nombre'])"
      ],
      "metadata": {
        "colab": {
          "base_uri": "https://localhost:8080/"
        },
        "id": "tOw6JajUCfDR",
        "outputId": "8c5c9568-b655-4daf-df5e-57a168f263ae"
      },
      "execution_count": 75,
      "outputs": [
        {
          "output_type": "stream",
          "name": "stdout",
          "text": [
            "Juan\n"
          ]
        }
      ]
    },
    {
      "cell_type": "code",
      "source": [
        "lista = '1,2,3,4,5,6'\n",
        "lista = lista.split(',') ## seprar string por un caracter\n",
        "print(lista)"
      ],
      "metadata": {
        "colab": {
          "base_uri": "https://localhost:8080/"
        },
        "id": "8t0x_ktmDa4g",
        "outputId": "ec43c757-da47-45f8-b843-67a4be8e5a1d"
      },
      "execution_count": 79,
      "outputs": [
        {
          "output_type": "stream",
          "name": "stdout",
          "text": [
            "['1', '2', '3', '4', '5', '6']\n"
          ]
        }
      ]
    },
    {
      "cell_type": "code",
      "source": [
        "type(lista)"
      ],
      "metadata": {
        "colab": {
          "base_uri": "https://localhost:8080/"
        },
        "id": "qw9Emli7DjPb",
        "outputId": "d4f2f6e8-0177-40f4-8e94-9ce11afc4645"
      },
      "execution_count": 80,
      "outputs": [
        {
          "output_type": "execute_result",
          "data": {
            "text/plain": [
              "list"
            ]
          },
          "metadata": {},
          "execution_count": 80
        }
      ]
    },
    {
      "cell_type": "code",
      "source": [
        "texto = '                    hola mundo       '\n",
        "print(texto.strip())"
      ],
      "metadata": {
        "colab": {
          "base_uri": "https://localhost:8080/"
        },
        "id": "BYwytZ3GEAzk",
        "outputId": "febc620d-d534-4d1a-fc55-a75ae9709f03"
      },
      "execution_count": 81,
      "outputs": [
        {
          "output_type": "stream",
          "name": "stdout",
          "text": [
            "hola mundo\n"
          ]
        }
      ]
    },
    {
      "cell_type": "code",
      "source": [
        "### funciones matematicas abs() y round() el valor abosluto y redondear\n",
        "print(abs(2-5))"
      ],
      "metadata": {
        "colab": {
          "base_uri": "https://localhost:8080/"
        },
        "id": "EC-0o40DERA9",
        "outputId": "8d840fa1-4eff-4ed8-a7c0-f855df9fb8f1"
      },
      "execution_count": 82,
      "outputs": [
        {
          "output_type": "stream",
          "name": "stdout",
          "text": [
            "3\n"
          ]
        }
      ]
    },
    {
      "cell_type": "code",
      "source": [
        "import time\n",
        "inicio = time.time()\n",
        "print(round(inicio,0))\n"
      ],
      "metadata": {
        "colab": {
          "base_uri": "https://localhost:8080/"
        },
        "id": "lDUTroOuEfmw",
        "outputId": "cdb0b4a8-15ba-46a5-b6b7-2d438f28024e"
      },
      "execution_count": 84,
      "outputs": [
        {
          "output_type": "stream",
          "name": "stdout",
          "text": [
            "1706831369.0\n"
          ]
        }
      ]
    },
    {
      "cell_type": "code",
      "source": [
        "## agregar elementos a una lista\n",
        "frutas = ['manzana','pera','naranja','sandia']\n",
        "frutas = frutas + ['limon']\n",
        "print(frutas)\n"
      ],
      "metadata": {
        "colab": {
          "base_uri": "https://localhost:8080/"
        },
        "id": "gNq-u4wWFFqI",
        "outputId": "dd05d343-73e4-49fc-d218-534cb1e8c10c"
      },
      "execution_count": 93,
      "outputs": [
        {
          "output_type": "stream",
          "name": "stdout",
          "text": [
            "['manzana', 'pera', 'naranja', 'sandia', 'limon']\n"
          ]
        }
      ]
    },
    {
      "cell_type": "code",
      "source": [
        "frutas.append('frutilla')\n",
        "print(frutas)"
      ],
      "metadata": {
        "colab": {
          "base_uri": "https://localhost:8080/"
        },
        "id": "dV491xmXFhT7",
        "outputId": "a9e01705-b0a9-4240-a6de-7034f595824a"
      },
      "execution_count": 94,
      "outputs": [
        {
          "output_type": "stream",
          "name": "stdout",
          "text": [
            "['manzana', 'pera', 'naranja', 'sandia', 'limon', 'frutilla']\n"
          ]
        }
      ]
    },
    {
      "cell_type": "code",
      "source": [
        "diccionario"
      ],
      "metadata": {
        "colab": {
          "base_uri": "https://localhost:8080/"
        },
        "id": "8T8hdVxWGOL1",
        "outputId": "0925715f-c8fe-4018-e5b3-0a290671d705"
      },
      "execution_count": 95,
      "outputs": [
        {
          "output_type": "execute_result",
          "data": {
            "text/plain": [
              "{'nombre': 'Juan',\n",
              " 'edad': 30,\n",
              " 'ciudad': 'santiago',\n",
              " 'profesion': 'cocinero',\n",
              " 'direccion': 'MONEDA 2000'}"
            ]
          },
          "metadata": {},
          "execution_count": 95
        }
      ]
    },
    {
      "cell_type": "code",
      "source": [
        "## .get() para buscar info en el diccionario\n",
        "print(diccionario.get('nombre','no diponible'))\n",
        "print(diccionario.get('sexo','no diponible'))"
      ],
      "metadata": {
        "colab": {
          "base_uri": "https://localhost:8080/"
        },
        "id": "R0QJLrpdGgoZ",
        "outputId": "2fe4a9d4-8f49-47e4-957c-f3fb7b1215db"
      },
      "execution_count": 96,
      "outputs": [
        {
          "output_type": "stream",
          "name": "stdout",
          "text": [
            "Juan\n",
            "no diponible\n"
          ]
        }
      ]
    },
    {
      "cell_type": "code",
      "source": [
        "import random\n",
        "dado=random.randint(1,6)\n",
        "print(dado)\n",
        "aleatorio = random.random()\n",
        "print(aleatorio)"
      ],
      "metadata": {
        "colab": {
          "base_uri": "https://localhost:8080/"
        },
        "id": "7mn-YimyHG_x",
        "outputId": "218ec745-150a-4cec-cea9-3bf1c2fb0233"
      },
      "execution_count": 101,
      "outputs": [
        {
          "output_type": "stream",
          "name": "stdout",
          "text": [
            "2\n",
            "0.7793074405189591\n"
          ]
        }
      ]
    },
    {
      "cell_type": "code",
      "source": [],
      "metadata": {
        "id": "lDCTOBTqIk02"
      },
      "execution_count": null,
      "outputs": []
    }
  ]
}