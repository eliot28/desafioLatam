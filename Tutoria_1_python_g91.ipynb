{
  "nbformat": 4,
  "nbformat_minor": 0,
  "metadata": {
    "colab": {
      "provenance": [],
      "authorship_tag": "ABX9TyMQJ2PyJxPhzhpWINjKz2lz",
      "include_colab_link": true
    },
    "kernelspec": {
      "name": "python3",
      "display_name": "Python 3"
    },
    "language_info": {
      "name": "python"
    }
  },
  "cells": [
    {
      "cell_type": "markdown",
      "metadata": {
        "id": "view-in-github",
        "colab_type": "text"
      },
      "source": [
        "<a href=\"https://colab.research.google.com/github/eliot28/desafioLatam/blob/main/Tutoria_1_python_g91.ipynb\" target=\"_parent\"><img src=\"https://colab.research.google.com/assets/colab-badge.svg\" alt=\"Open In Colab\"/></a>"
      ]
    },
    {
      "cell_type": "code",
      "execution_count": 1,
      "metadata": {
        "colab": {
          "base_uri": "https://localhost:8080/"
        },
        "id": "eKEVISrtHgwk",
        "outputId": "ba057820-8769-4ea3-d63c-3acf47160208"
      },
      "outputs": [
        {
          "output_type": "stream",
          "name": "stdout",
          "text": [
            "Ingresa tu nombre: matias\n",
            "Hola matias, bienvenido a python 😄\n"
          ]
        }
      ],
      "source": [
        "nombre = input('Ingresa tu nombre: ')\n",
        "print('Hola '+nombre+', bienvenido a python 😄')"
      ]
    },
    {
      "cell_type": "code",
      "source": [
        "## mi primera lista\n",
        "\n",
        "lista = [nombre,'juan','maria','fernanda','andres','diego']\n",
        "print(lista)"
      ],
      "metadata": {
        "colab": {
          "base_uri": "https://localhost:8080/"
        },
        "id": "WicrI5q7JfTz",
        "outputId": "9daad019-d221-478e-b8f2-43ff7cc8a7ac"
      },
      "execution_count": 2,
      "outputs": [
        {
          "output_type": "stream",
          "name": "stdout",
          "text": [
            "['matias', 'juan', 'maria', 'fernanda', 'andres', 'diego']\n"
          ]
        }
      ]
    },
    {
      "cell_type": "code",
      "source": [
        "lista[0] ## estoy filtrando"
      ],
      "metadata": {
        "colab": {
          "base_uri": "https://localhost:8080/",
          "height": 36
        },
        "id": "tnrtciXeJzMD",
        "outputId": "975491b1-4806-4ae0-bcfe-021f9698f41d"
      },
      "execution_count": 3,
      "outputs": [
        {
          "output_type": "execute_result",
          "data": {
            "text/plain": [
              "'matias'"
            ],
            "application/vnd.google.colaboratory.intrinsic+json": {
              "type": "string"
            }
          },
          "metadata": {},
          "execution_count": 3
        }
      ]
    },
    {
      "cell_type": "code",
      "source": [
        "lista[-1]"
      ],
      "metadata": {
        "colab": {
          "base_uri": "https://localhost:8080/",
          "height": 36
        },
        "id": "KRyDeYT_J1xf",
        "outputId": "494e6b50-1539-404c-a92f-f489247eec9b"
      },
      "execution_count": 4,
      "outputs": [
        {
          "output_type": "execute_result",
          "data": {
            "text/plain": [
              "'diego'"
            ],
            "application/vnd.google.colaboratory.intrinsic+json": {
              "type": "string"
            }
          },
          "metadata": {},
          "execution_count": 4
        }
      ]
    },
    {
      "cell_type": "code",
      "source": [
        "lista[3]"
      ],
      "metadata": {
        "colab": {
          "base_uri": "https://localhost:8080/",
          "height": 36
        },
        "id": "pZ6IklTRJ6hz",
        "outputId": "74e2b63f-494c-4dc2-e8fe-6642865d0baa"
      },
      "execution_count": 5,
      "outputs": [
        {
          "output_type": "execute_result",
          "data": {
            "text/plain": [
              "'fernanda'"
            ],
            "application/vnd.google.colaboratory.intrinsic+json": {
              "type": "string"
            }
          },
          "metadata": {},
          "execution_count": 5
        }
      ]
    },
    {
      "cell_type": "code",
      "source": [
        "## suma de listas\n",
        "paises = ['chile','argentina','ecuador']\n",
        "\n",
        "lista_final = lista + paises\n",
        "print(lista_final)"
      ],
      "metadata": {
        "colab": {
          "base_uri": "https://localhost:8080/"
        },
        "id": "gXJKywQoKp3Z",
        "outputId": "03193a9e-2325-48a7-c35d-76a3ed9295eb"
      },
      "execution_count": 6,
      "outputs": [
        {
          "output_type": "stream",
          "name": "stdout",
          "text": [
            "['matias', 'juan', 'maria', 'fernanda', 'andres', 'diego', 'chile', 'argentina', 'ecuador']\n"
          ]
        }
      ]
    },
    {
      "cell_type": "code",
      "source": [
        "## multiplicar la listas\n",
        "\n",
        "lista2 = lista * 2\n",
        "print(lista2)"
      ],
      "metadata": {
        "colab": {
          "base_uri": "https://localhost:8080/"
        },
        "id": "GULWNhymK6gS",
        "outputId": "80661948-4406-4f54-d146-e3aa0d307a1d"
      },
      "execution_count": 7,
      "outputs": [
        {
          "output_type": "stream",
          "name": "stdout",
          "text": [
            "['matias', 'juan', 'maria', 'fernanda', 'andres', 'diego', 'matias', 'juan', 'maria', 'fernanda', 'andres', 'diego']\n"
          ]
        }
      ]
    },
    {
      "cell_type": "code",
      "source": [
        "## diccionarios\n",
        "\n",
        "diccionario = {'nombre':'Juan',\n",
        "               'edad':28,\n",
        "               'ciudad':'talca'}\n",
        "\n",
        "diccionario['nombre'] ## es para filtrar el [ ] cuando esta despues de una variable"
      ],
      "metadata": {
        "colab": {
          "base_uri": "https://localhost:8080/",
          "height": 36
        },
        "id": "p_9l7M6tLD6D",
        "outputId": "6d760636-4c34-45c0-8357-5200074cea84"
      },
      "execution_count": 15,
      "outputs": [
        {
          "output_type": "execute_result",
          "data": {
            "text/plain": [
              "'nombre'"
            ],
            "application/vnd.google.colaboratory.intrinsic+json": {
              "type": "string"
            }
          },
          "metadata": {},
          "execution_count": 15
        }
      ]
    },
    {
      "cell_type": "code",
      "source": [
        "print(diccionario['edad'])"
      ],
      "metadata": {
        "colab": {
          "base_uri": "https://localhost:8080/"
        },
        "id": "nX7ePnJiM5MH",
        "outputId": "83f5ddf0-aac0-4ba8-875c-02a7b64eb0ae"
      },
      "execution_count": 11,
      "outputs": [
        {
          "output_type": "stream",
          "name": "stdout",
          "text": [
            "28\n"
          ]
        }
      ]
    },
    {
      "cell_type": "code",
      "source": [
        "print(diccionario['ciudad'])"
      ],
      "metadata": {
        "colab": {
          "base_uri": "https://localhost:8080/"
        },
        "id": "OcXf7nvuNLIu",
        "outputId": "91ffd5f7-9d1f-464e-b936-bbeddb55c1db"
      },
      "execution_count": 12,
      "outputs": [
        {
          "output_type": "stream",
          "name": "stdout",
          "text": [
            "talca\n"
          ]
        }
      ]
    },
    {
      "cell_type": "code",
      "source": [
        "## agregar info a un diccionario\n",
        "\n",
        "diccionario['sexo'] = 'masculino'\n",
        "\n",
        "print(diccionario)"
      ],
      "metadata": {
        "colab": {
          "base_uri": "https://localhost:8080/"
        },
        "id": "V25wZfN9OZFN",
        "outputId": "b4424dbd-d1ef-4bc8-fec1-866660a643d6"
      },
      "execution_count": 16,
      "outputs": [
        {
          "output_type": "stream",
          "name": "stdout",
          "text": [
            "{'nombre': 'nombre', 'edad': 28, 'ciudad': 'talca', 'sexo': 'masculino'}\n"
          ]
        }
      ]
    },
    {
      "cell_type": "code",
      "source": [
        "diccionario['ciudad'] = 'Santiago'\n",
        "\n",
        "diccionario"
      ],
      "metadata": {
        "colab": {
          "base_uri": "https://localhost:8080/"
        },
        "id": "UixzHgekOsNd",
        "outputId": "0b7b4e13-927f-4700-fd7d-1f948e8819ad"
      },
      "execution_count": 17,
      "outputs": [
        {
          "output_type": "execute_result",
          "data": {
            "text/plain": [
              "{'nombre': 'nombre', 'edad': 28, 'ciudad': 'Santiago', 'sexo': 'masculino'}"
            ]
          },
          "metadata": {},
          "execution_count": 17
        }
      ]
    },
    {
      "cell_type": "code",
      "source": [
        "## operadores en python\n",
        "## +\n",
        "print('hola '+'mundo')\n",
        "print(3+2)"
      ],
      "metadata": {
        "colab": {
          "base_uri": "https://localhost:8080/"
        },
        "id": "Vk2xqQh5RiFj",
        "outputId": "19389cc1-d8b1-4306-e627-48cb282018e2"
      },
      "execution_count": 18,
      "outputs": [
        {
          "output_type": "stream",
          "name": "stdout",
          "text": [
            "hola mundo\n"
          ]
        }
      ]
    },
    {
      "cell_type": "code",
      "source": [
        "### *\n",
        "print(3*'hola')\n",
        "print(3*3)"
      ],
      "metadata": {
        "colab": {
          "base_uri": "https://localhost:8080/"
        },
        "id": "iEDMaZ2BRoC2",
        "outputId": "a2c0216e-cbf4-44d8-cb5e-8b76cbe34665"
      },
      "execution_count": 20,
      "outputs": [
        {
          "output_type": "stream",
          "name": "stdout",
          "text": [
            "holaholahola\n",
            "9\n"
          ]
        }
      ]
    },
    {
      "cell_type": "code",
      "source": [
        "## funcion count()\n",
        "texto = 'JSON (acrónimo de JavaScript Object Notation, notación de objeto de JavaScript) es un formato de texto sencillo para el intercambio de datos. '\n",
        "print(texto.count('a'))"
      ],
      "metadata": {
        "colab": {
          "base_uri": "https://localhost:8080/"
        },
        "id": "3OnvL-atR2dq",
        "outputId": "c5554010-4e04-47da-9935-def5cf5cd0bc"
      },
      "execution_count": 25,
      "outputs": [
        {
          "output_type": "stream",
          "name": "stdout",
          "text": [
            "12\n"
          ]
        }
      ]
    },
    {
      "cell_type": "code",
      "source": [
        "## contar el largo\n",
        "print(len(texto))"
      ],
      "metadata": {
        "colab": {
          "base_uri": "https://localhost:8080/"
        },
        "id": "184fl_thSi-v",
        "outputId": "b450e9bb-cc23-4ec3-a2d0-a0fd79132c75"
      },
      "execution_count": 26,
      "outputs": [
        {
          "output_type": "stream",
          "name": "stdout",
          "text": [
            "142\n"
          ]
        }
      ]
    },
    {
      "cell_type": "code",
      "source": [
        "## cuantas letas tiene el texto\n",
        "print(len(texto)-texto.count(' '))"
      ],
      "metadata": {
        "colab": {
          "base_uri": "https://localhost:8080/"
        },
        "id": "D7JW7ygOTCYQ",
        "outputId": "1231256e-25dc-408d-a0be-ca2682032bd4"
      },
      "execution_count": 28,
      "outputs": [
        {
          "output_type": "stream",
          "name": "stdout",
          "text": [
            "120\n"
          ]
        }
      ]
    },
    {
      "cell_type": "code",
      "source": [
        "## cuantas letas tiene el texto\n",
        "texto_sin_espacios = texto.replace(' ','')\n",
        "len(texto_sin_espacios)"
      ],
      "metadata": {
        "colab": {
          "base_uri": "https://localhost:8080/"
        },
        "id": "NXRWrDY9SvKX",
        "outputId": "e469ab6c-4711-4b58-b15c-c6bd9c7f41eb"
      },
      "execution_count": 29,
      "outputs": [
        {
          "output_type": "execute_result",
          "data": {
            "text/plain": [
              "120"
            ]
          },
          "metadata": {},
          "execution_count": 29
        }
      ]
    },
    {
      "cell_type": "code",
      "source": [
        "## upper y lower\n",
        "print('JavaScript'.lower())"
      ],
      "metadata": {
        "colab": {
          "base_uri": "https://localhost:8080/"
        },
        "id": "Z48wA7xmSIIT",
        "outputId": "4b85c73e-762b-4788-fa69-1e1ee4799769"
      },
      "execution_count": 31,
      "outputs": [
        {
          "output_type": "stream",
          "name": "stdout",
          "text": [
            "javascript\n"
          ]
        }
      ]
    },
    {
      "cell_type": "code",
      "source": [
        "print('JavaScript'.upper())"
      ],
      "metadata": {
        "colab": {
          "base_uri": "https://localhost:8080/"
        },
        "id": "wGQtCGVtTcnN",
        "outputId": "a10c594e-5341-4736-a397-35cca5d26e28"
      },
      "execution_count": 32,
      "outputs": [
        {
          "output_type": "stream",
          "name": "stdout",
          "text": [
            "JAVASCRIPT\n"
          ]
        }
      ]
    },
    {
      "cell_type": "code",
      "source": [
        "### aritmetica\n",
        "print(2+3)\n",
        "print(2-3)\n",
        "print(2*3)\n",
        "print(2/3)\n",
        "print(4//3) ## parte entera de la division\n",
        "print(14%3) ## cuociente\n",
        "print(2**3)"
      ],
      "metadata": {
        "colab": {
          "base_uri": "https://localhost:8080/"
        },
        "id": "g_ha1S-mTftH",
        "outputId": "a8bc9395-75ee-4664-e42b-6ebfadb57e23"
      },
      "execution_count": 35,
      "outputs": [
        {
          "output_type": "stream",
          "name": "stdout",
          "text": [
            "5\n",
            "-1\n",
            "6\n",
            "0.6666666666666666\n",
            "1\n",
            "2\n",
            "8\n"
          ]
        }
      ]
    },
    {
      "cell_type": "code",
      "source": [
        "import random as rd\n",
        "\n",
        "rd.randint(1,100)"
      ],
      "metadata": {
        "colab": {
          "base_uri": "https://localhost:8080/"
        },
        "id": "oMFn_lIPUUVf",
        "outputId": "c487ea7d-3c11-430e-bffa-5d5df0a07ddc"
      },
      "execution_count": 43,
      "outputs": [
        {
          "output_type": "execute_result",
          "data": {
            "text/plain": [
              "33"
            ]
          },
          "metadata": {},
          "execution_count": 43
        }
      ]
    },
    {
      "cell_type": "code",
      "source": [
        "moneda = ['cara','sello']\n",
        "rd.choice(moneda)"
      ],
      "metadata": {
        "colab": {
          "base_uri": "https://localhost:8080/",
          "height": 36
        },
        "id": "mIBQFYwCUsCz",
        "outputId": "7e96468c-813f-4404-b3b9-f69ce5a9158b"
      },
      "execution_count": 42,
      "outputs": [
        {
          "output_type": "execute_result",
          "data": {
            "text/plain": [
              "'cara'"
            ],
            "application/vnd.google.colaboratory.intrinsic+json": {
              "type": "string"
            }
          },
          "metadata": {},
          "execution_count": 42
        }
      ]
    },
    {
      "cell_type": "code",
      "source": [
        "import numpy as np\n",
        "\n",
        "np.pi"
      ],
      "metadata": {
        "colab": {
          "base_uri": "https://localhost:8080/"
        },
        "id": "S-M6spcCVMiq",
        "outputId": "e358f137-1a8e-4bf7-a2ed-d96044822934"
      },
      "execution_count": 44,
      "outputs": [
        {
          "output_type": "execute_result",
          "data": {
            "text/plain": [
              "3.141592653589793"
            ]
          },
          "metadata": {},
          "execution_count": 44
        }
      ]
    },
    {
      "cell_type": "markdown",
      "source": [
        "Ejercicios para hacer en tutoria.\n",
        "\n",
        "\n",
        "\n",
        "\n",
        "1) calcular el interes de un credito 1.000 usd tasa del 0,2% mensual y n meses"
      ],
      "metadata": {
        "id": "TMimkWLmVYOY"
      }
    },
    {
      "cell_type": "code",
      "source": [
        "monto = 1000\n",
        "meses = int(input('Ingrese los meses: '))\n",
        "tasa = 0.02\n",
        "\n",
        "interes = tasa*meses*monto\n",
        "\n",
        "print('El interes total de credito es: '+str(round(interes))+'usd')"
      ],
      "metadata": {
        "colab": {
          "base_uri": "https://localhost:8080/"
        },
        "id": "QTRp3ZtvVn1w",
        "outputId": "397c1691-57a3-4203-e357-e9a40c8017dd"
      },
      "execution_count": 52,
      "outputs": [
        {
          "output_type": "stream",
          "name": "stdout",
          "text": [
            "Ingrese los meses: 12\n",
            "El interes total de credito es: 240usd\n"
          ]
        }
      ]
    },
    {
      "cell_type": "code",
      "source": [
        "paises = {'Chile':'Santiago',\n",
        "          'Argentina':'Buenos Aires',\n",
        "          'Peru':'Lima'}\n",
        "\n",
        "pais = input('ingresa pais:')\n",
        "\n"
      ],
      "metadata": {
        "colab": {
          "base_uri": "https://localhost:8080/"
        },
        "id": "y08iEt0HY78T",
        "outputId": "e9b9e022-4b57-489b-d61a-b247b4f760fc"
      },
      "execution_count": 56,
      "outputs": [
        {
          "name": "stdout",
          "output_type": "stream",
          "text": [
            "ingresa pais:bolivia\n"
          ]
        }
      ]
    },
    {
      "cell_type": "code",
      "source": [
        "paises.get(pais,'No existe')"
      ],
      "metadata": {
        "colab": {
          "base_uri": "https://localhost:8080/",
          "height": 36
        },
        "id": "rERM1B36ZjR4",
        "outputId": "112639e9-9e53-485d-e733-e78f36acc572"
      },
      "execution_count": 57,
      "outputs": [
        {
          "output_type": "execute_result",
          "data": {
            "text/plain": [
              "'No existe'"
            ],
            "application/vnd.google.colaboratory.intrinsic+json": {
              "type": "string"
            }
          },
          "metadata": {},
          "execution_count": 57
        }
      ]
    },
    {
      "cell_type": "code",
      "source": [
        "int() # enteros\n",
        "float() # decimales"
      ],
      "metadata": {
        "id": "XRckDLYpbW5K"
      },
      "execution_count": null,
      "outputs": []
    }
  ]
}