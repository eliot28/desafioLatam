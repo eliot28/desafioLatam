{
  "nbformat": 4,
  "nbformat_minor": 0,
  "metadata": {
    "colab": {
      "provenance": [],
      "authorship_tag": "ABX9TyOOs8AW/NTyaRI+N5oMcqky",
      "include_colab_link": true
    },
    "kernelspec": {
      "name": "python3",
      "display_name": "Python 3"
    },
    "language_info": {
      "name": "python"
    }
  },
  "cells": [
    {
      "cell_type": "markdown",
      "metadata": {
        "id": "view-in-github",
        "colab_type": "text"
      },
      "source": [
        "<a href=\"https://colab.research.google.com/github/eliot28/desafioLatam/blob/main/Funciones_importantes.ipynb\" target=\"_parent\"><img src=\"https://colab.research.google.com/assets/colab-badge.svg\" alt=\"Open In Colab\"/></a>"
      ]
    },
    {
      "cell_type": "code",
      "execution_count": null,
      "metadata": {
        "id": "Qc4Sx7yuOyak"
      },
      "outputs": [],
      "source": [
        "def calidad_datos(data):\n",
        "    tipos = pd.DataFrame({'tipo': data.dtypes},index=data.columns)\n",
        "    na = pd.DataFrame({'nulos': data.isna().sum()}, index=data.columns)\n",
        "    na_prop = pd.DataFrame({'porc_nulos':data.isna().sum()/data.shape[0]},\n",
        "    \t\t  index=data.columns)\n",
        "    ceros = pd.DataFrame({'ceros':[data.loc[data[col]==0,col].shape[0] for col in data.columns]},\n",
        "    \t\tindex= data.columns)\n",
        "    ceros_prop = pd.DataFrame({'porc_ceros':[data.loc[data[col]==0,col].shape[0]/data.shape[0] for col in data.columns]},\n",
        "    \t\t\tindex= data.columns)\n",
        "    summary = data.describe(include='all').T\n",
        "\n",
        "    summary['dist_IQR'] = summary['75%'] - summary['25%']\n",
        "    summary['limit_inf'] = summary['25%'] - summary['dist_IQR']*1.5\n",
        "    summary['limit_sup'] = summary['75%'] + summary['dist_IQR']*1.5\n",
        "\n",
        "    summary['outliers'] = data.apply(lambda x: sum(np.where((x<summary['limit_inf'][x.name]) | (x>summary['limit_sup'][x.name]),1 ,0)) if x.name in summary['limit_inf'].dropna().index else 0)\n",
        "\n",
        "\n",
        "    return pd.concat([tipos, na, na_prop, ceros, ceros_prop, summary], axis=1).sort_values('tipo')"
      ]
    },
    {
      "cell_type": "code",
      "source": [
        "plt.figure(figsize=(10, 8))\n",
        "for n, i in enumerate(calidad.index):\n",
        "    plt.subplot(3, 3, n + 1)\n",
        "    if calidad.loc[i, 'tipo']=='object':\n",
        "        sns.countplot(y= data[i], order = data[i].value_counts().index)\n",
        "        plt.title('Frecuencias para {}'.format(i))\n",
        "        plt.tight_layout()\n",
        "    else:\n",
        "        sns.distplot(data[i])\n",
        "        plt.title('Distribución para {}'.format(i))\n",
        "        plt.tight_layout()"
      ],
      "metadata": {
        "id": "qhwV1hrUO_em"
      },
      "execution_count": null,
      "outputs": []
    },
    {
      "cell_type": "code",
      "source": [
        "sns.heatmap(corr_data, cmap='Reds', annot=True)\n",
        "plt.title('Correlaciones')"
      ],
      "metadata": {
        "id": "2zMsriyxPD9N"
      },
      "execution_count": null,
      "outputs": []
    },
    {
      "cell_type": "code",
      "source": [
        "def plot_distributions(data, columns_review=None):\n",
        "    plt.rcParams.update({'font.size': 25})\n",
        "    if columns_review:\n",
        "        columns_distributions = columns_review\n",
        "    else:\n",
        "        columns_distributions = data.columns\n",
        "\n",
        "    plt.figure(figsize=(30, 30))\n",
        "    number_rows = len(columns_distributions)//2 + len(columns_distributions)%2\n",
        "    for n, i in enumerate(columns_distributions):\n",
        "        plt.subplot(5, 2, n + 1)\n",
        "        if data.dtypes[i]=='O':\n",
        "            sns.countplot(y= data[i], order=data[i].value_counts().iloc[:7].index)\n",
        "            plt.title('Frecuencias para {}'.format(i))\n",
        "        else:\n",
        "            sns.distplot(data[i])\n",
        "            plt.title('Distribución para {}'.format(i))\n",
        "        plt.tight_layout()"
      ],
      "metadata": {
        "id": "HAvWLjQPcmxE"
      },
      "execution_count": null,
      "outputs": []
    },
    {
      "cell_type": "code",
      "source": [
        "def anova_test(data, var_obj, var_cat):\n",
        "    # Agrupar los datos por día\n",
        "    grouped_data = [data[var_obj][data[var_cat] == sex] for sex in data[var_cat].unique()]\n",
        "\n",
        "    # Realizar el test de ANOVA\n",
        "    statistic, p_value = stats.f_oneway(*grouped_data)\n",
        "\n",
        "    # Imprimir el resultado del test\n",
        "    alpha = 0.05\n",
        "    if p_value < alpha:\n",
        "        print(\"El test de ANOVA es significativo, al menos un grupo es diferente.\")\n",
        "    else:\n",
        "        print(\"No hay evidencia suficiente para rechazar la hipótesis nula.\")\n",
        "\n",
        "    # Graficar los datos con un boxplot\n",
        "    sns.boxplot(x=var_cat, y=var_obj, data=data)\n",
        "    plt.title(f'Boxplot {var_obj} vs {var_cat}')\n",
        "    plt.show()"
      ],
      "metadata": {
        "id": "kinqBlimg6Ih"
      },
      "execution_count": null,
      "outputs": []
    },
    {
      "cell_type": "code",
      "source": [
        "stats.f_oneway()"
      ],
      "metadata": {
        "id": "alecSB2FdoLm"
      },
      "execution_count": null,
      "outputs": []
    },
    {
      "cell_type": "code",
      "source": [
        "#6\n",
        "def procesamiento_data(df_economy, df_business):\n",
        "  # etiquetar\n",
        "  # concatenar\n",
        "\n",
        "  #tipos de datos\n",
        "  # transformaciones\n",
        "\n",
        "  # eliminar lo que no se va usar\n",
        "  # crear nuevas columnas\n",
        "\n",
        "  # get_dammies para variables categoricas\n",
        "\n",
        "  return df_final"
      ],
      "metadata": {
        "id": "CwQP--rCfQR6"
      },
      "execution_count": null,
      "outputs": []
    },
    {
      "cell_type": "code",
      "source": [
        "models = [\n",
        "    {\n",
        "        'name': 'LinearRegression',\n",
        "        'model': LinearRegression(),\n",
        "        'params': {}\n",
        "    },\n",
        "    {\n",
        "        'name': 'Ridge',\n",
        "        'model': Ridge(),\n",
        "        'params':}\n",
        "    },\n",
        "    {\n",
        "        'name': 'Lasso',\n",
        "        'model': Lasso(),\n",
        "        'params': }\n",
        "    },\n",
        "    {\n",
        "        'name': 'ElasticNet',\n",
        "        'model': ElasticNet(),\n",
        "        'params':\n",
        "    },\n",
        "    {\n",
        "        'name': 'RandomForestRegressor',\n",
        "        'model': RandomForestRegressor(),\n",
        "        'params':\n",
        "    }\n",
        "]"
      ],
      "metadata": {
        "id": "9zTqkeYyhJBP"
      },
      "execution_count": null,
      "outputs": []
    },
    {
      "cell_type": "markdown",
      "source": [],
      "metadata": {
        "id": "Q2C9EmugbWoy"
      }
    }
  ]
}