{
  "nbformat": 4,
  "nbformat_minor": 0,
  "metadata": {
    "colab": {
      "provenance": [],
      "authorship_tag": "ABX9TyNhRgrjED7W1UbGtl1ITGEL",
      "include_colab_link": true
    },
    "kernelspec": {
      "name": "python3",
      "display_name": "Python 3"
    },
    "language_info": {
      "name": "python"
    }
  },
  "cells": [
    {
      "cell_type": "markdown",
      "metadata": {
        "id": "view-in-github",
        "colab_type": "text"
      },
      "source": [
        "<a href=\"https://colab.research.google.com/github/eliot28/desafioLatam/blob/main/Tutoria_2_python_g91.ipynb\" target=\"_parent\"><img src=\"https://colab.research.google.com/assets/colab-badge.svg\" alt=\"Open In Colab\"/></a>"
      ]
    },
    {
      "cell_type": "code",
      "source": [
        "while True: ## esto no seria un algoritmo\n",
        "  print('Hola')\n",
        "\n",
        "  ## no ejecutar nunca\n",
        "\n",
        "\n",
        " # != ## distinto\n",
        " # <> ## distinto\n",
        "\n",
        "\n",
        "#variables boleeanas\n",
        " True\n",
        " False\n",
        "\n",
        "# operadores logicos\n",
        "and\n",
        "or\n",
        "\n"
      ],
      "metadata": {
        "id": "sy9Pa0YfEvhW"
      },
      "execution_count": null,
      "outputs": []
    },
    {
      "cell_type": "code",
      "source": [
        "print(True and True)"
      ],
      "metadata": {
        "colab": {
          "base_uri": "https://localhost:8080/"
        },
        "id": "lEE5dji8G_fo",
        "outputId": "e633ba96-6d62-4c44-a34f-82f6c2c34d6f"
      },
      "execution_count": 1,
      "outputs": [
        {
          "output_type": "stream",
          "name": "stdout",
          "text": [
            "True\n"
          ]
        }
      ]
    },
    {
      "cell_type": "code",
      "source": [
        "print(True and False and True)\n",
        "print(True and False)\n",
        "print(True or False)\n",
        "print(False or False)\n",
        "\n",
        "#(a > 5) and (a >-2) and"
      ],
      "metadata": {
        "colab": {
          "base_uri": "https://localhost:8080/"
        },
        "id": "rfxKQcJNHH9s",
        "outputId": "20a135da-3197-4de1-9361-73e3d822e0f0"
      },
      "execution_count": 5,
      "outputs": [
        {
          "output_type": "stream",
          "name": "stdout",
          "text": [
            "False\n",
            "False\n",
            "True\n",
            "False\n"
          ]
        }
      ]
    },
    {
      "cell_type": "code",
      "source": [
        "### sintaxis del if, else, elif\n",
        "\n",
        "## ejemplo de if else\n",
        "argumento = 3>=4\n",
        "if (argumento):\n",
        "  la_accion_true\n",
        "else:\n",
        "  la_accion_false\n",
        "\n",
        "\n",
        "## ejemplo de if, elif, else\n",
        "\n",
        "argumento2 = True and False\n",
        "\n",
        "argumento3 = True or False\n",
        "\n",
        "if (argumento2):\n",
        "  la_accion_true_del_argumento2\n",
        "elif (argumento3):\n",
        "  la_accion_true_del_argumento3\n",
        "else:\n",
        "  la_accion_falsa_ambos\n",
        "\n"
      ],
      "metadata": {
        "id": "nPr6MrfKILYS"
      },
      "execution_count": null,
      "outputs": []
    },
    {
      "cell_type": "code",
      "source": [
        "password = 'hola123'\n",
        "clave = input('Ingrese su clave: ')\n",
        "\n",
        "if clave == password:\n",
        "  print('clave correcta')\n",
        "else:\n",
        "  print('clave incorrecta')"
      ],
      "metadata": {
        "colab": {
          "base_uri": "https://localhost:8080/"
        },
        "id": "s6I3BZJtKDmh",
        "outputId": "a977483f-c313-4ce9-d503-e992488753f5"
      },
      "execution_count": 7,
      "outputs": [
        {
          "output_type": "stream",
          "name": "stdout",
          "text": [
            "Ingrese su clave: hola123\n",
            "clave correcta\n"
          ]
        }
      ]
    },
    {
      "cell_type": "code",
      "source": [
        "### algoritmo que prediga el resultado de la copa america en los 90min\n",
        "\n",
        "import random"
      ],
      "metadata": {
        "id": "1inQg3u8KihL"
      },
      "execution_count": 8,
      "outputs": []
    },
    {
      "cell_type": "code",
      "source": [
        "resultado = random.randint(1,3)\n",
        "print(resultado)"
      ],
      "metadata": {
        "colab": {
          "base_uri": "https://localhost:8080/"
        },
        "id": "LzKza4D2LMWI",
        "outputId": "9789ec9d-5f78-44b0-b0f5-5085ceab0f01"
      },
      "execution_count": 12,
      "outputs": [
        {
          "output_type": "stream",
          "name": "stdout",
          "text": [
            "3\n"
          ]
        }
      ]
    },
    {
      "cell_type": "code",
      "source": [
        "resultado = random.choice(['Gana Argentina','Empate','Gana Colombia'])\n",
        "#print(resultado)"
      ],
      "metadata": {
        "id": "i0FxnX-jMG5-"
      },
      "execution_count": 33,
      "outputs": []
    },
    {
      "cell_type": "code",
      "source": [
        "if resultado == 'Gana Argentina':\n",
        "  print('Gana Argentina')\n",
        "elif resultado == 'Empate':\n",
        "  print('Empate :/')\n",
        "elif resultado == 'Gana Colombia':\n",
        "  print('Gana Colombia')"
      ],
      "metadata": {
        "colab": {
          "base_uri": "https://localhost:8080/"
        },
        "id": "lgFsHKFvMlzJ",
        "outputId": "c05ccf44-22ec-4d4f-de33-2e49f5dabc0b"
      },
      "execution_count": 34,
      "outputs": [
        {
          "output_type": "stream",
          "name": "stdout",
          "text": [
            "Gana Colombia\n"
          ]
        }
      ]
    },
    {
      "cell_type": "code",
      "source": [
        "if resultado == 'Gana Argentina':\n",
        "  print('Gana Argentina')\n",
        "elif resultado == 'Empate':\n",
        "  print('Empate :/')\n",
        "else:\n",
        "  print('Gana Colombia')"
      ],
      "metadata": {
        "colab": {
          "base_uri": "https://localhost:8080/"
        },
        "id": "4Zts-wVlM5t9",
        "outputId": "5c69910a-a9b2-4993-f7d5-dc2a14eb615a"
      },
      "execution_count": 35,
      "outputs": [
        {
          "output_type": "stream",
          "name": "stdout",
          "text": [
            "Gana Colombia\n"
          ]
        }
      ]
    },
    {
      "cell_type": "code",
      "source": [
        "### tenemos dos tipos de ciclos iterativos\n",
        "range = [0,1,2,3,4]\n",
        "\n",
        "for variable in range:\n",
        "  accion_sobre_cada_elemento_del_rango\n",
        "\n",
        "\n",
        "\n",
        "while (argumento_while):\n",
        "  la_accion_true_del_argumento_while\n",
        "\n",
        "\n",
        "### tiene que tener fin para while\n"
      ],
      "metadata": {
        "id": "zC0xqfFnNUxF"
      },
      "execution_count": null,
      "outputs": []
    },
    {
      "cell_type": "code",
      "source": [
        "range = [0,1,2,3,4]\n",
        "\n",
        "for variable in range:\n",
        "  #print(variable)\n",
        "  sum = variable +1\n",
        "  print(variable,sum)\n"
      ],
      "metadata": {
        "colab": {
          "base_uri": "https://localhost:8080/"
        },
        "id": "c0CO0CRLOwQU",
        "outputId": "5a286254-0473-4d1e-b1bd-60519b8514cc"
      },
      "execution_count": 39,
      "outputs": [
        {
          "output_type": "stream",
          "name": "stdout",
          "text": [
            "0 1\n",
            "1 2\n",
            "2 3\n",
            "3 4\n",
            "4 5\n"
          ]
        }
      ]
    },
    {
      "cell_type": "code",
      "source": [
        "print(variable)"
      ],
      "metadata": {
        "colab": {
          "base_uri": "https://localhost:8080/"
        },
        "id": "bCFgXhhAPoFi",
        "outputId": "b37a7589-e9ce-4e05-c4a8-f749b36bab4e"
      },
      "execution_count": 40,
      "outputs": [
        {
          "output_type": "stream",
          "name": "stdout",
          "text": [
            "4\n"
          ]
        }
      ]
    },
    {
      "cell_type": "code",
      "source": [
        "range = [0,1,2,3,4]\n",
        "\n",
        "for i in range:\n",
        "  #print(variable)\n",
        "  sum = i +1\n",
        "  print(i,sum)"
      ],
      "metadata": {
        "colab": {
          "base_uri": "https://localhost:8080/"
        },
        "id": "HkMzeuxnPv5w",
        "outputId": "d805bce1-9537-448d-f9de-f56b37c28a29"
      },
      "execution_count": 41,
      "outputs": [
        {
          "output_type": "stream",
          "name": "stdout",
          "text": [
            "0 1\n",
            "1 2\n",
            "2 3\n",
            "3 4\n",
            "4 5\n"
          ]
        }
      ]
    },
    {
      "cell_type": "code",
      "source": [
        "print(i)"
      ],
      "metadata": {
        "colab": {
          "base_uri": "https://localhost:8080/"
        },
        "id": "7H8Bk4w7PzYh",
        "outputId": "aa48b7cb-f99f-4cfa-ca8d-f60817a4f57d"
      },
      "execution_count": 42,
      "outputs": [
        {
          "output_type": "stream",
          "name": "stdout",
          "text": [
            "4\n"
          ]
        }
      ]
    },
    {
      "cell_type": "code",
      "source": [
        "### while ejemplo clave de seguridad\n",
        "\n",
        "\n",
        "password = 'hola123'\n",
        "clave = input('Ingrese su clave: ')\n",
        "\n",
        "while True:\n",
        "  if clave == password:\n",
        "    print('clave correcta')\n",
        "    print('fin del while')\n",
        "    break ## salir del ciclo\n",
        "  else:\n",
        "    print('clave incorrecta')\n",
        "    clave = input('Ingrese nuevamente su clave: ')"
      ],
      "metadata": {
        "colab": {
          "base_uri": "https://localhost:8080/"
        },
        "id": "OOtC_02rP8VJ",
        "outputId": "f2c3e8f1-e811-4408-854d-695e868d9d5b"
      },
      "execution_count": 43,
      "outputs": [
        {
          "output_type": "stream",
          "name": "stdout",
          "text": [
            "Ingrese su clave: asdfad\n",
            "clave incorrecta\n",
            "Ingrese nuevamente su clave: adfadf\n",
            "clave incorrecta\n",
            "Ingrese nuevamente su clave: hola1224\n",
            "clave incorrecta\n",
            "Ingrese nuevamente su clave: hola123\n",
            "clave correcta\n",
            "fin del while\n"
          ]
        }
      ]
    },
    {
      "cell_type": "code",
      "source": [
        "password = 'hola123'\n",
        "clave = input('Ingrese su clave: ')\n",
        "\n",
        "while clave != password:\n",
        "    print('clave incorrecta')\n",
        "    clave = input('Ingrese su nuevamente clave: ')\n",
        "    if clave == password:\n",
        "      print('clave correcta')\n",
        "      print('fin del while')\n",
        "      break ## salir del ciclo\n"
      ],
      "metadata": {
        "colab": {
          "base_uri": "https://localhost:8080/"
        },
        "id": "nP97JKdWTrat",
        "outputId": "df638b10-8487-4253-ee82-b39e9f095c39"
      },
      "execution_count": 44,
      "outputs": [
        {
          "output_type": "stream",
          "name": "stdout",
          "text": [
            "Ingrese su clave: ands\n",
            "clave incorrecta\n",
            "Ingrese su nuevamente clave: adfad\n",
            "clave incorrecta\n",
            "Ingrese su nuevamente clave: hola123\n",
            "clave correcta\n",
            "fin del while\n"
          ]
        }
      ]
    },
    {
      "cell_type": "code",
      "source": [
        "#probando for in range():\n",
        "\n",
        "\n",
        "#for i in range(inicio,fin,salto):\n",
        "for i in range(1,10):\n",
        "  print(i)\n"
      ],
      "metadata": {
        "colab": {
          "base_uri": "https://localhost:8080/"
        },
        "id": "3hLaUKhMVf6D",
        "outputId": "5de76936-0d92-47a3-feb6-ae3aa5c0ccd0"
      },
      "execution_count": 4,
      "outputs": [
        {
          "output_type": "stream",
          "name": "stdout",
          "text": [
            "1\n",
            "2\n",
            "3\n",
            "4\n",
            "5\n",
            "6\n",
            "7\n",
            "8\n",
            "9\n"
          ]
        }
      ]
    },
    {
      "cell_type": "code",
      "source": [
        "for i in range(1,20,2):\n",
        "  print(i)"
      ],
      "metadata": {
        "colab": {
          "base_uri": "https://localhost:8080/"
        },
        "id": "Yp4K1AOCV_Va",
        "outputId": "6f3ded1d-20be-4f4e-e3eb-ff1f894da4e6"
      },
      "execution_count": 5,
      "outputs": [
        {
          "output_type": "stream",
          "name": "stdout",
          "text": [
            "1\n",
            "3\n",
            "5\n",
            "7\n",
            "9\n",
            "11\n",
            "13\n",
            "15\n",
            "17\n",
            "19\n"
          ]
        }
      ]
    },
    {
      "cell_type": "code",
      "source": [
        "for i in range(1,-20,-1):\n",
        "  print(i)"
      ],
      "metadata": {
        "colab": {
          "base_uri": "https://localhost:8080/"
        },
        "id": "RXmxkMezXAJ-",
        "outputId": "203cbc20-0153-48ed-f224-320f2bb13fcc"
      },
      "execution_count": 7,
      "outputs": [
        {
          "output_type": "stream",
          "name": "stdout",
          "text": [
            "1\n",
            "0\n",
            "-1\n",
            "-2\n",
            "-3\n",
            "-4\n",
            "-5\n",
            "-6\n",
            "-7\n",
            "-8\n",
            "-9\n",
            "-10\n",
            "-11\n",
            "-12\n",
            "-13\n",
            "-14\n",
            "-15\n",
            "-16\n",
            "-17\n",
            "-18\n",
            "-19\n"
          ]
        }
      ]
    },
    {
      "cell_type": "code",
      "source": [
        "#actividad guiada 2\n",
        "\n",
        "lista1 = [\"manzana\", \"naranja\", \"uva\", \"fresa\", \"kiwi\"]\n",
        "lista2 = [\"sandía\", \"mango\", \"kiwi\", \"fresa\", \"limón\"]\n",
        "\n",
        "comunes = []\n",
        "\n",
        "for fruta in lista1:\n",
        "  if fruta in lista2:\n",
        "    comunes.append(fruta)\n",
        "\n",
        "print(comunes)"
      ],
      "metadata": {
        "colab": {
          "base_uri": "https://localhost:8080/"
        },
        "id": "04jIvLqFXxmo",
        "outputId": "fc4d9bf5-2605-4273-e85a-d6c3375f9a75"
      },
      "execution_count": 8,
      "outputs": [
        {
          "output_type": "stream",
          "name": "stdout",
          "text": [
            "['fresa', 'kiwi']\n"
          ]
        }
      ]
    },
    {
      "cell_type": "code",
      "source": [
        "# ejercicio 3 guia de estudio\n",
        "\n",
        "pacientes = [ {'nombre': 'Juan',\n",
        "               'edad': 30, 'peso': 80,\n",
        "               'altura': 1.75,\n",
        "               'temperatura': 36.5},\n",
        "\n",
        "              {'nombre': 'María',\n",
        "               'edad': 25,\n",
        "               'peso': 60,\n",
        "               'altura': 1.65,\n",
        "               'temperatura': 37.0},\n",
        "\n",
        "              {'nombre': 'Pedro',\n",
        "               'edad': 40,\n",
        "               'peso': 90,\n",
        "               'altura': 1.80,\n",
        "               'temperatura': 36.8},\n",
        "\n",
        "              {'nombre': 'Ana',\n",
        "               'edad': 35,\n",
        "               'peso': 70,\n",
        "               'altura': 1.70,\n",
        "               'temperatura': 37.2} ]\n",
        "\n",
        "#lista de diccionario\n",
        "\n",
        "promedio_edad = sum([i['edad'] for i in pacientes])/len(pacientes)\n",
        "print(promedio_edad)\n",
        "print(len(pacientes))"
      ],
      "metadata": {
        "colab": {
          "base_uri": "https://localhost:8080/"
        },
        "id": "YTIB7Fi4Y6qF",
        "outputId": "e8b8e7b4-b366-4b59-e08d-a78391aa2d6b"
      },
      "execution_count": 13,
      "outputs": [
        {
          "output_type": "stream",
          "name": "stdout",
          "text": [
            "32.5\n",
            "4\n"
          ]
        }
      ]
    },
    {
      "cell_type": "code",
      "source": [
        "a = input('rango inferior: ')\n",
        "b = input('rango superior: ')\n",
        "\n",
        "if a < b:\n",
        "  print('rango bien',a ,' ', b)\n",
        "else:\n",
        "  a,b = b,a\n",
        "  print(a,b)\n",
        "\n",
        "sum = 0\n",
        "\n",
        "for i in range(a,b+1):\n",
        "  if (si es par o no par)\n",
        "\n"
      ],
      "metadata": {
        "colab": {
          "base_uri": "https://localhost:8080/",
          "height": 373
        },
        "id": "Mr0pWeE8b-wZ",
        "outputId": "e36feb02-8b2c-473c-f76b-7ee4e48523e3"
      },
      "execution_count": 18,
      "outputs": [
        {
          "output_type": "error",
          "ename": "KeyboardInterrupt",
          "evalue": "Interrupted by user",
          "traceback": [
            "\u001b[0;31m---------------------------------------------------------------------------\u001b[0m",
            "\u001b[0;31mKeyboardInterrupt\u001b[0m                         Traceback (most recent call last)",
            "\u001b[0;32m<ipython-input-18-81dc676fd5c9>\u001b[0m in \u001b[0;36m<cell line: 1>\u001b[0;34m()\u001b[0m\n\u001b[0;32m----> 1\u001b[0;31m \u001b[0ma\u001b[0m \u001b[0;34m=\u001b[0m \u001b[0minput\u001b[0m\u001b[0;34m(\u001b[0m\u001b[0;34m'rango inferior: '\u001b[0m\u001b[0;34m)\u001b[0m\u001b[0;34m\u001b[0m\u001b[0;34m\u001b[0m\u001b[0m\n\u001b[0m\u001b[1;32m      2\u001b[0m \u001b[0mb\u001b[0m \u001b[0;34m=\u001b[0m \u001b[0minput\u001b[0m\u001b[0;34m(\u001b[0m\u001b[0;34m'rango superior: '\u001b[0m\u001b[0;34m)\u001b[0m\u001b[0;34m\u001b[0m\u001b[0;34m\u001b[0m\u001b[0m\n\u001b[1;32m      3\u001b[0m \u001b[0;34m\u001b[0m\u001b[0m\n\u001b[1;32m      4\u001b[0m \u001b[0;32mif\u001b[0m \u001b[0ma\u001b[0m \u001b[0;34m<\u001b[0m \u001b[0mb\u001b[0m\u001b[0;34m:\u001b[0m\u001b[0;34m\u001b[0m\u001b[0;34m\u001b[0m\u001b[0m\n\u001b[1;32m      5\u001b[0m   \u001b[0mprint\u001b[0m\u001b[0;34m(\u001b[0m\u001b[0;34m'rango bien'\u001b[0m\u001b[0;34m,\u001b[0m\u001b[0ma\u001b[0m \u001b[0;34m,\u001b[0m\u001b[0;34m' '\u001b[0m\u001b[0;34m,\u001b[0m \u001b[0mb\u001b[0m\u001b[0;34m)\u001b[0m\u001b[0;34m\u001b[0m\u001b[0;34m\u001b[0m\u001b[0m\n",
            "\u001b[0;32m/usr/local/lib/python3.10/dist-packages/ipykernel/kernelbase.py\u001b[0m in \u001b[0;36mraw_input\u001b[0;34m(self, prompt)\u001b[0m\n\u001b[1;32m    849\u001b[0m                 \u001b[0;34m\"raw_input was called, but this frontend does not support input requests.\"\u001b[0m\u001b[0;34m\u001b[0m\u001b[0;34m\u001b[0m\u001b[0m\n\u001b[1;32m    850\u001b[0m             )\n\u001b[0;32m--> 851\u001b[0;31m         return self._input_request(str(prompt),\n\u001b[0m\u001b[1;32m    852\u001b[0m             \u001b[0mself\u001b[0m\u001b[0;34m.\u001b[0m\u001b[0m_parent_ident\u001b[0m\u001b[0;34m,\u001b[0m\u001b[0;34m\u001b[0m\u001b[0;34m\u001b[0m\u001b[0m\n\u001b[1;32m    853\u001b[0m             \u001b[0mself\u001b[0m\u001b[0;34m.\u001b[0m\u001b[0m_parent_header\u001b[0m\u001b[0;34m,\u001b[0m\u001b[0;34m\u001b[0m\u001b[0;34m\u001b[0m\u001b[0m\n",
            "\u001b[0;32m/usr/local/lib/python3.10/dist-packages/ipykernel/kernelbase.py\u001b[0m in \u001b[0;36m_input_request\u001b[0;34m(self, prompt, ident, parent, password)\u001b[0m\n\u001b[1;32m    893\u001b[0m             \u001b[0;32mexcept\u001b[0m \u001b[0mKeyboardInterrupt\u001b[0m\u001b[0;34m:\u001b[0m\u001b[0;34m\u001b[0m\u001b[0;34m\u001b[0m\u001b[0m\n\u001b[1;32m    894\u001b[0m                 \u001b[0;31m# re-raise KeyboardInterrupt, to truncate traceback\u001b[0m\u001b[0;34m\u001b[0m\u001b[0;34m\u001b[0m\u001b[0m\n\u001b[0;32m--> 895\u001b[0;31m                 \u001b[0;32mraise\u001b[0m \u001b[0mKeyboardInterrupt\u001b[0m\u001b[0;34m(\u001b[0m\u001b[0;34m\"Interrupted by user\"\u001b[0m\u001b[0;34m)\u001b[0m \u001b[0;32mfrom\u001b[0m \u001b[0;32mNone\u001b[0m\u001b[0;34m\u001b[0m\u001b[0;34m\u001b[0m\u001b[0m\n\u001b[0m\u001b[1;32m    896\u001b[0m             \u001b[0;32mexcept\u001b[0m \u001b[0mException\u001b[0m \u001b[0;32mas\u001b[0m \u001b[0me\u001b[0m\u001b[0;34m:\u001b[0m\u001b[0;34m\u001b[0m\u001b[0;34m\u001b[0m\u001b[0m\n\u001b[1;32m    897\u001b[0m                 \u001b[0mself\u001b[0m\u001b[0;34m.\u001b[0m\u001b[0mlog\u001b[0m\u001b[0;34m.\u001b[0m\u001b[0mwarning\u001b[0m\u001b[0;34m(\u001b[0m\u001b[0;34m\"Invalid Message:\"\u001b[0m\u001b[0;34m,\u001b[0m \u001b[0mexc_info\u001b[0m\u001b[0;34m=\u001b[0m\u001b[0;32mTrue\u001b[0m\u001b[0;34m)\u001b[0m\u001b[0;34m\u001b[0m\u001b[0;34m\u001b[0m\u001b[0m\n",
            "\u001b[0;31mKeyboardInterrupt\u001b[0m: Interrupted by user"
          ]
        }
      ]
    },
    {
      "cell_type": "code",
      "source": [
        "import numpy as np\n",
        "\n",
        "np.pi"
      ],
      "metadata": {
        "colab": {
          "base_uri": "https://localhost:8080/"
        },
        "id": "jlQGAyUFeIHZ",
        "outputId": "19e130e1-fffc-42de-be18-6e80f8b1ca59"
      },
      "execution_count": 19,
      "outputs": [
        {
          "output_type": "execute_result",
          "data": {
            "text/plain": [
              "3.141592653589793"
            ]
          },
          "metadata": {},
          "execution_count": 19
        }
      ]
    },
    {
      "cell_type": "code",
      "source": [
        "import random as rd\n",
        "\n",
        "numero = rd.randint(1,100)\n",
        "print(numero)\n"
      ],
      "metadata": {
        "colab": {
          "base_uri": "https://localhost:8080/"
        },
        "id": "lAJE8VyZezXZ",
        "outputId": "2e54a176-f42f-4d31-b257-91be6ac74e7b"
      },
      "execution_count": 20,
      "outputs": [
        {
          "output_type": "stream",
          "name": "stdout",
          "text": [
            "54\n"
          ]
        }
      ]
    }
  ]
}