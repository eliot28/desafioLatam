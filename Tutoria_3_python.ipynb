{
  "nbformat": 4,
  "nbformat_minor": 0,
  "metadata": {
    "colab": {
      "provenance": [],
      "authorship_tag": "ABX9TyMp/Qz2j3slv+bcnAK1SnUM",
      "include_colab_link": true
    },
    "kernelspec": {
      "name": "python3",
      "display_name": "Python 3"
    },
    "language_info": {
      "name": "python"
    }
  },
  "cells": [
    {
      "cell_type": "markdown",
      "metadata": {
        "id": "view-in-github",
        "colab_type": "text"
      },
      "source": [
        "<a href=\"https://colab.research.google.com/github/eliot28/desafioLatam/blob/main/Tutoria_3_python.ipynb\" target=\"_parent\"><img src=\"https://colab.research.google.com/assets/colab-badge.svg\" alt=\"Open In Colab\"/></a>"
      ]
    },
    {
      "cell_type": "code",
      "execution_count": 1,
      "metadata": {
        "colab": {
          "base_uri": "https://localhost:8080/"
        },
        "id": "lZZtKWuW-1f9",
        "outputId": "54dfb1ed-4748-4c53-a4a2-38bff960d641"
      },
      "outputs": [
        {
          "output_type": "stream",
          "name": "stdout",
          "text": [
            "['manzana', 'banana', 'uva', 'fresa', 'pera']\n",
            "Lista de fruta favoritas:\n",
            "- manzana\n",
            "- banana\n",
            "- uva\n",
            "- fresa\n",
            "- pera\n"
          ]
        }
      ],
      "source": [
        "# @title Texto de título predeterminado\n",
        "\n",
        "## lista\n",
        "frutas = ['manzana','banana','uva','fresa']<\n",
        "\n",
        "## diccionario\n",
        "amigos = {'Juan':'Bogota',\n",
        "          'Maria':'Medellin',\n",
        "          'Luis':'Cali',\n",
        "          'Ana':'Barranquilla'}\n",
        "\n",
        "## para agregar elemtos a listas\n",
        "frutas.append('pera')\n",
        "\n",
        "## para agregar elemtos a diccionario\n",
        "amigos['Raul'] = 'Caracas'\n",
        "\n",
        "print(frutas)\n",
        "\n",
        "print('Lista de fruta favoritas:')\n",
        "for x in frutas:\n",
        "  print('-',x)\n"
      ]
    },
    {
      "cell_type": "code",
      "source": [
        "amigos.items()"
      ],
      "metadata": {
        "colab": {
          "base_uri": "https://localhost:8080/"
        },
        "id": "0hSxVBKa3-jl",
        "outputId": "9c5ad9a9-cdbb-473e-c9a3-849dc26c255b"
      },
      "execution_count": 2,
      "outputs": [
        {
          "output_type": "execute_result",
          "data": {
            "text/plain": [
              "dict_items([('Juan', 'Bogota'), ('Maria', 'Medellin'), ('Luis', 'Cali'), ('Ana', 'Barranquilla'), ('Raul', 'Caracas')])"
            ]
          },
          "metadata": {},
          "execution_count": 2
        }
      ]
    },
    {
      "cell_type": "code",
      "source": [
        "type(amigos)"
      ],
      "metadata": {
        "colab": {
          "base_uri": "https://localhost:8080/"
        },
        "id": "qofmBKF14Kkk",
        "outputId": "187ee87c-a92f-48d0-f09d-4648dcdc7b3e"
      },
      "execution_count": 3,
      "outputs": [
        {
          "output_type": "execute_result",
          "data": {
            "text/plain": [
              "dict"
            ]
          },
          "metadata": {},
          "execution_count": 3
        }
      ]
    },
    {
      "cell_type": "code",
      "source": [
        "type(amigos.items()) ## se utiliza para transformar dict a tuplas para poder recorrer el diccionario"
      ],
      "metadata": {
        "colab": {
          "base_uri": "https://localhost:8080/"
        },
        "id": "zfFf8Fkp4Odu",
        "outputId": "ee053fe5-e799-487f-f593-72b8c30861bd"
      },
      "execution_count": 5,
      "outputs": [
        {
          "output_type": "execute_result",
          "data": {
            "text/plain": [
              "dict_items"
            ]
          },
          "metadata": {},
          "execution_count": 5
        }
      ]
    },
    {
      "cell_type": "code",
      "source": [
        "for amigo, ciudad in amigos.items():\n",
        "  print(f' {amigo} vive en {ciudad}')"
      ],
      "metadata": {
        "colab": {
          "base_uri": "https://localhost:8080/"
        },
        "id": "OdhrD1T_A0pV",
        "outputId": "53b30e5e-f88b-45b8-ae5e-c84a4ff951c2"
      },
      "execution_count": null,
      "outputs": [
        {
          "output_type": "stream",
          "name": "stdout",
          "text": [
            " Juan vive en Bogota\n",
            " Maria vive en Medellin\n",
            " Luis vive en Cali\n",
            " Ana vive en Barranquilla\n",
            " Raul vive en Caracas\n"
          ]
        }
      ]
    },
    {
      "cell_type": "code",
      "source": [
        "#amigos = {'Juan':133:'Moneda 5000','Maria':24,'Luis':30,'Ana':25,'Jose':30}\n",
        "amigos2 = ('Juan':1,'Moneda 5000','Maria':24,'Luis':30,'Ana':25,'Jose':30) ## las tuplas no soportan los :\n",
        "print(amigos2)"
      ],
      "metadata": {
        "colab": {
          "base_uri": "https://localhost:8080/",
          "height": 106
        },
        "id": "AKHhQbDh5SWH",
        "outputId": "d0f18728-54d7-4f49-f1d4-edfd84d50e60"
      },
      "execution_count": 6,
      "outputs": [
        {
          "output_type": "error",
          "ename": "SyntaxError",
          "evalue": "invalid syntax (<ipython-input-6-8ac7268b9f01>, line 2)",
          "traceback": [
            "\u001b[0;36m  File \u001b[0;32m\"<ipython-input-6-8ac7268b9f01>\"\u001b[0;36m, line \u001b[0;32m2\u001b[0m\n\u001b[0;31m    amigos2 = ('Juan':1,'Moneda 5000','Maria':24,'Luis':30,'Ana':25,'Jose':30)\u001b[0m\n\u001b[0m                     ^\u001b[0m\n\u001b[0;31mSyntaxError\u001b[0m\u001b[0;31m:\u001b[0m invalid syntax\n"
          ]
        }
      ]
    },
    {
      "cell_type": "code",
      "source": [
        "amigos3 ={'Juan':[1,2,3],'Maria':24,'Luis':30,'Ana':25,'Jose':30}\n",
        "print(amigos3)\n",
        "print(amigos3['Juan'])\n",
        "print(amigos3['Juan'][2])"
      ],
      "metadata": {
        "colab": {
          "base_uri": "https://localhost:8080/"
        },
        "id": "RxVSSHV154j3",
        "outputId": "eccc4be2-a37d-4931-b35d-98a1135dc785"
      },
      "execution_count": 10,
      "outputs": [
        {
          "output_type": "stream",
          "name": "stdout",
          "text": [
            "{'Juan': [1, 2, 3], 'Maria': 24, 'Luis': 30, 'Ana': 25, 'Jose': 30}\n",
            "[1, 2, 3]\n",
            "3\n"
          ]
        }
      ]
    },
    {
      "cell_type": "code",
      "source": [
        "amigos3 ={'rut':[1111111],'Maria':24,'Luis':30,'Ana':25,'Jose':30}\n",
        "print(amigos3)\n",
        "print(amigos3['Juan'])\n",
        "print(amigos3['Juan'][2])\n",
        "\n",
        "## los diccionario te permiten guardar listas solo en el segundo argumento\n",
        "\n",
        "\n"
      ],
      "metadata": {
        "id": "jzFLKnxA6cfI"
      },
      "execution_count": null,
      "outputs": []
    },
    {
      "cell_type": "code",
      "source": [
        "## asi no\n",
        "amigos3 ={[1,2,3,4]:20,'Maria':24,'Luis':30,'Ana':25,'Jose':30}\n",
        "print(amigos3)"
      ],
      "metadata": {
        "colab": {
          "base_uri": "https://localhost:8080/",
          "height": 158
        },
        "id": "m_OdgQRp63Q5",
        "outputId": "f8143f8e-2ced-4ed0-a231-b0ace4485290"
      },
      "execution_count": 11,
      "outputs": [
        {
          "output_type": "error",
          "ename": "TypeError",
          "evalue": "unhashable type: 'list'",
          "traceback": [
            "\u001b[0;31m---------------------------------------------------------------------------\u001b[0m",
            "\u001b[0;31mTypeError\u001b[0m                                 Traceback (most recent call last)",
            "\u001b[0;32m<ipython-input-11-9682b3adca76>\u001b[0m in \u001b[0;36m<cell line: 1>\u001b[0;34m()\u001b[0m\n\u001b[0;32m----> 1\u001b[0;31m \u001b[0mamigos3\u001b[0m \u001b[0;34m=\u001b[0m\u001b[0;34m{\u001b[0m\u001b[0;34m[\u001b[0m\u001b[0;36m1\u001b[0m\u001b[0;34m,\u001b[0m\u001b[0;36m2\u001b[0m\u001b[0;34m,\u001b[0m\u001b[0;36m3\u001b[0m\u001b[0;34m,\u001b[0m\u001b[0;36m4\u001b[0m\u001b[0;34m]\u001b[0m\u001b[0;34m:\u001b[0m\u001b[0;36m20\u001b[0m\u001b[0;34m,\u001b[0m\u001b[0;34m'Maria'\u001b[0m\u001b[0;34m:\u001b[0m\u001b[0;36m24\u001b[0m\u001b[0;34m,\u001b[0m\u001b[0;34m'Luis'\u001b[0m\u001b[0;34m:\u001b[0m\u001b[0;36m30\u001b[0m\u001b[0;34m,\u001b[0m\u001b[0;34m'Ana'\u001b[0m\u001b[0;34m:\u001b[0m\u001b[0;36m25\u001b[0m\u001b[0;34m,\u001b[0m\u001b[0;34m'Jose'\u001b[0m\u001b[0;34m:\u001b[0m\u001b[0;36m30\u001b[0m\u001b[0;34m}\u001b[0m\u001b[0;34m\u001b[0m\u001b[0;34m\u001b[0m\u001b[0m\n\u001b[0m\u001b[1;32m      2\u001b[0m \u001b[0mprint\u001b[0m\u001b[0;34m(\u001b[0m\u001b[0mamigos3\u001b[0m\u001b[0;34m)\u001b[0m\u001b[0;34m\u001b[0m\u001b[0;34m\u001b[0m\u001b[0m\n",
            "\u001b[0;31mTypeError\u001b[0m: unhashable type: 'list'"
          ]
        }
      ]
    },
    {
      "cell_type": "code",
      "source": [
        "# @title Texto de título predeterminado\n",
        "#frutas = ['manzana','banana','uva','fresa']\n",
        "amigos = {'Juan':30,'Maria':24,'Luis':30,'Ana':25,'Jose':30}\n",
        "\n",
        "# quitar elementos de una lista\n",
        "frutas.remove('fresa')\n",
        "\n",
        "# quitar elementos de un diccionario esta el del\n",
        "del amigos['Jose']\n",
        "\n",
        "\n",
        "\n",
        "frutas = ['manzana','banana','uva','fresa','mango','piña','maracuya']\n",
        "#filtro lista\n",
        "frutas_filtradas = [fruta\n",
        "                    for fruta in frutas\n",
        "                    if fruta.lower().startswith('m')]\n",
        "\n",
        "for fruta in frutas_filtradas:\n",
        "  print('-',fruta)\n",
        "\n",
        "print('')\n",
        "\n",
        "## recorro todos los items del diccionario\n",
        "for amigo, edad in amigos.items():\n",
        "    #print(amigo)\n",
        "    if edad == 30:\n",
        "      print('-',amigo)\n"
      ],
      "metadata": {
        "colab": {
          "base_uri": "https://localhost:8080/"
        },
        "id": "uBJLHrDiBg68",
        "outputId": "a0b2c7a4-4729-4ea9-d9e2-35d1b8b202c0"
      },
      "execution_count": 16,
      "outputs": [
        {
          "output_type": "stream",
          "name": "stdout",
          "text": [
            "- manzana\n",
            "- mango\n",
            "- maracuya\n",
            "\n",
            "Juan\n",
            "- Juan\n",
            "Maria\n",
            "Luis\n",
            "- Luis\n",
            "Ana\n"
          ]
        }
      ]
    },
    {
      "cell_type": "code",
      "source": [
        "type(frutas_filtradas)"
      ],
      "metadata": {
        "colab": {
          "base_uri": "https://localhost:8080/"
        },
        "id": "UKLjI-4h9JUu",
        "outputId": "f82d79a5-96d0-4d39-ef21-24efa7843dc3"
      },
      "execution_count": 17,
      "outputs": [
        {
          "output_type": "execute_result",
          "data": {
            "text/plain": [
              "list"
            ]
          },
          "metadata": {},
          "execution_count": 17
        }
      ]
    },
    {
      "cell_type": "code",
      "source": [
        "frutas = ['manzana','banana','uva','fresa','mango','piña','maracuya']\n",
        "# normal\n",
        "print(frutas)\n",
        "\n",
        "## orden de lista ascendente\n",
        "frutas.sort()\n",
        "print(frutas)\n",
        "\n",
        "## orden de lista descendente\n",
        "frutas.sort(reverse=True)\n",
        "print(frutas)"
      ],
      "metadata": {
        "colab": {
          "base_uri": "https://localhost:8080/"
        },
        "id": "t879LnVf9co0",
        "outputId": "cd4923bf-b4ee-4248-dce8-a45c3c667571"
      },
      "execution_count": 27,
      "outputs": [
        {
          "output_type": "stream",
          "name": "stdout",
          "text": [
            "['manzana', 'banana', 'uva', 'fresa', 'mango', 'piña', 'maracuya']\n",
            "['banana', 'fresa', 'mango', 'manzana', 'maracuya', 'piña', 'uva']\n",
            "['uva', 'piña', 'maracuya', 'manzana', 'mango', 'fresa', 'banana']\n"
          ]
        }
      ]
    },
    {
      "cell_type": "code",
      "source": [
        "numeros = [2,5,1,-3,9,4]\n",
        "print(numeros)\n",
        "\n",
        "## ascendente\n",
        "numeros.sort()\n",
        "print(numeros)\n",
        "\n",
        "## desc\n",
        "numeros.sort(reverse=True)\n",
        "print(numeros)"
      ],
      "metadata": {
        "colab": {
          "base_uri": "https://localhost:8080/"
        },
        "id": "zruRFx91_HEk",
        "outputId": "51c062b4-2577-4c56-837a-087af4a1d168"
      },
      "execution_count": 28,
      "outputs": [
        {
          "output_type": "stream",
          "name": "stdout",
          "text": [
            "[2, 5, 1, -3, 9, 4]\n",
            "[-3, 1, 2, 4, 5, 9]\n",
            "[9, 5, 4, 2, 1, -3]\n"
          ]
        }
      ]
    },
    {
      "cell_type": "code",
      "source": [
        "## desde listas a diccionarios\n",
        "nombre = ['Juan','Maria','Pedro']\n",
        "edad = [20,34,56]\n",
        "diccionario_nombre=dict(zip(nombre,edad))\n",
        "print(diccionario_nombre)"
      ],
      "metadata": {
        "colab": {
          "base_uri": "https://localhost:8080/"
        },
        "id": "9tmtj2WzARng",
        "outputId": "9b873655-84ee-486b-e339-e362d666a4dd"
      },
      "execution_count": 34,
      "outputs": [
        {
          "output_type": "stream",
          "name": "stdout",
          "text": [
            "{'Juan': 20, 'Maria': 34, 'Pedro': 56}\n"
          ]
        }
      ]
    },
    {
      "cell_type": "code",
      "source": [
        "## desde diccionarios a listas\n",
        "nombre_lista = list(diccionario_nombre.keys()) ## nombre_lista = list(diccionario_nombre) es lo mismo\n",
        "edad_lista = list(diccionario_nombre.values())\n",
        "\n",
        "print(nombre_lista)\n",
        "print(edad_lista)"
      ],
      "metadata": {
        "colab": {
          "base_uri": "https://localhost:8080/"
        },
        "id": "H5uMxIG0Bs9P",
        "outputId": "f2df04e5-ef00-46ba-81e2-b51a1187aea8"
      },
      "execution_count": 36,
      "outputs": [
        {
          "output_type": "stream",
          "name": "stdout",
          "text": [
            "['Juan', 'Maria', 'Pedro']\n",
            "[20, 34, 56]\n"
          ]
        }
      ]
    },
    {
      "cell_type": "code",
      "source": [
        "amigos_ordenados = dict(sorted(amigos.items()))\n",
        "print(amigos)\n",
        "print(amigos_ordenados)\n",
        "\n",
        "print(amigos.items())\n",
        "print(sorted(amigos.items()))\n",
        "\n",
        "\n",
        "#for amigo, edad in amigos_ordenados.items():\n",
        "#  print(f'Mi amigo {amigo} tiene {edad} años')"
      ],
      "metadata": {
        "colab": {
          "base_uri": "https://localhost:8080/"
        },
        "id": "mvya0N5gFPoq",
        "outputId": "cc9bd342-a293-457d-c230-3fd9a29e8d3e"
      },
      "execution_count": null,
      "outputs": [
        {
          "output_type": "stream",
          "name": "stdout",
          "text": [
            "{'Juan': 30, 'Maria': 24, 'Luis': 30, 'Ana': 25}\n",
            "{'Ana': 25, 'Juan': 30, 'Luis': 30, 'Maria': 24}\n",
            "dict_items([('Juan', 30), ('Maria', 24), ('Luis', 30), ('Ana', 25)])\n",
            "[('Ana', 25), ('Juan', 30), ('Luis', 30), ('Maria', 24)]\n"
          ]
        }
      ]
    },
    {
      "cell_type": "code",
      "source": [
        "a = (\"b\", \"g\", \"a\", \"d\", \"f\", \"c\", \"h\", \"e\")\n",
        "x = sorted(a)\n",
        "print(x)"
      ],
      "metadata": {
        "colab": {
          "base_uri": "https://localhost:8080/"
        },
        "id": "ukKnX9jxFPYh",
        "outputId": "35abae2a-3fbb-4c79-fef1-40fa3129732e"
      },
      "execution_count": null,
      "outputs": [
        {
          "output_type": "stream",
          "name": "stdout",
          "text": [
            "['a', 'b', 'c', 'd', 'e', 'f', 'g', 'h']\n"
          ]
        }
      ]
    },
    {
      "cell_type": "code",
      "source": [
        "a = [1,5,3,-1,4]\n",
        "x = sorted(a, reverse=True)\n",
        "print(x)"
      ],
      "metadata": {
        "colab": {
          "base_uri": "https://localhost:8080/"
        },
        "id": "LgRByRupOBJ1",
        "outputId": "e57446dc-20d7-417c-f80a-80f845464ac6"
      },
      "execution_count": null,
      "outputs": [
        {
          "output_type": "stream",
          "name": "stdout",
          "text": [
            "[5, 4, 3, 1, -1]\n"
          ]
        }
      ]
    },
    {
      "cell_type": "code",
      "source": [
        "nombres = ['Juan', 'María', 'Pedro']\n",
        "edades = [25, 30, 35]\n",
        "\n",
        "# Usar la función zip para combinar las listas en una lista de tuplas\n",
        "datos_personales = zip(nombres, edades)\n"
      ],
      "metadata": {
        "colab": {
          "base_uri": "https://localhost:8080/"
        },
        "id": "-4bE29vtQycM",
        "outputId": "643120db-05f3-4f32-9c8a-a6a0938d258f"
      },
      "execution_count": null,
      "outputs": [
        {
          "output_type": "stream",
          "name": "stdout",
          "text": [
            "<zip object at 0x7bfebc1f1180>\n"
          ]
        }
      ]
    },
    {
      "cell_type": "code",
      "source": [
        "## como instalar numpy\n",
        "## pip install numpy // para instalar\n",
        "\n",
        "import numpy as np\n",
        "\n",
        "lista = [0,1,2,3,4]\n",
        "my_array = np.array(lista)\n",
        "\n",
        "print(lista)\n",
        "print(my_array)"
      ],
      "metadata": {
        "colab": {
          "base_uri": "https://localhost:8080/"
        },
        "id": "zaV42EzeSi_Y",
        "outputId": "bdc134a0-02da-4662-8013-0074526cb14f"
      },
      "execution_count": 38,
      "outputs": [
        {
          "output_type": "stream",
          "name": "stdout",
          "text": [
            "[0, 1, 2, 3, 4]\n",
            "[0 1 2 3 4]\n"
          ]
        }
      ]
    },
    {
      "cell_type": "code",
      "source": [
        "import numpy as np\n",
        "np.__version__ ## para ver la versión"
      ],
      "metadata": {
        "colab": {
          "base_uri": "https://localhost:8080/",
          "height": 35
        },
        "id": "Ej01y0w7FHdq",
        "outputId": "b22e52f0-811b-4b81-cf31-e3cbd3789a20"
      },
      "execution_count": 37,
      "outputs": [
        {
          "output_type": "execute_result",
          "data": {
            "text/plain": [
              "'1.25.2'"
            ],
            "application/vnd.google.colaboratory.intrinsic+json": {
              "type": "string"
            }
          },
          "metadata": {},
          "execution_count": 37
        }
      ]
    },
    {
      "cell_type": "code",
      "source": [],
      "metadata": {
        "id": "yzJE_jptFiQu"
      },
      "execution_count": null,
      "outputs": []
    },
    {
      "cell_type": "code",
      "source": [
        "lista*2"
      ],
      "metadata": {
        "colab": {
          "base_uri": "https://localhost:8080/"
        },
        "id": "ttHraVHSS2CH",
        "outputId": "c0d8af0d-3b37-4242-8dc2-00ab8a9b4156"
      },
      "execution_count": 39,
      "outputs": [
        {
          "output_type": "execute_result",
          "data": {
            "text/plain": [
              "[0, 1, 2, 3, 4, 0, 1, 2, 3, 4]"
            ]
          },
          "metadata": {},
          "execution_count": 39
        }
      ]
    },
    {
      "cell_type": "code",
      "source": [
        "lista*-1"
      ],
      "metadata": {
        "colab": {
          "base_uri": "https://localhost:8080/"
        },
        "id": "u0F2hWmaF9JY",
        "outputId": "ad165507-4d64-4fe6-ff5b-3b1278b00faf"
      },
      "execution_count": 45,
      "outputs": [
        {
          "output_type": "execute_result",
          "data": {
            "text/plain": [
              "[]"
            ]
          },
          "metadata": {},
          "execution_count": 45
        }
      ]
    },
    {
      "cell_type": "code",
      "source": [
        "my_array*2"
      ],
      "metadata": {
        "id": "najs0hQ9S6VB",
        "outputId": "4e3a3319-ebb6-46f5-8f9e-5ab40d1dbbf8",
        "colab": {
          "base_uri": "https://localhost:8080/"
        }
      },
      "execution_count": 46,
      "outputs": [
        {
          "output_type": "execute_result",
          "data": {
            "text/plain": [
              "array([0, 2, 4, 6, 8])"
            ]
          },
          "metadata": {},
          "execution_count": 46
        }
      ]
    },
    {
      "cell_type": "code",
      "source": [
        "lista1 = [1,2,3]\n",
        "lista2 = [10,20,30]\n",
        "lista3 = [100,200,3000]\n",
        "\n",
        "array1 = np.array(lista1)\n",
        "array2 = np.array(lista2)\n",
        "array3 = np.array(lista3)"
      ],
      "metadata": {
        "id": "xK2gETiHGTBa"
      },
      "execution_count": 47,
      "outputs": []
    },
    {
      "cell_type": "code",
      "source": [
        "lista1 + lista2 + lista3"
      ],
      "metadata": {
        "colab": {
          "base_uri": "https://localhost:8080/"
        },
        "id": "NIzmWaAoGiDE",
        "outputId": "07f657ab-9b2b-4da8-8330-115a7585be4e"
      },
      "execution_count": 48,
      "outputs": [
        {
          "output_type": "execute_result",
          "data": {
            "text/plain": [
              "[1, 2, 3, 10, 20, 30, 100, 200, 3000]"
            ]
          },
          "metadata": {},
          "execution_count": 48
        }
      ]
    },
    {
      "cell_type": "code",
      "source": [
        "lista1 - lista2 # no se puede"
      ],
      "metadata": {
        "colab": {
          "base_uri": "https://localhost:8080/",
          "height": 141
        },
        "id": "zTNiIIcWGoKw",
        "outputId": "cec663c3-18fd-49a4-fca1-9644781d3ecf"
      },
      "execution_count": 49,
      "outputs": [
        {
          "output_type": "error",
          "ename": "TypeError",
          "evalue": "unsupported operand type(s) for -: 'list' and 'list'",
          "traceback": [
            "\u001b[0;31m---------------------------------------------------------------------------\u001b[0m",
            "\u001b[0;31mTypeError\u001b[0m                                 Traceback (most recent call last)",
            "\u001b[0;32m<ipython-input-49-7c74bf375a6a>\u001b[0m in \u001b[0;36m<cell line: 1>\u001b[0;34m()\u001b[0m\n\u001b[0;32m----> 1\u001b[0;31m \u001b[0mlista1\u001b[0m \u001b[0;34m-\u001b[0m \u001b[0mlista2\u001b[0m\u001b[0;34m\u001b[0m\u001b[0;34m\u001b[0m\u001b[0m\n\u001b[0m",
            "\u001b[0;31mTypeError\u001b[0m: unsupported operand type(s) for -: 'list' and 'list'"
          ]
        }
      ]
    },
    {
      "cell_type": "code",
      "source": [
        "lista1 * lista2 # no se puede"
      ],
      "metadata": {
        "colab": {
          "base_uri": "https://localhost:8080/",
          "height": 141
        },
        "id": "l6_XXBGeGt4Z",
        "outputId": "5b3a3a1c-87bb-4920-f7dd-f128e4d99498"
      },
      "execution_count": 50,
      "outputs": [
        {
          "output_type": "error",
          "ename": "TypeError",
          "evalue": "can't multiply sequence by non-int of type 'list'",
          "traceback": [
            "\u001b[0;31m---------------------------------------------------------------------------\u001b[0m",
            "\u001b[0;31mTypeError\u001b[0m                                 Traceback (most recent call last)",
            "\u001b[0;32m<ipython-input-50-bdc71fc189af>\u001b[0m in \u001b[0;36m<cell line: 1>\u001b[0;34m()\u001b[0m\n\u001b[0;32m----> 1\u001b[0;31m \u001b[0mlista1\u001b[0m \u001b[0;34m*\u001b[0m \u001b[0mlista2\u001b[0m\u001b[0;34m\u001b[0m\u001b[0;34m\u001b[0m\u001b[0m\n\u001b[0m",
            "\u001b[0;31mTypeError\u001b[0m: can't multiply sequence by non-int of type 'list'"
          ]
        }
      ]
    },
    {
      "cell_type": "code",
      "source": [
        "array1 + array2 + array3"
      ],
      "metadata": {
        "colab": {
          "base_uri": "https://localhost:8080/"
        },
        "id": "HbZyUbZ_G02T",
        "outputId": "66970287-3851-4097-b79e-3fd98960635f"
      },
      "execution_count": 51,
      "outputs": [
        {
          "output_type": "execute_result",
          "data": {
            "text/plain": [
              "array([ 111,  222, 3033])"
            ]
          },
          "metadata": {},
          "execution_count": 51
        }
      ]
    },
    {
      "cell_type": "code",
      "source": [
        "array1*array2"
      ],
      "metadata": {
        "colab": {
          "base_uri": "https://localhost:8080/"
        },
        "id": "UAFcRgH6G7g1",
        "outputId": "5b6c853b-928b-4016-ac67-06a2856851b1"
      },
      "execution_count": 52,
      "outputs": [
        {
          "output_type": "execute_result",
          "data": {
            "text/plain": [
              "array([10, 40, 90])"
            ]
          },
          "metadata": {},
          "execution_count": 52
        }
      ]
    },
    {
      "cell_type": "code",
      "source": [
        "array2 - array1"
      ],
      "metadata": {
        "colab": {
          "base_uri": "https://localhost:8080/"
        },
        "id": "9Z9_0RJsG_X3",
        "outputId": "333dc74f-578f-427e-8b40-7e3e4edd12b7"
      },
      "execution_count": 53,
      "outputs": [
        {
          "output_type": "execute_result",
          "data": {
            "text/plain": [
              "array([ 9, 18, 27])"
            ]
          },
          "metadata": {},
          "execution_count": 53
        }
      ]
    },
    {
      "cell_type": "code",
      "source": [
        "lista_texto = ['a','b','c']\n",
        "lista_texto2 = [1,2,3]\n",
        "\n",
        "array_texto = np.array(lista_texto)\n",
        "array_texto2 = np.array(lista_texto2)\n",
        "\n",
        "print(array_texto*array_texto2)  ## si es texto no numero no me va a funcionar"
      ],
      "metadata": {
        "colab": {
          "base_uri": "https://localhost:8080/",
          "height": 193
        },
        "id": "8k3yvC8oHG7N",
        "outputId": "2f2daeb7-9266-424f-c835-213440a0466d"
      },
      "execution_count": 57,
      "outputs": [
        {
          "output_type": "error",
          "ename": "UFuncTypeError",
          "evalue": "ufunc 'multiply' did not contain a loop with signature matching types (dtype('<U1'), dtype('int64')) -> None",
          "traceback": [
            "\u001b[0;31m---------------------------------------------------------------------------\u001b[0m",
            "\u001b[0;31mUFuncTypeError\u001b[0m                            Traceback (most recent call last)",
            "\u001b[0;32m<ipython-input-57-9ae777c55133>\u001b[0m in \u001b[0;36m<cell line: 7>\u001b[0;34m()\u001b[0m\n\u001b[1;32m      5\u001b[0m \u001b[0marray_texto2\u001b[0m \u001b[0;34m=\u001b[0m \u001b[0mnp\u001b[0m\u001b[0;34m.\u001b[0m\u001b[0marray\u001b[0m\u001b[0;34m(\u001b[0m\u001b[0mlista_texto2\u001b[0m\u001b[0;34m)\u001b[0m\u001b[0;34m\u001b[0m\u001b[0;34m\u001b[0m\u001b[0m\n\u001b[1;32m      6\u001b[0m \u001b[0;34m\u001b[0m\u001b[0m\n\u001b[0;32m----> 7\u001b[0;31m \u001b[0mprint\u001b[0m\u001b[0;34m(\u001b[0m\u001b[0marray_texto\u001b[0m\u001b[0;34m*\u001b[0m\u001b[0marray_texto2\u001b[0m\u001b[0;34m)\u001b[0m\u001b[0;34m\u001b[0m\u001b[0;34m\u001b[0m\u001b[0m\n\u001b[0m",
            "\u001b[0;31mUFuncTypeError\u001b[0m: ufunc 'multiply' did not contain a loop with signature matching types (dtype('<U1'), dtype('int64')) -> None"
          ]
        }
      ]
    },
    {
      "cell_type": "code",
      "source": [
        "lista_num = [1,6,3,8,2,9,10]\n",
        "\n",
        "arr = np.array(lista_num)\n",
        "## filtros\n",
        "arr[arr >= 8]"
      ],
      "metadata": {
        "colab": {
          "base_uri": "https://localhost:8080/"
        },
        "id": "QmCqY5nBH5YZ",
        "outputId": "568407e0-274e-40cd-8af5-d8e392f8828a"
      },
      "execution_count": 58,
      "outputs": [
        {
          "output_type": "execute_result",
          "data": {
            "text/plain": [
              "array([ 8,  9, 10])"
            ]
          },
          "metadata": {},
          "execution_count": 58
        }
      ]
    },
    {
      "cell_type": "code",
      "source": [
        "## logica and\n",
        "\n",
        "arr[np.logical_and(arr > 5, arr < 10)]"
      ],
      "metadata": {
        "colab": {
          "base_uri": "https://localhost:8080/"
        },
        "id": "uehfw3oCIhEo",
        "outputId": "c9e622e7-3952-4c98-e2d4-dfdd268b4ae8"
      },
      "execution_count": 62,
      "outputs": [
        {
          "output_type": "execute_result",
          "data": {
            "text/plain": [
              "array([6, 8, 9])"
            ]
          },
          "metadata": {},
          "execution_count": 62
        }
      ]
    },
    {
      "cell_type": "code",
      "source": [
        "## logica or\n",
        "arr[np.logical_or(arr <= 3, arr > 8)]"
      ],
      "metadata": {
        "colab": {
          "base_uri": "https://localhost:8080/"
        },
        "id": "JXLCuLY1I51L",
        "outputId": "d1360ece-a4c9-4d72-e808-7e34cc1772b9"
      },
      "execution_count": 60,
      "outputs": [
        {
          "output_type": "execute_result",
          "data": {
            "text/plain": [
              "array([ 1,  3,  2,  9, 10])"
            ]
          },
          "metadata": {},
          "execution_count": 60
        }
      ]
    },
    {
      "cell_type": "code",
      "source": [
        "personas = ['Claudia','Marcela','Luis','Antonio','Laura','Jose','Pedro']\n",
        "edades = np.array([5,12,17,3,8,41,24])\n",
        "\n",
        "print(edades.argmax()) ## el lugar donde esta el maximo valor\n",
        "print(edades[edades.argmax()])\n",
        "print('')\n",
        "print(edades.argmin())\n",
        "print(edades[edades.argmin()])"
      ],
      "metadata": {
        "colab": {
          "base_uri": "https://localhost:8080/"
        },
        "id": "pkmAmmWEJK8P",
        "outputId": "44033587-eb4d-4ef9-bb28-3847d34e6916"
      },
      "execution_count": 69,
      "outputs": [
        {
          "output_type": "stream",
          "name": "stdout",
          "text": [
            "5\n",
            "41\n",
            "\n",
            "3\n",
            "3\n"
          ]
        }
      ]
    },
    {
      "cell_type": "code",
      "source": [
        "print(edades[edades>18]) ## todas las edades mayores a 18"
      ],
      "metadata": {
        "colab": {
          "base_uri": "https://localhost:8080/"
        },
        "id": "nhIY2ZlfLFtu",
        "outputId": "5d9ceaec-878a-4925-bbd8-5e691a6851b8"
      },
      "execution_count": 70,
      "outputs": [
        {
          "output_type": "stream",
          "name": "stdout",
          "text": [
            "[41 24]\n"
          ]
        }
      ]
    },
    {
      "cell_type": "code",
      "source": [
        "print(edades[edades>18].shape) ## cuenta cuantos valores cumplen con la logica"
      ],
      "metadata": {
        "colab": {
          "base_uri": "https://localhost:8080/"
        },
        "id": "VQhswIg0LOGB",
        "outputId": "dae32f25-ecce-46fe-f19c-d120aabe48c5"
      },
      "execution_count": 71,
      "outputs": [
        {
          "output_type": "stream",
          "name": "stdout",
          "text": [
            "(2,)\n"
          ]
        }
      ]
    },
    {
      "cell_type": "code",
      "source": [
        "csv = np.loadtxt('alcohol_cerveza.csv',delimiter=',',encoding='utf-8')\n",
        "print(csv)\n",
        "\n",
        "#'ascii'\n",
        "\n",
        "print(csv.shape)"
      ],
      "metadata": {
        "colab": {
          "base_uri": "https://localhost:8080/"
        },
        "id": "Z5k1swTEMQPq",
        "outputId": "11e7280e-f718-4047-9590-d16957fc472c"
      },
      "execution_count": 73,
      "outputs": [
        {
          "output_type": "stream",
          "name": "stdout",
          "text": [
            "[0.   5.06 4.29 ... 4.68 5.12 4.92]\n",
            "(1001,)\n"
          ]
        }
      ]
    }
  ]
}