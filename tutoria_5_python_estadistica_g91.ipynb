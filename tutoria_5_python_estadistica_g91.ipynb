{
  "nbformat": 4,
  "nbformat_minor": 0,
  "metadata": {
    "colab": {
      "provenance": [],
      "include_colab_link": true
    },
    "kernelspec": {
      "name": "python3",
      "display_name": "Python 3"
    },
    "language_info": {
      "name": "python"
    }
  },
  "cells": [
    {
      "cell_type": "markdown",
      "metadata": {
        "id": "view-in-github",
        "colab_type": "text"
      },
      "source": [
        "<a href=\"https://colab.research.google.com/github/eliot28/desafioLatam/blob/main/tutoria_5_python_estadistica_g91.ipynb\" target=\"_parent\"><img src=\"https://colab.research.google.com/assets/colab-badge.svg\" alt=\"Open In Colab\"/></a>"
      ]
    },
    {
      "cell_type": "markdown",
      "source": [
        "![logo_academia.png](data:image/png;base64,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)"
      ],
      "metadata": {
        "id": "fOa2mPvXwvB5"
      }
    },
    {
      "cell_type": "markdown",
      "source": [
        "#<center><font color=\"green\">Estadística inferencial</font></center>\n",
        "\n",
        "##<font color=\"green\">Prueba de hipótesis</font>\n",
        "\n",
        "Python nos permite determinar fácilmente valores críticos e implementar modelos para pruebas de hipótesis. Veremos a continuación algunos de estos procedimientos para aplicar pruebas de hipótesis sobre una base de datos considerándola una muestra de una población total.\n"
      ],
      "metadata": {
        "id": "RoENXrQ1GQjC"
      }
    },
    {
      "cell_type": "code",
      "execution_count": 1,
      "metadata": {
        "id": "dQe7i61yVbGq"
      },
      "outputs": [],
      "source": [
        "import pandas as pd\n",
        "import seaborn as sns\n",
        "import scipy.stats as st\n",
        "import numpy as np\n",
        "\n",
        "# Cargar el conjunto de datos de pingüinos desde Seaborn\n",
        "pinguins = sns.load_dataset(\"penguins\")\n"
      ]
    },
    {
      "cell_type": "code",
      "source": [
        "pinguins.head()"
      ],
      "metadata": {
        "colab": {
          "base_uri": "https://localhost:8080/",
          "height": 206
        },
        "id": "qGJ_Lbolt6nl",
        "outputId": "dbee5bd5-31c2-4313-f8c1-be0152ea3ada"
      },
      "execution_count": 2,
      "outputs": [
        {
          "output_type": "execute_result",
          "data": {
            "text/plain": [
              "  species     island  bill_length_mm  bill_depth_mm  flipper_length_mm  \\\n",
              "0  Adelie  Torgersen            39.1           18.7              181.0   \n",
              "1  Adelie  Torgersen            39.5           17.4              186.0   \n",
              "2  Adelie  Torgersen            40.3           18.0              195.0   \n",
              "3  Adelie  Torgersen             NaN            NaN                NaN   \n",
              "4  Adelie  Torgersen            36.7           19.3              193.0   \n",
              "\n",
              "   body_mass_g     sex  \n",
              "0       3750.0    Male  \n",
              "1       3800.0  Female  \n",
              "2       3250.0  Female  \n",
              "3          NaN     NaN  \n",
              "4       3450.0  Female  "
            ],
            "text/html": [
              "\n",
              "  <div id=\"df-debb8e2c-7adc-4ada-ab56-054edb74fd63\" class=\"colab-df-container\">\n",
              "    <div>\n",
              "<style scoped>\n",
              "    .dataframe tbody tr th:only-of-type {\n",
              "        vertical-align: middle;\n",
              "    }\n",
              "\n",
              "    .dataframe tbody tr th {\n",
              "        vertical-align: top;\n",
              "    }\n",
              "\n",
              "    .dataframe thead th {\n",
              "        text-align: right;\n",
              "    }\n",
              "</style>\n",
              "<table border=\"1\" class=\"dataframe\">\n",
              "  <thead>\n",
              "    <tr style=\"text-align: right;\">\n",
              "      <th></th>\n",
              "      <th>species</th>\n",
              "      <th>island</th>\n",
              "      <th>bill_length_mm</th>\n",
              "      <th>bill_depth_mm</th>\n",
              "      <th>flipper_length_mm</th>\n",
              "      <th>body_mass_g</th>\n",
              "      <th>sex</th>\n",
              "    </tr>\n",
              "  </thead>\n",
              "  <tbody>\n",
              "    <tr>\n",
              "      <th>0</th>\n",
              "      <td>Adelie</td>\n",
              "      <td>Torgersen</td>\n",
              "      <td>39.1</td>\n",
              "      <td>18.7</td>\n",
              "      <td>181.0</td>\n",
              "      <td>3750.0</td>\n",
              "      <td>Male</td>\n",
              "    </tr>\n",
              "    <tr>\n",
              "      <th>1</th>\n",
              "      <td>Adelie</td>\n",
              "      <td>Torgersen</td>\n",
              "      <td>39.5</td>\n",
              "      <td>17.4</td>\n",
              "      <td>186.0</td>\n",
              "      <td>3800.0</td>\n",
              "      <td>Female</td>\n",
              "    </tr>\n",
              "    <tr>\n",
              "      <th>2</th>\n",
              "      <td>Adelie</td>\n",
              "      <td>Torgersen</td>\n",
              "      <td>40.3</td>\n",
              "      <td>18.0</td>\n",
              "      <td>195.0</td>\n",
              "      <td>3250.0</td>\n",
              "      <td>Female</td>\n",
              "    </tr>\n",
              "    <tr>\n",
              "      <th>3</th>\n",
              "      <td>Adelie</td>\n",
              "      <td>Torgersen</td>\n",
              "      <td>NaN</td>\n",
              "      <td>NaN</td>\n",
              "      <td>NaN</td>\n",
              "      <td>NaN</td>\n",
              "      <td>NaN</td>\n",
              "    </tr>\n",
              "    <tr>\n",
              "      <th>4</th>\n",
              "      <td>Adelie</td>\n",
              "      <td>Torgersen</td>\n",
              "      <td>36.7</td>\n",
              "      <td>19.3</td>\n",
              "      <td>193.0</td>\n",
              "      <td>3450.0</td>\n",
              "      <td>Female</td>\n",
              "    </tr>\n",
              "  </tbody>\n",
              "</table>\n",
              "</div>\n",
              "    <div class=\"colab-df-buttons\">\n",
              "\n",
              "  <div class=\"colab-df-container\">\n",
              "    <button class=\"colab-df-convert\" onclick=\"convertToInteractive('df-debb8e2c-7adc-4ada-ab56-054edb74fd63')\"\n",
              "            title=\"Convert this dataframe to an interactive table.\"\n",
              "            style=\"display:none;\">\n",
              "\n",
              "  <svg xmlns=\"http://www.w3.org/2000/svg\" height=\"24px\" viewBox=\"0 -960 960 960\">\n",
              "    <path d=\"M120-120v-720h720v720H120Zm60-500h600v-160H180v160Zm220 220h160v-160H400v160Zm0 220h160v-160H400v160ZM180-400h160v-160H180v160Zm440 0h160v-160H620v160ZM180-180h160v-160H180v160Zm440 0h160v-160H620v160Z\"/>\n",
              "  </svg>\n",
              "    </button>\n",
              "\n",
              "  <style>\n",
              "    .colab-df-container {\n",
              "      display:flex;\n",
              "      gap: 12px;\n",
              "    }\n",
              "\n",
              "    .colab-df-convert {\n",
              "      background-color: #E8F0FE;\n",
              "      border: none;\n",
              "      border-radius: 50%;\n",
              "      cursor: pointer;\n",
              "      display: none;\n",
              "      fill: #1967D2;\n",
              "      height: 32px;\n",
              "      padding: 0 0 0 0;\n",
              "      width: 32px;\n",
              "    }\n",
              "\n",
              "    .colab-df-convert:hover {\n",
              "      background-color: #E2EBFA;\n",
              "      box-shadow: 0px 1px 2px rgba(60, 64, 67, 0.3), 0px 1px 3px 1px rgba(60, 64, 67, 0.15);\n",
              "      fill: #174EA6;\n",
              "    }\n",
              "\n",
              "    .colab-df-buttons div {\n",
              "      margin-bottom: 4px;\n",
              "    }\n",
              "\n",
              "    [theme=dark] .colab-df-convert {\n",
              "      background-color: #3B4455;\n",
              "      fill: #D2E3FC;\n",
              "    }\n",
              "\n",
              "    [theme=dark] .colab-df-convert:hover {\n",
              "      background-color: #434B5C;\n",
              "      box-shadow: 0px 1px 3px 1px rgba(0, 0, 0, 0.15);\n",
              "      filter: drop-shadow(0px 1px 2px rgba(0, 0, 0, 0.3));\n",
              "      fill: #FFFFFF;\n",
              "    }\n",
              "  </style>\n",
              "\n",
              "    <script>\n",
              "      const buttonEl =\n",
              "        document.querySelector('#df-debb8e2c-7adc-4ada-ab56-054edb74fd63 button.colab-df-convert');\n",
              "      buttonEl.style.display =\n",
              "        google.colab.kernel.accessAllowed ? 'block' : 'none';\n",
              "\n",
              "      async function convertToInteractive(key) {\n",
              "        const element = document.querySelector('#df-debb8e2c-7adc-4ada-ab56-054edb74fd63');\n",
              "        const dataTable =\n",
              "          await google.colab.kernel.invokeFunction('convertToInteractive',\n",
              "                                                    [key], {});\n",
              "        if (!dataTable) return;\n",
              "\n",
              "        const docLinkHtml = 'Like what you see? Visit the ' +\n",
              "          '<a target=\"_blank\" href=https://colab.research.google.com/notebooks/data_table.ipynb>data table notebook</a>'\n",
              "          + ' to learn more about interactive tables.';\n",
              "        element.innerHTML = '';\n",
              "        dataTable['output_type'] = 'display_data';\n",
              "        await google.colab.output.renderOutput(dataTable, element);\n",
              "        const docLink = document.createElement('div');\n",
              "        docLink.innerHTML = docLinkHtml;\n",
              "        element.appendChild(docLink);\n",
              "      }\n",
              "    </script>\n",
              "  </div>\n",
              "\n",
              "\n",
              "<div id=\"df-1a9dbe48-2b49-408a-98be-c283a19d9c3c\">\n",
              "  <button class=\"colab-df-quickchart\" onclick=\"quickchart('df-1a9dbe48-2b49-408a-98be-c283a19d9c3c')\"\n",
              "            title=\"Suggest charts\"\n",
              "            style=\"display:none;\">\n",
              "\n",
              "<svg xmlns=\"http://www.w3.org/2000/svg\" height=\"24px\"viewBox=\"0 0 24 24\"\n",
              "     width=\"24px\">\n",
              "    <g>\n",
              "        <path d=\"M19 3H5c-1.1 0-2 .9-2 2v14c0 1.1.9 2 2 2h14c1.1 0 2-.9 2-2V5c0-1.1-.9-2-2-2zM9 17H7v-7h2v7zm4 0h-2V7h2v10zm4 0h-2v-4h2v4z\"/>\n",
              "    </g>\n",
              "</svg>\n",
              "  </button>\n",
              "\n",
              "<style>\n",
              "  .colab-df-quickchart {\n",
              "      --bg-color: #E8F0FE;\n",
              "      --fill-color: #1967D2;\n",
              "      --hover-bg-color: #E2EBFA;\n",
              "      --hover-fill-color: #174EA6;\n",
              "      --disabled-fill-color: #AAA;\n",
              "      --disabled-bg-color: #DDD;\n",
              "  }\n",
              "\n",
              "  [theme=dark] .colab-df-quickchart {\n",
              "      --bg-color: #3B4455;\n",
              "      --fill-color: #D2E3FC;\n",
              "      --hover-bg-color: #434B5C;\n",
              "      --hover-fill-color: #FFFFFF;\n",
              "      --disabled-bg-color: #3B4455;\n",
              "      --disabled-fill-color: #666;\n",
              "  }\n",
              "\n",
              "  .colab-df-quickchart {\n",
              "    background-color: var(--bg-color);\n",
              "    border: none;\n",
              "    border-radius: 50%;\n",
              "    cursor: pointer;\n",
              "    display: none;\n",
              "    fill: var(--fill-color);\n",
              "    height: 32px;\n",
              "    padding: 0;\n",
              "    width: 32px;\n",
              "  }\n",
              "\n",
              "  .colab-df-quickchart:hover {\n",
              "    background-color: var(--hover-bg-color);\n",
              "    box-shadow: 0 1px 2px rgba(60, 64, 67, 0.3), 0 1px 3px 1px rgba(60, 64, 67, 0.15);\n",
              "    fill: var(--button-hover-fill-color);\n",
              "  }\n",
              "\n",
              "  .colab-df-quickchart-complete:disabled,\n",
              "  .colab-df-quickchart-complete:disabled:hover {\n",
              "    background-color: var(--disabled-bg-color);\n",
              "    fill: var(--disabled-fill-color);\n",
              "    box-shadow: none;\n",
              "  }\n",
              "\n",
              "  .colab-df-spinner {\n",
              "    border: 2px solid var(--fill-color);\n",
              "    border-color: transparent;\n",
              "    border-bottom-color: var(--fill-color);\n",
              "    animation:\n",
              "      spin 1s steps(1) infinite;\n",
              "  }\n",
              "\n",
              "  @keyframes spin {\n",
              "    0% {\n",
              "      border-color: transparent;\n",
              "      border-bottom-color: var(--fill-color);\n",
              "      border-left-color: var(--fill-color);\n",
              "    }\n",
              "    20% {\n",
              "      border-color: transparent;\n",
              "      border-left-color: var(--fill-color);\n",
              "      border-top-color: var(--fill-color);\n",
              "    }\n",
              "    30% {\n",
              "      border-color: transparent;\n",
              "      border-left-color: var(--fill-color);\n",
              "      border-top-color: var(--fill-color);\n",
              "      border-right-color: var(--fill-color);\n",
              "    }\n",
              "    40% {\n",
              "      border-color: transparent;\n",
              "      border-right-color: var(--fill-color);\n",
              "      border-top-color: var(--fill-color);\n",
              "    }\n",
              "    60% {\n",
              "      border-color: transparent;\n",
              "      border-right-color: var(--fill-color);\n",
              "    }\n",
              "    80% {\n",
              "      border-color: transparent;\n",
              "      border-right-color: var(--fill-color);\n",
              "      border-bottom-color: var(--fill-color);\n",
              "    }\n",
              "    90% {\n",
              "      border-color: transparent;\n",
              "      border-bottom-color: var(--fill-color);\n",
              "    }\n",
              "  }\n",
              "</style>\n",
              "\n",
              "  <script>\n",
              "    async function quickchart(key) {\n",
              "      const quickchartButtonEl =\n",
              "        document.querySelector('#' + key + ' button');\n",
              "      quickchartButtonEl.disabled = true;  // To prevent multiple clicks.\n",
              "      quickchartButtonEl.classList.add('colab-df-spinner');\n",
              "      try {\n",
              "        const charts = await google.colab.kernel.invokeFunction(\n",
              "            'suggestCharts', [key], {});\n",
              "      } catch (error) {\n",
              "        console.error('Error during call to suggestCharts:', error);\n",
              "      }\n",
              "      quickchartButtonEl.classList.remove('colab-df-spinner');\n",
              "      quickchartButtonEl.classList.add('colab-df-quickchart-complete');\n",
              "    }\n",
              "    (() => {\n",
              "      let quickchartButtonEl =\n",
              "        document.querySelector('#df-1a9dbe48-2b49-408a-98be-c283a19d9c3c button');\n",
              "      quickchartButtonEl.style.display =\n",
              "        google.colab.kernel.accessAllowed ? 'block' : 'none';\n",
              "    })();\n",
              "  </script>\n",
              "</div>\n",
              "\n",
              "    </div>\n",
              "  </div>\n"
            ],
            "application/vnd.google.colaboratory.intrinsic+json": {
              "type": "dataframe",
              "variable_name": "pinguins",
              "summary": "{\n  \"name\": \"pinguins\",\n  \"rows\": 344,\n  \"fields\": [\n    {\n      \"column\": \"species\",\n      \"properties\": {\n        \"dtype\": \"category\",\n        \"num_unique_values\": 3,\n        \"samples\": [\n          \"Adelie\",\n          \"Chinstrap\",\n          \"Gentoo\"\n        ],\n        \"semantic_type\": \"\",\n        \"description\": \"\"\n      }\n    },\n    {\n      \"column\": \"island\",\n      \"properties\": {\n        \"dtype\": \"category\",\n        \"num_unique_values\": 3,\n        \"samples\": [\n          \"Torgersen\",\n          \"Biscoe\",\n          \"Dream\"\n        ],\n        \"semantic_type\": \"\",\n        \"description\": \"\"\n      }\n    },\n    {\n      \"column\": \"bill_length_mm\",\n      \"properties\": {\n        \"dtype\": \"number\",\n        \"std\": 5.459583713926532,\n        \"min\": 32.1,\n        \"max\": 59.6,\n        \"num_unique_values\": 164,\n        \"samples\": [\n          48.2,\n          49.8,\n          45.1\n        ],\n        \"semantic_type\": \"\",\n        \"description\": \"\"\n      }\n    },\n    {\n      \"column\": \"bill_depth_mm\",\n      \"properties\": {\n        \"dtype\": \"number\",\n        \"std\": 1.9747931568167816,\n        \"min\": 13.1,\n        \"max\": 21.5,\n        \"num_unique_values\": 80,\n        \"samples\": [\n          16.9,\n          18.7,\n          18.6\n        ],\n        \"semantic_type\": \"\",\n        \"description\": \"\"\n      }\n    },\n    {\n      \"column\": \"flipper_length_mm\",\n      \"properties\": {\n        \"dtype\": \"number\",\n        \"std\": 14.061713679356894,\n        \"min\": 172.0,\n        \"max\": 231.0,\n        \"num_unique_values\": 55,\n        \"samples\": [\n          201.0,\n          180.0,\n          212.0\n        ],\n        \"semantic_type\": \"\",\n        \"description\": \"\"\n      }\n    },\n    {\n      \"column\": \"body_mass_g\",\n      \"properties\": {\n        \"dtype\": \"number\",\n        \"std\": 801.9545356980954,\n        \"min\": 2700.0,\n        \"max\": 6300.0,\n        \"num_unique_values\": 94,\n        \"samples\": [\n          4350.0,\n          4150.0,\n          3525.0\n        ],\n        \"semantic_type\": \"\",\n        \"description\": \"\"\n      }\n    },\n    {\n      \"column\": \"sex\",\n      \"properties\": {\n        \"dtype\": \"category\",\n        \"num_unique_values\": 2,\n        \"samples\": [\n          \"Female\",\n          \"Male\"\n        ],\n        \"semantic_type\": \"\",\n        \"description\": \"\"\n      }\n    }\n  ]\n}"
            }
          },
          "metadata": {},
          "execution_count": 2
        }
      ]
    },
    {
      "cell_type": "markdown",
      "source": [
        "Utilizaremos los datos sobre diversas medidas corporrales de especies de pingüinos; en particular nos fijaremos en los pingüinos de especie Adelia y su masa corporal."
      ],
      "metadata": {
        "id": "tV1Lw5Ldr8XB"
      }
    },
    {
      "cell_type": "code",
      "source": [
        "# Filtrar los datos para obtener solo los pesos de los pingüinos Adelia\n",
        "adelia = pinguins[pinguins[\"species\"] == \"Adelie\"][\"body_mass_g\"]\n",
        "# Eliminar filas con valores faltantes en los datos de Adelia\n",
        "adelia = adelia.dropna()\n",
        "adelia.head()"
      ],
      "metadata": {
        "id": "j-zRzfvdHyiZ",
        "colab": {
          "base_uri": "https://localhost:8080/",
          "height": 241
        },
        "outputId": "f93ed453-13ba-4d27-9d09-517705b91af5"
      },
      "execution_count": 3,
      "outputs": [
        {
          "output_type": "execute_result",
          "data": {
            "text/plain": [
              "0    3750.0\n",
              "1    3800.0\n",
              "2    3250.0\n",
              "4    3450.0\n",
              "5    3650.0\n",
              "Name: body_mass_g, dtype: float64"
            ],
            "text/html": [
              "<div>\n",
              "<style scoped>\n",
              "    .dataframe tbody tr th:only-of-type {\n",
              "        vertical-align: middle;\n",
              "    }\n",
              "\n",
              "    .dataframe tbody tr th {\n",
              "        vertical-align: top;\n",
              "    }\n",
              "\n",
              "    .dataframe thead th {\n",
              "        text-align: right;\n",
              "    }\n",
              "</style>\n",
              "<table border=\"1\" class=\"dataframe\">\n",
              "  <thead>\n",
              "    <tr style=\"text-align: right;\">\n",
              "      <th></th>\n",
              "      <th>body_mass_g</th>\n",
              "    </tr>\n",
              "  </thead>\n",
              "  <tbody>\n",
              "    <tr>\n",
              "      <th>0</th>\n",
              "      <td>3750.0</td>\n",
              "    </tr>\n",
              "    <tr>\n",
              "      <th>1</th>\n",
              "      <td>3800.0</td>\n",
              "    </tr>\n",
              "    <tr>\n",
              "      <th>2</th>\n",
              "      <td>3250.0</td>\n",
              "    </tr>\n",
              "    <tr>\n",
              "      <th>4</th>\n",
              "      <td>3450.0</td>\n",
              "    </tr>\n",
              "    <tr>\n",
              "      <th>5</th>\n",
              "      <td>3650.0</td>\n",
              "    </tr>\n",
              "  </tbody>\n",
              "</table>\n",
              "</div><br><label><b>dtype:</b> float64</label>"
            ]
          },
          "metadata": {},
          "execution_count": 3
        }
      ]
    },
    {
      "cell_type": "markdown",
      "source": [
        "Calcularemos, primero, el promedio de las masas de estos pingüinos. Esto nos permitirá poner a prueba algunas hipótesis."
      ],
      "metadata": {
        "id": "jplKDZ3P_wh7"
      }
    },
    {
      "cell_type": "code",
      "source": [
        "media=np.mean(adelia)\n",
        "print(media)"
      ],
      "metadata": {
        "colab": {
          "base_uri": "https://localhost:8080/"
        },
        "id": "48IjfoxJA1lb",
        "outputId": "97c70116-0ddc-48b5-861e-9d931d14c23f"
      },
      "execution_count": 4,
      "outputs": [
        {
          "output_type": "stream",
          "name": "stdout",
          "text": [
            "3700.662251655629\n"
          ]
        }
      ]
    },
    {
      "cell_type": "markdown",
      "source": [
        "Vamos a ver ahora qué se obtiene al realizar pruebas t con diferentes medias hipotéticas, para la muestra de pingüinos adelia."
      ],
      "metadata": {
        "id": "ruCsg51xBm8l"
      }
    },
    {
      "cell_type": "code",
      "source": [
        "medias = [media - 50, media-1, media, media+50, media+3000]\n",
        "\n",
        "for mu in medias:\n",
        "  # Realizar una prueba de hipótesis para verificar si el peso de Adelia es igual a mu\n",
        "  t_stat, p_value = st.ttest_1samp(adelia, mu)\n",
        "  print(f\"Valor t: {t_stat}\")\n",
        "  print(f\"Valor p: {p_value}\\n\")\n"
      ],
      "metadata": {
        "id": "H0Do2L4hsmfE",
        "colab": {
          "base_uri": "https://localhost:8080/"
        },
        "outputId": "10b5f99f-c969-4ca5-8e1d-2c639e3872cf"
      },
      "execution_count": 5,
      "outputs": [
        {
          "output_type": "stream",
          "name": "stdout",
          "text": [
            "Valor t: 1.3398510087346298\n",
            "Valor p: 0.18232003477577144\n",
            "\n",
            "Valor t: 0.0267970201746926\n",
            "Valor p: 0.9786572476230542\n",
            "\n",
            "Valor t: 0.0\n",
            "Valor p: 1.0\n",
            "\n",
            "Valor t: -1.3398510087346298\n",
            "Valor p: 0.18232003477577144\n",
            "\n",
            "Valor t: -80.3910605240778\n",
            "Valor p: 3.136232388747058e-125\n",
            "\n"
          ]
        }
      ]
    },
    {
      "cell_type": "code",
      "source": [
        "import matplotlib.pyplot as plt\n",
        "plt.hist(adelia, bins=30, alpha=0.75, color='blue')\n",
        "\n",
        "# Añadir etiquetas y título\n",
        "plt.xlabel('Valor')\n",
        "plt.ylabel('Frecuencia')\n",
        "plt.title('Histograma de datos')\n",
        "\n",
        "# Mostrar el histograma\n",
        "plt.show()"
      ],
      "metadata": {
        "colab": {
          "base_uri": "https://localhost:8080/",
          "height": 472
        },
        "id": "hSuPI2UavKQg",
        "outputId": "e6fc3eeb-c95d-473d-81aa-84d1f3f4c6cc"
      },
      "execution_count": 6,
      "outputs": [
        {
          "output_type": "display_data",
          "data": {
            "text/plain": [
              "<Figure size 640x480 with 1 Axes>"
            ],
            "image/png": "[encoded data removed]"
          },
          "metadata": {}
        }
      ]
    },
    {
      "cell_type": "markdown",
      "source": [
        "El valor de t corresponde a la diferencia entre la media muestral $\\overline{x}$ y la media hipotética $\\mu$, normalizada dividiendo por el error estándar de la muestra (la desviación estándar de la misma). Dado que la distribución de probabilidad es simétrica, los valores correspondientes a \"media-50\" y \"media+50\" presentan valores t iguales en valor absoluto, y valores p iguales. Observamos también que el valor de t aumenta en valor absoluto mientras mayor sea la distancia de la media \"hipotética\" con la \"media muestral\", y cuando esto ocurre el valor de p disminuye cada vez más acercándose a cero.\n",
        "\n",
        "\n",
        "¿Cómo interpretamos esto? Mientras mayor sea la diferencia entre la media hipotética y la media muestral, es cada vez menos probable que la media hipotética sea, efectivamente, la media de la población. ¿Qué probabilidad estamos dispuestos a aceptar? Vamos a **rechazar** la hipótesis nula si el valor de p es menor que el nivel de significancia escogido. Así, en nuestro ejemplo, si asumimos un nivel de significancia igual a 0.1, por ejemplo, tendremos que:\n",
        "\n",
        "*  No podemos rechazar la hipótesis de que la media poblacional sea \"media-50\", ya que p = 0.18, que es mayor que 0.1\n",
        "*  Si podemos rechazar la hipótesis de que la media poblacional sea \"media+3000\", ya que p = 3.136232388747058e-125, que es menor que 0.1"
      ],
      "metadata": {
        "id": "yK1AsP0Oy5it"
      }
    },
    {
      "cell_type": "markdown",
      "source": [
        "Podemos observar que nuestra hipótesis alternativa sería \"de dos colas\", ya que estamos afirmando que la media sería diferente a la supuesta pero no indicamos en qué sentido. Python nos permite considerar esto agregando un parámetro a la función"
      ],
      "metadata": {
        "id": "hp0ve_J7gcBJ"
      }
    },
    {
      "cell_type": "code",
      "source": [
        "t_stat, p_value = st.ttest_1samp(adelia, media-1000, alternative='greater')\n",
        "print(f\"Valor t: {t_stat}\")\n",
        "print(f\"Valor p: {p_value}\\n\")\n",
        "\n",
        "t_stat, p_value = st.ttest_1samp(adelia, media-100, alternative='greater')\n",
        "print(f\"Valor t: {t_stat}\")\n",
        "print(f\"Valor p: {p_value}\\n\")\n",
        "\n",
        "t_stat, p_value = st.ttest_1samp(adelia, media-1, alternative='greater')\n",
        "print(f\"Valor t: {t_stat}\")\n",
        "print(f\"Valor p: {p_value}\\n\")\n",
        "\n",
        "\n",
        "t_stat, p_value = st.ttest_1samp(adelia, media+1, alternative='greater')\n",
        "print(f\"Valor t: {t_stat}\")\n",
        "print(f\"Valor p: {p_value}\\n\")\n",
        "\n",
        "t_stat, p_value = st.ttest_1samp(adelia, media+10, alternative='greater')\n",
        "print(f\"Valor t: {t_stat}\")\n",
        "print(f\"Valor p: {p_value}\\n\")\n",
        "\n",
        "t_stat, p_value = st.ttest_1samp(adelia, media+100, alternative='greater')\n",
        "print(f\"Valor t: {t_stat}\")\n",
        "print(f\"Valor p: {p_value}\\n\")\n",
        "\n",
        "t_stat, p_value = st.ttest_1samp(adelia, media+1000, alternative='greater')\n",
        "print(f\"Valor t: {t_stat}\")\n",
        "print(f\"Valor p: {p_value}\\n\")\n"
      ],
      "metadata": {
        "colab": {
          "base_uri": "https://localhost:8080/"
        },
        "id": "0t1hmzSi_Heh",
        "outputId": "403ead30-919a-4181-fdae-938933db8844"
      },
      "execution_count": 7,
      "outputs": [
        {
          "output_type": "stream",
          "name": "stdout",
          "text": [
            "Valor t: 26.797020174692598\n",
            "Valor p: 2.3312641185104634e-59\n",
            "\n",
            "Valor t: 2.6797020174692596\n",
            "Valor p: 0.004096100942733048\n",
            "\n",
            "Valor t: 0.0267970201746926\n",
            "Valor p: 0.4893286238115271\n",
            "\n",
            "Valor t: -0.0267970201746926\n",
            "Valor p: 0.5106713761884729\n",
            "\n",
            "Valor t: -0.267970201746926\n",
            "Valor p: 0.6054548015632181\n",
            "\n",
            "Valor t: -2.6797020174692596\n",
            "Valor p: 0.995903899057267\n",
            "\n",
            "Valor t: -26.797020174692598\n",
            "Valor p: 1.0\n",
            "\n"
          ]
        }
      ]
    },
    {
      "cell_type": "markdown",
      "source": [
        "\"Alternative='greater' indica que nuestra hipótesis alternativa es que la media de la población es mayor que la que estamos suponiendo. Si consideramos un valor **muy menor que** la media poblacional como media hipotética, es muy probable que debamos rechazar dicha hipótesis nula a cambio de la alternativa, que postula que la media es **mayor** que la hipotética. Naturalmente, mientras más nos vayamos acercando a la media real el valor de p irá aumentando. Notarenos que, aun si nuestra media muestral propuesta es menor que la muestral, no podemos descartar la hipótesis nula pues sigue teniendo una alta probabilidad.\n",
        "\n",
        "¿Qué ocurre cuando comenzamos a tomar valores **mayores que** nuestra media muestral? El valor de p irá aumentando (hasta hacerse 1, o muy cerca de 1). En el último caso, en que hemos tomado una media hipotética igual a \"media + 1000\", obtenemos un valor de p igual a 1 que nos indicaría... **¡qué no podemos rechazar la hipótesis!** ¿Significa que debemos aceptar, realmente, que esta es la media? En realidad no. Lo que estamos afirmando que la hipótesis alternativa (que la media poblacional sea **mayor que \"media+1000\"**) es muuuucho menos probable.\n",
        "\n",
        "Tenemos otras posibilidades, además: \"alternative=less\" (menor que) y \"alternative=two-side\" (dos lados) que es la opción por defecto."
      ],
      "metadata": {
        "id": "KuTu0c1nCZkD"
      }
    },
    {
      "cell_type": "markdown",
      "source": [
        "<center><strong>¡Ahora podemos regresar a nuestra presentación!</center></strong>"
      ],
      "metadata": {
        "id": "agOxNnkw1Ygg"
      }
    },
    {
      "cell_type": "markdown",
      "source": [
        "##<font color=\"green\">Infiriendo sobre la media - Intervalos de confianza</font>\n",
        "\n",
        "Considerando la misma muestra anterior, podemos construir un intervalo de confianza para estimar la media poblacional. Utilizaremos un nivel de confianza del 95%.\n",
        "\n",
        "### Con distribución t\n",
        "\n"
      ],
      "metadata": {
        "id": "Ic9qzQ52Ysa6"
      }
    },
    {
      "cell_type": "markdown",
      "source": [
        "![image.png](data:image/png;base64,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)"
      ],
      "metadata": {
        "id": "7FuipCuTyI7G"
      }
    },
    {
      "cell_type": "code",
      "source": [
        "# crear un intervalo de confianza del 95% para el peso medio de la población\n",
        "st.t.interval(confidence= 0.95, df = len (adelia) -1, loc = media, scale = st.sem(adelia))\n",
        "\n",
        "#grado de libertad  = len (adelia) -1\n",
        "\n",
        "#print(st.sem(adelia))\n",
        "#print(adelia.std())"
      ],
      "metadata": {
        "id": "KAw8sRTdWtQ_",
        "colab": {
          "base_uri": "https://localhost:8080/"
        },
        "outputId": "cb4f0c70-76e7-45f6-95fe-ad70917821de"
      },
      "execution_count": 12,
      "outputs": [
        {
          "output_type": "execute_result",
          "data": {
            "text/plain": [
              "(3626.9262422782513, 3774.3982610330067)"
            ]
          },
          "metadata": {},
          "execution_count": 12
        }
      ]
    },
    {
      "cell_type": "markdown",
      "source": [
        "Podemos identificar aquí los siguientes parámetros:\n",
        "\n",
        "*  Confidence=0.95: corresponde al nivel de confianza. Obserza que se da directamente.\n",
        "\n",
        "*  df=len(data)-1: corresponde al número de grados de libertad para la distribución t. Se calcula restando 1 al número de observaciones en la muestra.\n",
        "\n",
        "*  loc=media: utilizamos la media de la muestra como estimador para nuestro intervalo de confianza.\n",
        "\n",
        "*  scale=st.sem(adelia): Se calcula el error estándar de la media (SEM) de la muestra de datos utilizando st.sem(adelia). El error estándar de la media es una medida de la variabilidad de la media muestral y se utiliza para calcular la amplitud del intervalo de confianza.\n",
        "\n",
        "Calculando el error y definiendo la confiabilidad podemos escribir una afirmación en lenguaje natural:"
      ],
      "metadata": {
        "id": "be_jioZcKgpp"
      }
    },
    {
      "cell_type": "code",
      "source": [
        "alpha=0.95\n",
        "# crear un intervalo de confianza del 95% para el peso medio de la población\n",
        "a,b=st.t.interval(confidence= alpha, df = len (adelia) -1, loc = media, scale = st.sem (adelia))\n",
        "\n",
        "# a = limite inferior\n",
        "# b = limite superior\n",
        "\n",
        "error=round(b-media,2)\n",
        "media_estimada=round(media,2)\n",
        "conf=alpha*100\n",
        "print(f'La media poblacional es {media_estimada}, con un margen de error de {error} y confiabilidad del {conf}%')"
      ],
      "metadata": {
        "colab": {
          "base_uri": "https://localhost:8080/"
        },
        "id": "0fwmMEYlLnWo",
        "outputId": "7196770a-d8c1-4de0-8ffc-072510c706b7"
      },
      "execution_count": 13,
      "outputs": [
        {
          "output_type": "stream",
          "name": "stdout",
          "text": [
            "La media poblacional es 3700.66, con un margen de error de 73.74 y confiabilidad del 95.0%\n"
          ]
        }
      ]
    },
    {
      "cell_type": "markdown",
      "source": [
        "### Con distribución normal\n",
        "\n",
        "\n"
      ],
      "metadata": {
        "id": "JcX4NeoeNGeL"
      }
    },
    {
      "cell_type": "code",
      "source": [
        "np.std(adelia)"
      ],
      "metadata": {
        "colab": {
          "base_uri": "https://localhost:8080/"
        },
        "id": "ivh7vuoM1yST",
        "outputId": "b65a5028-812d-4681-ea1c-a32fa94221ef"
      },
      "execution_count": 14,
      "outputs": [
        {
          "output_type": "execute_result",
          "data": {
            "text/plain": [
              "457.04517271224483"
            ]
          },
          "metadata": {},
          "execution_count": 14
        }
      ]
    },
    {
      "cell_type": "code",
      "source": [
        "# crear un intervalo de confianza del 95% para el peso medio de la población\n",
        "st.norm.interval(alpha, loc=media, scale=np.std(adelia))\n"
      ],
      "metadata": {
        "colab": {
          "base_uri": "https://localhost:8080/"
        },
        "id": "hIT9laB3MzLQ",
        "outputId": "1851712d-75e4-4505-d002-38e31c5b9c3e"
      },
      "execution_count": null,
      "outputs": [
        {
          "output_type": "execute_result",
          "data": {
            "text/plain": [
              "(2804.8701738317404, 4596.454329479518)"
            ]
          },
          "metadata": {},
          "execution_count": 15
        }
      ]
    },
    {
      "cell_type": "code",
      "source": [
        "a, b = st.norm.interval(alpha, loc=media, scale=np.std(adelia))\n",
        "\n",
        "error_normal =b - media\n",
        "print(error_normal)"
      ],
      "metadata": {
        "colab": {
          "base_uri": "https://localhost:8080/"
        },
        "id": "AZgZRPkE12t4",
        "outputId": "8393a986-2aae-4505-80de-b7138f77340a"
      },
      "execution_count": 15,
      "outputs": [
        {
          "output_type": "stream",
          "name": "stdout",
          "text": [
            "895.7920778238886\n"
          ]
        }
      ]
    },
    {
      "cell_type": "markdown",
      "source": [
        "##<font color=\"green\">Infiriendo sobre la proporción</font>\n",
        "\n",
        "Consideraremos ahora los datos para inferir sobre la proporción de pingüinos machos sobre el total de la población"
      ],
      "metadata": {
        "id": "hm_vlYfW6TBr"
      }
    },
    {
      "cell_type": "code",
      "source": [
        "import pandas as pd\n",
        "import seaborn as sns\n",
        "import statsmodels.api as sm\n",
        "\n",
        "# Cargar el conjunto de datos de pingüinos desde Seaborn\n",
        "pinguins = sns.load_dataset(\"penguins\")\n",
        "\n",
        "# Filtrar los datos para obtener solo los pingüinos Adelia\n",
        "adelia = pinguins[pinguins[\"species\"] == \"Adelie\"]\n",
        "\n",
        "# Tamaño de la muestra\n",
        "n = len(adelia)\n",
        "\n",
        "# Contar la cantidad de machos en la muestra\n",
        "num_machos = adelia[adelia[\"sex\"] == \"Male\"][\"sex\"].count()\n",
        "\n",
        "# Proporción muestral de machos en la muestra\n",
        "proporcion_muestral = num_machos / n\n",
        "\n",
        "# Nivel de confianza (por ejemplo, 95%)\n",
        "confianza = 0.95\n",
        "\n",
        "#alpha = 0.05\n",
        "\n",
        "# Calcular el intervalo de confianza utilizando statsmodels\n",
        "intervalo_confianza = sm.stats.proportion_confint(num_machos, n, alpha=1 - confianza)\n",
        "\n",
        "# Imprimir el resultado\n",
        "print(f\"Intervalo de confianza del {confianza * 100}% para la proporción de machos en la población de pingüinos Adelia:\")\n",
        "print(f\"({intervalo_confianza[0]}, {intervalo_confianza[1]})\")\n",
        "\n"
      ],
      "metadata": {
        "id": "91KoYlxIfE8d",
        "colab": {
          "base_uri": "https://localhost:8080/"
        },
        "outputId": "29820e05-fd6e-4fba-d3e4-c520978da03a"
      },
      "execution_count": 16,
      "outputs": [
        {
          "output_type": "stream",
          "name": "stdout",
          "text": [
            "Intervalo de confianza del 95.0% para la proporción de machos en la población de pingüinos Adelia:\n",
            "(0.4008380735291567, 0.559688242260317)\n"
          ]
        }
      ]
    },
    {
      "cell_type": "markdown",
      "source": [
        "<center><strong>¡Ahora podemos regresar a nuestra presentación!</center></strong>"
      ],
      "metadata": {
        "id": "VbJbOtUL1qMf"
      }
    },
    {
      "cell_type": "markdown",
      "source": [
        "##<font color=\"green\">Prueba de hipótesis para muestras independientes</font>\n",
        "\n",
        "Compararemos ahora la diferencia en el peso corporal entre las especies de pingüinos \"Adelie\" y \"Chinstrap\". La hipótesis nula (H0) sería que no hay diferencia significativa en el peso corporal entre las especies, y la hipótesis alternativa (H1) es que sí hay una diferencia significativa."
      ],
      "metadata": {
        "id": "hdVHy6el8k3R"
      }
    },
    {
      "cell_type": "code",
      "source": [
        "import pandas as pd\n",
        "import seaborn as sns\n",
        "from scipy import stats\n",
        "\n",
        "# Cargar el conjunto de datos de pingüinos desde Seaborn\n",
        "pinguins = sns.load_dataset(\"penguins\")\n",
        "\n",
        "# Filtrar los datos para obtener los pesos corporales de las especies \"Adelie\" y \"Chinstrap\"\n",
        "adelie = pinguins[pinguins[\"species\"] == \"Adelie\"][\"body_mass_g\"]\n",
        "chinstrap = pinguins[pinguins[\"species\"] == \"Chinstrap\"][\"body_mass_g\"]\n",
        "\n",
        "# Eliminar filas con valores nulos en los datos de peso corporal\n",
        "adelie = adelie.dropna()\n",
        "chinstrap = chinstrap.dropna()\n",
        "\n",
        "# Realizar una prueba de hipótesis (prueba t de muestras independientes)\n",
        "t_stat, p_value = stats.ttest_ind(adelie, chinstrap, equal_var=False)\n",
        "\n",
        "# Nivel de significancia (alfa)\n",
        "alpha = 0.05\n",
        "\n",
        "# Comprobar si el valor p es menor que alfa para rechazar la hipótesis nula\n",
        "if p_value < alpha:\n",
        "    print(\"Resultado: Se rechaza la hipótesis nula\")\n",
        "else:\n",
        "    print(\"Resultado: No se rechaza la hipótesis nula\")\n",
        "\n",
        "# Imprimir el valor t y el valor p\n",
        "print(f\"Valor t: {t_stat}\")\n",
        "print(f\"Valor p: {p_value}\")\n",
        "\n"
      ],
      "metadata": {
        "colab": {
          "base_uri": "https://localhost:8080/"
        },
        "id": "TgJbDfe7XxMY",
        "outputId": "dd022dbe-6d3b-4cd1-9815-46687617b267"
      },
      "execution_count": null,
      "outputs": [
        {
          "output_type": "stream",
          "name": "stdout",
          "text": [
            "Resultado: No se rechaza la hipótesis nula\n",
            "Valor t: -0.5430902472363278\n",
            "Valor p: 0.5878608159584937\n"
          ]
        }
      ]
    },
    {
      "cell_type": "code",
      "source": [
        "## test de hipotesis\n",
        "ttest_1samp() # para una varaible\n",
        "ttest_ind() # para ocmparar dos variables \"inpendientes\"\n"
      ],
      "metadata": {
        "id": "XajGbD4-4RoG"
      },
      "execution_count": null,
      "outputs": []
    },
    {
      "cell_type": "code",
      "source": [
        "df = pd.read_csv('earnings.csv')\n",
        "df.head()"
      ],
      "metadata": {
        "colab": {
          "base_uri": "https://localhost:8080/",
          "height": 226
        },
        "id": "1t_mgATT5n-K",
        "outputId": "5fd8a5cf-3441-4db5-d028-035afa8956fc"
      },
      "execution_count": 19,
      "outputs": [
        {
          "output_type": "execute_result",
          "data": {
            "text/plain": [
              "   height  weight  male     earn  earnk ethnicity  education  \\\n",
              "0      74   210.0     1  50000.0   50.0     White       16.0   \n",
              "1      66   125.0     0  60000.0   60.0     White       16.0   \n",
              "2      64   126.0     0  30000.0   30.0     White       16.0   \n",
              "3      65   200.0     0  25000.0   25.0     White       17.0   \n",
              "4      63   110.0     0  50000.0   50.0     Other       16.0   \n",
              "\n",
              "   mother_education  father_education  walk  exercise  smokenow  tense  angry  \\\n",
              "0              16.0              16.0     3         3       2.0    0.0    0.0   \n",
              "1              16.0              16.0     6         5       1.0    0.0    0.0   \n",
              "2              16.0              16.0     8         1       2.0    1.0    1.0   \n",
              "3              17.0               NaN     8         1       2.0    0.0    0.0   \n",
              "4              16.0              16.0     5         6       2.0    0.0    0.0   \n",
              "\n",
              "   age  \n",
              "0   45  \n",
              "1   58  \n",
              "2   29  \n",
              "3   57  \n",
              "4   91  "
            ],
            "text/html": [
              "\n",
              "  <div id=\"df-6ebf0c18-0f40-45d4-9085-922cf66f4d9d\" class=\"colab-df-container\">\n",
              "    <div>\n",
              "<style scoped>\n",
              "    .dataframe tbody tr th:only-of-type {\n",
              "        vertical-align: middle;\n",
              "    }\n",
              "\n",
              "    .dataframe tbody tr th {\n",
              "        vertical-align: top;\n",
              "    }\n",
              "\n",
              "    .dataframe thead th {\n",
              "        text-align: right;\n",
              "    }\n",
              "</style>\n",
              "<table border=\"1\" class=\"dataframe\">\n",
              "  <thead>\n",
              "    <tr style=\"text-align: right;\">\n",
              "      <th></th>\n",
              "      <th>height</th>\n",
              "      <th>weight</th>\n",
              "      <th>male</th>\n",
              "      <th>earn</th>\n",
              "      <th>earnk</th>\n",
              "      <th>ethnicity</th>\n",
              "      <th>education</th>\n",
              "      <th>mother_education</th>\n",
              "      <th>father_education</th>\n",
              "      <th>walk</th>\n",
              "      <th>exercise</th>\n",
              "      <th>smokenow</th>\n",
              "      <th>tense</th>\n",
              "      <th>angry</th>\n",
              "      <th>age</th>\n",
              "    </tr>\n",
              "  </thead>\n",
              "  <tbody>\n",
              "    <tr>\n",
              "      <th>0</th>\n",
              "      <td>74</td>\n",
              "      <td>210.0</td>\n",
              "      <td>1</td>\n",
              "      <td>50000.0</td>\n",
              "      <td>50.0</td>\n",
              "      <td>White</td>\n",
              "      <td>16.0</td>\n",
              "      <td>16.0</td>\n",
              "      <td>16.0</td>\n",
              "      <td>3</td>\n",
              "      <td>3</td>\n",
              "      <td>2.0</td>\n",
              "      <td>0.0</td>\n",
              "      <td>0.0</td>\n",
              "      <td>45</td>\n",
              "    </tr>\n",
              "    <tr>\n",
              "      <th>1</th>\n",
              "      <td>66</td>\n",
              "      <td>125.0</td>\n",
              "      <td>0</td>\n",
              "      <td>60000.0</td>\n",
              "      <td>60.0</td>\n",
              "      <td>White</td>\n",
              "      <td>16.0</td>\n",
              "      <td>16.0</td>\n",
              "      <td>16.0</td>\n",
              "      <td>6</td>\n",
              "      <td>5</td>\n",
              "      <td>1.0</td>\n",
              "      <td>0.0</td>\n",
              "      <td>0.0</td>\n",
              "      <td>58</td>\n",
              "    </tr>\n",
              "    <tr>\n",
              "      <th>2</th>\n",
              "      <td>64</td>\n",
              "      <td>126.0</td>\n",
              "      <td>0</td>\n",
              "      <td>30000.0</td>\n",
              "      <td>30.0</td>\n",
              "      <td>White</td>\n",
              "      <td>16.0</td>\n",
              "      <td>16.0</td>\n",
              "      <td>16.0</td>\n",
              "      <td>8</td>\n",
              "      <td>1</td>\n",
              "      <td>2.0</td>\n",
              "      <td>1.0</td>\n",
              "      <td>1.0</td>\n",
              "      <td>29</td>\n",
              "    </tr>\n",
              "    <tr>\n",
              "      <th>3</th>\n",
              "      <td>65</td>\n",
              "      <td>200.0</td>\n",
              "      <td>0</td>\n",
              "      <td>25000.0</td>\n",
              "      <td>25.0</td>\n",
              "      <td>White</td>\n",
              "      <td>17.0</td>\n",
              "      <td>17.0</td>\n",
              "      <td>NaN</td>\n",
              "      <td>8</td>\n",
              "      <td>1</td>\n",
              "      <td>2.0</td>\n",
              "      <td>0.0</td>\n",
              "      <td>0.0</td>\n",
              "      <td>57</td>\n",
              "    </tr>\n",
              "    <tr>\n",
              "      <th>4</th>\n",
              "      <td>63</td>\n",
              "      <td>110.0</td>\n",
              "      <td>0</td>\n",
              "      <td>50000.0</td>\n",
              "      <td>50.0</td>\n",
              "      <td>Other</td>\n",
              "      <td>16.0</td>\n",
              "      <td>16.0</td>\n",
              "      <td>16.0</td>\n",
              "      <td>5</td>\n",
              "      <td>6</td>\n",
              "      <td>2.0</td>\n",
              "      <td>0.0</td>\n",
              "      <td>0.0</td>\n",
              "      <td>91</td>\n",
              "    </tr>\n",
              "  </tbody>\n",
              "</table>\n",
              "</div>\n",
              "    <div class=\"colab-df-buttons\">\n",
              "\n",
              "  <div class=\"colab-df-container\">\n",
              "    <button class=\"colab-df-convert\" onclick=\"convertToInteractive('df-6ebf0c18-0f40-45d4-9085-922cf66f4d9d')\"\n",
              "            title=\"Convert this dataframe to an interactive table.\"\n",
              "            style=\"display:none;\">\n",
              "\n",
              "  <svg xmlns=\"http://www.w3.org/2000/svg\" height=\"24px\" viewBox=\"0 -960 960 960\">\n",
              "    <path d=\"M120-120v-720h720v720H120Zm60-500h600v-160H180v160Zm220 220h160v-160H400v160Zm0 220h160v-160H400v160ZM180-400h160v-160H180v160Zm440 0h160v-160H620v160ZM180-180h160v-160H180v160Zm440 0h160v-160H620v160Z\"/>\n",
              "  </svg>\n",
              "    </button>\n",
              "\n",
              "  <style>\n",
              "    .colab-df-container {\n",
              "      display:flex;\n",
              "      gap: 12px;\n",
              "    }\n",
              "\n",
              "    .colab-df-convert {\n",
              "      background-color: #E8F0FE;\n",
              "      border: none;\n",
              "      border-radius: 50%;\n",
              "      cursor: pointer;\n",
              "      display: none;\n",
              "      fill: #1967D2;\n",
              "      height: 32px;\n",
              "      padding: 0 0 0 0;\n",
              "      width: 32px;\n",
              "    }\n",
              "\n",
              "    .colab-df-convert:hover {\n",
              "      background-color: #E2EBFA;\n",
              "      box-shadow: 0px 1px 2px rgba(60, 64, 67, 0.3), 0px 1px 3px 1px rgba(60, 64, 67, 0.15);\n",
              "      fill: #174EA6;\n",
              "    }\n",
              "\n",
              "    .colab-df-buttons div {\n",
              "      margin-bottom: 4px;\n",
              "    }\n",
              "\n",
              "    [theme=dark] .colab-df-convert {\n",
              "      background-color: #3B4455;\n",
              "      fill: #D2E3FC;\n",
              "    }\n",
              "\n",
              "    [theme=dark] .colab-df-convert:hover {\n",
              "      background-color: #434B5C;\n",
              "      box-shadow: 0px 1px 3px 1px rgba(0, 0, 0, 0.15);\n",
              "      filter: drop-shadow(0px 1px 2px rgba(0, 0, 0, 0.3));\n",
              "      fill: #FFFFFF;\n",
              "    }\n",
              "  </style>\n",
              "\n",
              "    <script>\n",
              "      const buttonEl =\n",
              "        document.querySelector('#df-6ebf0c18-0f40-45d4-9085-922cf66f4d9d button.colab-df-convert');\n",
              "      buttonEl.style.display =\n",
              "        google.colab.kernel.accessAllowed ? 'block' : 'none';\n",
              "\n",
              "      async function convertToInteractive(key) {\n",
              "        const element = document.querySelector('#df-6ebf0c18-0f40-45d4-9085-922cf66f4d9d');\n",
              "        const dataTable =\n",
              "          await google.colab.kernel.invokeFunction('convertToInteractive',\n",
              "                                                    [key], {});\n",
              "        if (!dataTable) return;\n",
              "\n",
              "        const docLinkHtml = 'Like what you see? Visit the ' +\n",
              "          '<a target=\"_blank\" href=https://colab.research.google.com/notebooks/data_table.ipynb>data table notebook</a>'\n",
              "          + ' to learn more about interactive tables.';\n",
              "        element.innerHTML = '';\n",
              "        dataTable['output_type'] = 'display_data';\n",
              "        await google.colab.output.renderOutput(dataTable, element);\n",
              "        const docLink = document.createElement('div');\n",
              "        docLink.innerHTML = docLinkHtml;\n",
              "        element.appendChild(docLink);\n",
              "      }\n",
              "    </script>\n",
              "  </div>\n",
              "\n",
              "\n",
              "<div id=\"df-93acb63a-24c1-425f-893b-84da6d6cf158\">\n",
              "  <button class=\"colab-df-quickchart\" onclick=\"quickchart('df-93acb63a-24c1-425f-893b-84da6d6cf158')\"\n",
              "            title=\"Suggest charts\"\n",
              "            style=\"display:none;\">\n",
              "\n",
              "<svg xmlns=\"http://www.w3.org/2000/svg\" height=\"24px\"viewBox=\"0 0 24 24\"\n",
              "     width=\"24px\">\n",
              "    <g>\n",
              "        <path d=\"M19 3H5c-1.1 0-2 .9-2 2v14c0 1.1.9 2 2 2h14c1.1 0 2-.9 2-2V5c0-1.1-.9-2-2-2zM9 17H7v-7h2v7zm4 0h-2V7h2v10zm4 0h-2v-4h2v4z\"/>\n",
              "    </g>\n",
              "</svg>\n",
              "  </button>\n",
              "\n",
              "<style>\n",
              "  .colab-df-quickchart {\n",
              "      --bg-color: #E8F0FE;\n",
              "      --fill-color: #1967D2;\n",
              "      --hover-bg-color: #E2EBFA;\n",
              "      --hover-fill-color: #174EA6;\n",
              "      --disabled-fill-color: #AAA;\n",
              "      --disabled-bg-color: #DDD;\n",
              "  }\n",
              "\n",
              "  [theme=dark] .colab-df-quickchart {\n",
              "      --bg-color: #3B4455;\n",
              "      --fill-color: #D2E3FC;\n",
              "      --hover-bg-color: #434B5C;\n",
              "      --hover-fill-color: #FFFFFF;\n",
              "      --disabled-bg-color: #3B4455;\n",
              "      --disabled-fill-color: #666;\n",
              "  }\n",
              "\n",
              "  .colab-df-quickchart {\n",
              "    background-color: var(--bg-color);\n",
              "    border: none;\n",
              "    border-radius: 50%;\n",
              "    cursor: pointer;\n",
              "    display: none;\n",
              "    fill: var(--fill-color);\n",
              "    height: 32px;\n",
              "    padding: 0;\n",
              "    width: 32px;\n",
              "  }\n",
              "\n",
              "  .colab-df-quickchart:hover {\n",
              "    background-color: var(--hover-bg-color);\n",
              "    box-shadow: 0 1px 2px rgba(60, 64, 67, 0.3), 0 1px 3px 1px rgba(60, 64, 67, 0.15);\n",
              "    fill: var(--button-hover-fill-color);\n",
              "  }\n",
              "\n",
              "  .colab-df-quickchart-complete:disabled,\n",
              "  .colab-df-quickchart-complete:disabled:hover {\n",
              "    background-color: var(--disabled-bg-color);\n",
              "    fill: var(--disabled-fill-color);\n",
              "    box-shadow: none;\n",
              "  }\n",
              "\n",
              "  .colab-df-spinner {\n",
              "    border: 2px solid var(--fill-color);\n",
              "    border-color: transparent;\n",
              "    border-bottom-color: var(--fill-color);\n",
              "    animation:\n",
              "      spin 1s steps(1) infinite;\n",
              "  }\n",
              "\n",
              "  @keyframes spin {\n",
              "    0% {\n",
              "      border-color: transparent;\n",
              "      border-bottom-color: var(--fill-color);\n",
              "      border-left-color: var(--fill-color);\n",
              "    }\n",
              "    20% {\n",
              "      border-color: transparent;\n",
              "      border-left-color: var(--fill-color);\n",
              "      border-top-color: var(--fill-color);\n",
              "    }\n",
              "    30% {\n",
              "      border-color: transparent;\n",
              "      border-left-color: var(--fill-color);\n",
              "      border-top-color: var(--fill-color);\n",
              "      border-right-color: var(--fill-color);\n",
              "    }\n",
              "    40% {\n",
              "      border-color: transparent;\n",
              "      border-right-color: var(--fill-color);\n",
              "      border-top-color: var(--fill-color);\n",
              "    }\n",
              "    60% {\n",
              "      border-color: transparent;\n",
              "      border-right-color: var(--fill-color);\n",
              "    }\n",
              "    80% {\n",
              "      border-color: transparent;\n",
              "      border-right-color: var(--fill-color);\n",
              "      border-bottom-color: var(--fill-color);\n",
              "    }\n",
              "    90% {\n",
              "      border-color: transparent;\n",
              "      border-bottom-color: var(--fill-color);\n",
              "    }\n",
              "  }\n",
              "</style>\n",
              "\n",
              "  <script>\n",
              "    async function quickchart(key) {\n",
              "      const quickchartButtonEl =\n",
              "        document.querySelector('#' + key + ' button');\n",
              "      quickchartButtonEl.disabled = true;  // To prevent multiple clicks.\n",
              "      quickchartButtonEl.classList.add('colab-df-spinner');\n",
              "      try {\n",
              "        const charts = await google.colab.kernel.invokeFunction(\n",
              "            'suggestCharts', [key], {});\n",
              "      } catch (error) {\n",
              "        console.error('Error during call to suggestCharts:', error);\n",
              "      }\n",
              "      quickchartButtonEl.classList.remove('colab-df-spinner');\n",
              "      quickchartButtonEl.classList.add('colab-df-quickchart-complete');\n",
              "    }\n",
              "    (() => {\n",
              "      let quickchartButtonEl =\n",
              "        document.querySelector('#df-93acb63a-24c1-425f-893b-84da6d6cf158 button');\n",
              "      quickchartButtonEl.style.display =\n",
              "        google.colab.kernel.accessAllowed ? 'block' : 'none';\n",
              "    })();\n",
              "  </script>\n",
              "</div>\n",
              "\n",
              "    </div>\n",
              "  </div>\n"
            ],
            "application/vnd.google.colaboratory.intrinsic+json": {
              "type": "dataframe",
              "variable_name": "df",
              "summary": "{\n  \"name\": \"df\",\n  \"rows\": 1816,\n  \"fields\": [\n    {\n      \"column\": \"height\",\n      \"properties\": {\n        \"dtype\": \"number\",\n        \"std\": 3,\n        \"min\": 57,\n        \"max\": 82,\n        \"num_unique_values\": 23,\n        \"samples\": [\n          61,\n          70,\n          74\n        ],\n        \"semantic_type\": \"\",\n        \"description\": \"\"\n      }\n    },\n    {\n      \"column\": \"weight\",\n      \"properties\": {\n        \"dtype\": \"number\",\n        \"std\": 34.61705946920547,\n        \"min\": 80.0,\n        \"max\": 342.0,\n        \"num_unique_values\": 148,\n        \"samples\": [\n          139.0,\n          215.0,\n          99.0\n        ],\n        \"semantic_type\": \"\",\n        \"description\": \"\"\n      }\n    },\n    {\n      \"column\": \"male\",\n      \"properties\": {\n        \"dtype\": \"number\",\n        \"std\": 0,\n        \"min\": 0,\n        \"max\": 1,\n        \"num_unique_values\": 2,\n        \"samples\": [\n          0,\n          1\n        ],\n        \"semantic_type\": \"\",\n        \"description\": \"\"\n      }\n    },\n    {\n      \"column\": \"earn\",\n      \"properties\": {\n        \"dtype\": \"number\",\n        \"std\": 22531.765123302852,\n        \"min\": 0.0,\n        \"max\": 400000.0,\n        \"num_unique_values\": 137,\n        \"samples\": [\n          7200.0,\n          18600.0\n        ],\n        \"semantic_type\": \"\",\n        \"description\": \"\"\n      }\n    },\n    {\n      \"column\": \"earnk\",\n      \"properties\": {\n        \"dtype\": \"number\",\n        \"std\": 22.531765123302947,\n        \"min\": 0.0,\n        \"max\": 400.0,\n        \"num_unique_values\": 137,\n        \"samples\": [\n          7.2,\n          18.6\n        ],\n        \"semantic_type\": \"\",\n        \"description\": \"\"\n      }\n    },\n    {\n      \"column\": \"ethnicity\",\n      \"properties\": {\n        \"dtype\": \"category\",\n        \"num_unique_values\": 4,\n        \"samples\": [\n          \"Other\",\n          \"Hispanic\"\n        ],\n        \"semantic_type\": \"\",\n        \"description\": \"\"\n      }\n    },\n    {\n      \"column\": \"education\",\n      \"properties\": {\n        \"dtype\": \"number\",\n        \"std\": 2.556637843200082,\n        \"min\": 2.0,\n        \"max\": 18.0,\n        \"num_unique_values\": 17,\n        \"samples\": [\n          16.0,\n          17.0\n        ],\n        \"semantic_type\": \"\",\n        \"description\": \"\"\n      }\n    },\n    {\n      \"column\": \"mother_education\",\n      \"properties\": {\n        \"dtype\": \"number\",\n        \"std\": 3.219371551381531,\n        \"min\": 3.0,\n        \"max\": 99.0,\n        \"num_unique_values\": 17,\n        \"samples\": [\n          16.0,\n          17.0\n        ],\n        \"semantic_type\": \"\",\n        \"description\": \"\"\n      }\n    },\n    {\n      \"column\": \"father_education\",\n      \"properties\": {\n        \"dtype\": \"number\",\n        \"std\": 3.250811145904316,\n        \"min\": 3.0,\n        \"max\": 99.0,\n        \"num_unique_values\": 17,\n        \"samples\": [\n          16.0,\n          18.0\n        ],\n        \"semantic_type\": \"\",\n        \"description\": \"\"\n      }\n    },\n    {\n      \"column\": \"walk\",\n      \"properties\": {\n        \"dtype\": \"number\",\n        \"std\": 2,\n        \"min\": 1,\n        \"max\": 8,\n        \"num_unique_values\": 8,\n        \"samples\": [\n          6,\n          7\n        ],\n        \"semantic_type\": \"\",\n        \"description\": \"\"\n      }\n    },\n    {\n      \"column\": \"exercise\",\n      \"properties\": {\n        \"dtype\": \"number\",\n        \"std\": 2,\n        \"min\": 1,\n        \"max\": 7,\n        \"num_unique_values\": 7,\n        \"samples\": [\n          3,\n          5\n        ],\n        \"semantic_type\": \"\",\n        \"description\": \"\"\n      }\n    },\n    {\n      \"column\": \"smokenow\",\n      \"properties\": {\n        \"dtype\": \"number\",\n        \"std\": 0.43572545294231246,\n        \"min\": 1.0,\n        \"max\": 2.0,\n        \"num_unique_values\": 2,\n        \"samples\": [\n          1.0,\n          2.0\n        ],\n        \"semantic_type\": \"\",\n        \"description\": \"\"\n      }\n    },\n    {\n      \"column\": \"tense\",\n      \"properties\": {\n        \"dtype\": \"number\",\n        \"std\": 2.1578504637123608,\n        \"min\": 0.0,\n        \"max\": 7.0,\n        \"num_unique_values\": 8,\n        \"samples\": [\n          1.0,\n          3.0\n        ],\n        \"semantic_type\": \"\",\n        \"description\": \"\"\n      }\n    },\n    {\n      \"column\": \"angry\",\n      \"properties\": {\n        \"dtype\": \"number\",\n        \"std\": 2.1578504637123608,\n        \"min\": 0.0,\n        \"max\": 7.0,\n        \"num_unique_values\": 8,\n        \"samples\": [\n          1.0,\n          3.0\n        ],\n        \"semantic_type\": \"\",\n        \"description\": \"\"\n      }\n    },\n    {\n      \"column\": \"age\",\n      \"properties\": {\n        \"dtype\": \"number\",\n        \"std\": 17,\n        \"min\": 18,\n        \"max\": 91,\n        \"num_unique_values\": 74,\n        \"samples\": [\n          91,\n          64\n        ],\n        \"semantic_type\": \"\",\n        \"description\": \"\"\n      }\n    }\n  ]\n}"
            }
          },
          "metadata": {},
          "execution_count": 19
        }
      ]
    },
    {
      "cell_type": "code",
      "source": [
        "len(df)\n",
        "\n",
        "\n",
        "ingreso = df['earn']\n",
        "ingreso = ingreso.dropna()\n",
        "\n",
        "muestra_ingresos = np.random.choice(ingreso,25)\n",
        "alpha = 0.05\n",
        "confianza = 100*(1-alpha)\n",
        "media = 20000\n",
        "t, p_value = st.ttest_1samp(muestra_ingresos,media,alternative='two-sided')\n",
        "\n",
        "if p_value < alpha:\n",
        "  print(f'confianza: {confianza}, se acepta la hipotesis alternativa (la media sea distinta {media})')\n",
        "else:\n",
        "  print(f'confianza: {confianza}, se rechaza la hipotesis alternativa (la media es igual a {media})')"
      ],
      "metadata": {
        "colab": {
          "base_uri": "https://localhost:8080/"
        },
        "id": "KjEs82ND6qhq",
        "outputId": "ce77fe3a-ebf1-419f-823e-bc053d4f2989"
      },
      "execution_count": 22,
      "outputs": [
        {
          "output_type": "stream",
          "name": "stdout",
          "text": [
            "confianza: 95.0, se rechaza la hipotesis alternativa (la media es igual a 20000)\n"
          ]
        }
      ]
    },
    {
      "cell_type": "code",
      "source": [
        "\"\"\"\n",
        "𝐻0: 𝑥 = 32000\n",
        "𝐻1: 𝑥 < 32000\n",
        "\"\"\"\n",
        "\n",
        "media = 32000\n",
        "t, p_value = st.ttest_1samp(muestra_ingresos,media,alternative='less')\n",
        "\n",
        "if p_value < alpha:\n",
        "  print(f'confianza: {confianza}, se acepta la hipotesis alternativa (la media sea distinta {media})')\n",
        "else:\n",
        "  print(f'confianza: {confianza}, se rechaza la hipotesis alternativa (la media es igual a {media})')"
      ],
      "metadata": {
        "colab": {
          "base_uri": "https://localhost:8080/"
        },
        "id": "W8GMTM7m9NpT",
        "outputId": "1f95e93e-a22a-46d6-8afe-7cb16b86c236"
      },
      "execution_count": 23,
      "outputs": [
        {
          "output_type": "stream",
          "name": "stdout",
          "text": [
            "confianza: 95.0, se acepta la hipotesis alternativa (la media sea distinta 32000)\n"
          ]
        }
      ]
    },
    {
      "cell_type": "code",
      "source": [
        "\n",
        "\n",
        "#2 proportion_confint()\n",
        "\n",
        "\n",
        "#3 ttest_ind()"
      ],
      "metadata": {
        "id": "DkLoY8lY-LuN"
      },
      "execution_count": null,
      "outputs": []
    },
    {
      "cell_type": "markdown",
      "source": [
        "<center><strong>¡Ahora podemos regresar a nuestra presentación!</center></strong>"
      ],
      "metadata": {
        "id": "A_rRdMMl1sIi"
      }
    }
  ]
}