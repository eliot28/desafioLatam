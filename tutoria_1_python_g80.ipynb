{
  "nbformat": 4,
  "nbformat_minor": 0,
  "metadata": {
    "colab": {
      "provenance": [],
      "authorship_tag": "ABX9TyNpoRBIwsWO9W+kFx4kyKny",
      "include_colab_link": true
    },
    "kernelspec": {
      "name": "python3",
      "display_name": "Python 3"
    },
    "language_info": {
      "name": "python"
    }
  },
  "cells": [
    {
      "cell_type": "markdown",
      "metadata": {
        "id": "view-in-github",
        "colab_type": "text"
      },
      "source": [
        "<a href=\"https://colab.research.google.com/github/eliot28/desafioLatam/blob/main/tutoria_1_python_g80.ipynb\" target=\"_parent\"><img src=\"https://colab.research.google.com/assets/colab-badge.svg\" alt=\"Open In Colab\"/></a>"
      ]
    },
    {
      "cell_type": "markdown",
      "source": [
        "Tutoria 1 Python"
      ],
      "metadata": {
        "id": "hezertUqbsyp"
      }
    },
    {
      "cell_type": "markdown",
      "source": [
        "Variables e input()"
      ],
      "metadata": {
        "id": "AF_WpmCbgbu-"
      }
    },
    {
      "cell_type": "code",
      "execution_count": null,
      "metadata": {
        "colab": {
          "base_uri": "https://localhost:8080/"
        },
        "id": "sjD3R6N8bHH1",
        "outputId": "3a6511ca-1ed7-4ce9-c439-374015a786b7"
      },
      "outputs": [
        {
          "output_type": "stream",
          "name": "stdout",
          "text": [
            "Ingrese su nombre: matias\n",
            "Ingrese la edad: 30\n",
            "Hola matias, tienes 30 años\n"
          ]
        }
      ],
      "source": [
        "nombre = input('Ingrese su nombre: ')\n",
        "edad = input('Ingrese la edad: ')\n",
        "## imprimir print\n",
        "print(f'Hola {nombre}, tienes {edad} años') ## lenguaje interpredo"
      ]
    },
    {
      "cell_type": "code",
      "source": [
        "nombre = input('Ingrese su nombre: ')\n",
        "edad = input('Ingrese la edad: ')\n",
        "print('Hola '+nombre+', tienes '+edad+' años') ## solo cuando las variables con str"
      ],
      "metadata": {
        "colab": {
          "base_uri": "https://localhost:8080/"
        },
        "id": "P9mJJVJ3crKa",
        "outputId": "7f96b5a7-1c8a-4773-eaa1-c8f1a0241dc2"
      },
      "execution_count": null,
      "outputs": [
        {
          "output_type": "stream",
          "name": "stdout",
          "text": [
            "Ingrese su nombre: matias\n",
            "Ingrese la edad: 30\n",
            "Hola matias, tienes 30 años\n"
          ]
        }
      ]
    },
    {
      "cell_type": "code",
      "source": [
        "type(nombre) ## para conocer el tipo de la variable"
      ],
      "metadata": {
        "colab": {
          "base_uri": "https://localhost:8080/"
        },
        "id": "q5ldZa3aepdi",
        "outputId": "ffb60954-414c-42b0-aa29-3bf92c1958f1"
      },
      "execution_count": null,
      "outputs": [
        {
          "output_type": "execute_result",
          "data": {
            "text/plain": [
              "str"
            ]
          },
          "metadata": {},
          "execution_count": 3
        }
      ]
    },
    {
      "cell_type": "code",
      "source": [
        "type(edad)"
      ],
      "metadata": {
        "colab": {
          "base_uri": "https://localhost:8080/"
        },
        "id": "NPu2mCoJe8BX",
        "outputId": "340dd1d6-91f5-47af-a3fb-e4cba90fafca"
      },
      "execution_count": null,
      "outputs": [
        {
          "output_type": "execute_result",
          "data": {
            "text/plain": [
              "str"
            ]
          },
          "metadata": {},
          "execution_count": 4
        }
      ]
    },
    {
      "cell_type": "markdown",
      "source": [
        "Ayuda memoria : [] corchete /\n",
        "{} llaves /\n",
        "() parentesis (tuplas)"
      ],
      "metadata": {
        "id": "EZcMN52LgC6p"
      }
    },
    {
      "cell_type": "markdown",
      "source": [
        "Listas"
      ],
      "metadata": {
        "id": "ASDOFCcVgY3P"
      }
    },
    {
      "cell_type": "code",
      "source": [
        "lista_frutas = ['manzana','pera','naranja','uva','sandia']\n",
        "# [0,1,2,3,4] orden de la lista\n",
        "print(lista_frutas[0])\n",
        "print(lista_frutas[4])\n",
        "print(lista_frutas[-1])"
      ],
      "metadata": {
        "colab": {
          "base_uri": "https://localhost:8080/"
        },
        "id": "tq5EUmsZgCJA",
        "outputId": "4ed75571-6f56-451c-e36a-1c1013a920df"
      },
      "execution_count": null,
      "outputs": [
        {
          "output_type": "stream",
          "name": "stdout",
          "text": [
            "manzana\n",
            "sandia\n",
            "sandia\n"
          ]
        }
      ]
    },
    {
      "cell_type": "code",
      "source": [
        "lista_num = [1,2,3,4,5]\n",
        "print(lista_num[1])"
      ],
      "metadata": {
        "colab": {
          "base_uri": "https://localhost:8080/"
        },
        "id": "NeNbNs5whkAd",
        "outputId": "28dbf18e-561c-448a-9e12-499caf17e0ef"
      },
      "execution_count": null,
      "outputs": [
        {
          "output_type": "stream",
          "name": "stdout",
          "text": [
            "2\n"
          ]
        }
      ]
    },
    {
      "cell_type": "code",
      "source": [
        "lista_listas = [lista_num, [2,3],1]\n",
        "print(lista_listas[0])"
      ],
      "metadata": {
        "colab": {
          "base_uri": "https://localhost:8080/"
        },
        "id": "rEPlVv9Ch1o7",
        "outputId": "8e0c6811-578b-4a79-c15b-041582213a67"
      },
      "execution_count": null,
      "outputs": [
        {
          "output_type": "stream",
          "name": "stdout",
          "text": [
            "[1, 2, 3, 4]\n"
          ]
        }
      ]
    },
    {
      "cell_type": "code",
      "source": [
        "print(lista_listas[0])\n",
        "print(lista_listas[1])\n",
        "print(lista_listas[2])"
      ],
      "metadata": {
        "colab": {
          "base_uri": "https://localhost:8080/"
        },
        "id": "5gtseCMdiIC_",
        "outputId": "7035e0ab-72e0-4eec-b331-19f6abdd3cf3"
      },
      "execution_count": null,
      "outputs": [
        {
          "output_type": "stream",
          "name": "stdout",
          "text": [
            "[1, 2, 3, 4]\n",
            "[2, 3]\n",
            "1\n"
          ]
        }
      ]
    },
    {
      "cell_type": "code",
      "source": [
        "max(lista_num)"
      ],
      "metadata": {
        "colab": {
          "base_uri": "https://localhost:8080/"
        },
        "id": "IxqHM_dprZ_b",
        "outputId": "821ff86b-bd69-4fd7-db09-44ef7fafa084"
      },
      "execution_count": null,
      "outputs": [
        {
          "output_type": "execute_result",
          "data": {
            "text/plain": [
              "5"
            ]
          },
          "metadata": {},
          "execution_count": 41
        }
      ]
    },
    {
      "cell_type": "markdown",
      "source": [
        "Diccionarios"
      ],
      "metadata": {
        "id": "2h1pdiQGisTw"
      }
    },
    {
      "cell_type": "code",
      "source": [
        "## diccionario = {'clave':'valor', 'clave2':'valor2', .......}\n",
        "info_personal = {'nombre':'matias',\n",
        "                 'edad':30,\n",
        "                 'ciudad':'santiago'}\n",
        "print(info_personal['nombre'])"
      ],
      "metadata": {
        "colab": {
          "base_uri": "https://localhost:8080/"
        },
        "id": "VNFPOwmnir14",
        "outputId": "5316262f-79b6-42e4-a86b-b950589b63ad"
      },
      "execution_count": null,
      "outputs": [
        {
          "output_type": "stream",
          "name": "stdout",
          "text": [
            "matias\n"
          ]
        }
      ]
    },
    {
      "cell_type": "code",
      "source": [
        "## agregar información al diccionario\n",
        "info_personal['profesion'] = 'ingeniero'\n",
        "print(info_personal)"
      ],
      "metadata": {
        "colab": {
          "base_uri": "https://localhost:8080/"
        },
        "id": "IzPjbcTziY8L",
        "outputId": "3cf27150-3b1c-4864-9665-1d220a6eb48d"
      },
      "execution_count": null,
      "outputs": [
        {
          "output_type": "stream",
          "name": "stdout",
          "text": [
            "{'nombre': 'matias', 'edad': 30, 'ciudad': 'santiago', 'profesion': 'ingeniero'}\n"
          ]
        }
      ]
    },
    {
      "cell_type": "code",
      "source": [
        "## funcion get() para buscar en diccionario\n",
        "print(info_personal.get('telefono','No esta disponible'))"
      ],
      "metadata": {
        "colab": {
          "base_uri": "https://localhost:8080/"
        },
        "id": "HhXuypUmwPYx",
        "outputId": "f6a2616c-df44-4090-e214-dd1292dc9b66"
      },
      "execution_count": 54,
      "outputs": [
        {
          "output_type": "stream",
          "name": "stdout",
          "text": [
            "No esta disponible\n"
          ]
        }
      ]
    },
    {
      "cell_type": "code",
      "source": [
        "info_personal['telefono'] = 133\n",
        "print(info_personal.get('telefono','No esta disponible'))"
      ],
      "metadata": {
        "colab": {
          "base_uri": "https://localhost:8080/"
        },
        "id": "uxBhr2dhwsoe",
        "outputId": "f74d47b3-a9b1-4c22-84b8-79e69354ee01"
      },
      "execution_count": 55,
      "outputs": [
        {
          "output_type": "stream",
          "name": "stdout",
          "text": [
            "133\n"
          ]
        }
      ]
    },
    {
      "cell_type": "markdown",
      "source": [
        "Operaciones sobre string"
      ],
      "metadata": {
        "id": "E1eFhwHYm94i"
      }
    },
    {
      "cell_type": "code",
      "source": [
        "print('Carlos '+'Santana')"
      ],
      "metadata": {
        "colab": {
          "base_uri": "https://localhost:8080/"
        },
        "id": "vSn2sTiPnBdm",
        "outputId": "baf47741-7309-45ca-a59e-6e52d9d9d36c"
      },
      "execution_count": null,
      "outputs": [
        {
          "output_type": "stream",
          "name": "stdout",
          "text": [
            "Carlos Santana\n"
          ]
        }
      ]
    },
    {
      "cell_type": "code",
      "source": [
        "print('10'+'21')"
      ],
      "metadata": {
        "colab": {
          "base_uri": "https://localhost:8080/"
        },
        "id": "BjEizIXjnFyA",
        "outputId": "7fe5e83c-c10b-44dc-a1fa-45bd575048d0"
      },
      "execution_count": null,
      "outputs": [
        {
          "output_type": "stream",
          "name": "stdout",
          "text": [
            "1021\n"
          ]
        }
      ]
    },
    {
      "cell_type": "code",
      "source": [
        "print(10+21)"
      ],
      "metadata": {
        "colab": {
          "base_uri": "https://localhost:8080/"
        },
        "id": "PbWNpSYQnKDn",
        "outputId": "d61f7aa5-6b1b-4299-95f5-96b74e995f15"
      },
      "execution_count": null,
      "outputs": [
        {
          "output_type": "stream",
          "name": "stdout",
          "text": [
            "31\n"
          ]
        }
      ]
    },
    {
      "cell_type": "code",
      "source": [
        "print(3*'Carlos ')"
      ],
      "metadata": {
        "colab": {
          "base_uri": "https://localhost:8080/"
        },
        "id": "m2oyB2GZnPfZ",
        "outputId": "f78d76e9-4ab8-4988-9f97-87c51cbd4bd3"
      },
      "execution_count": null,
      "outputs": [
        {
          "output_type": "stream",
          "name": "stdout",
          "text": [
            "Carlos Carlos Carlos \n"
          ]
        }
      ]
    },
    {
      "cell_type": "code",
      "source": [
        "print(3*2)"
      ],
      "metadata": {
        "colab": {
          "base_uri": "https://localhost:8080/"
        },
        "id": "nj5JOpQLnVNt",
        "outputId": "a2f69f69-5d36-44e6-9f3a-653eabee7e26"
      },
      "execution_count": null,
      "outputs": [
        {
          "output_type": "stream",
          "name": "stdout",
          "text": [
            "6\n"
          ]
        }
      ]
    },
    {
      "cell_type": "code",
      "source": [
        "print(3*'12')"
      ],
      "metadata": {
        "colab": {
          "base_uri": "https://localhost:8080/"
        },
        "id": "UAMz25_snXWd",
        "outputId": "6e89956a-c97e-4fa9-da31-b81c640a2d5c"
      },
      "execution_count": null,
      "outputs": [
        {
          "output_type": "stream",
          "name": "stdout",
          "text": [
            "121212\n"
          ]
        }
      ]
    },
    {
      "cell_type": "code",
      "source": [
        "print('Ochoa'.count('a'))"
      ],
      "metadata": {
        "colab": {
          "base_uri": "https://localhost:8080/"
        },
        "id": "XCmVRbzYnccE",
        "outputId": "6329352f-a775-4418-ba2c-6adc8ea0460e"
      },
      "execution_count": null,
      "outputs": [
        {
          "output_type": "stream",
          "name": "stdout",
          "text": [
            "1\n"
          ]
        }
      ]
    },
    {
      "cell_type": "code",
      "source": [
        "print('HOLA MUNDO'.lower()) ## de mayuscula a minuscula"
      ],
      "metadata": {
        "colab": {
          "base_uri": "https://localhost:8080/"
        },
        "id": "TwkDG-4ZnoAp",
        "outputId": "3b08b1d4-c44e-4bb3-c6f3-5951ad90a6ec"
      },
      "execution_count": null,
      "outputs": [
        {
          "output_type": "stream",
          "name": "stdout",
          "text": [
            "hola mundo\n"
          ]
        }
      ]
    },
    {
      "cell_type": "code",
      "source": [
        "print('hola mundo'.upper()) ## de minuscula a mayuscula"
      ],
      "metadata": {
        "colab": {
          "base_uri": "https://localhost:8080/"
        },
        "id": "irQUAPL4n9aA",
        "outputId": "1b2ee79a-79bd-4ba2-bcab-d2768c0dcfd8"
      },
      "execution_count": null,
      "outputs": [
        {
          "output_type": "stream",
          "name": "stdout",
          "text": [
            "HOLA MUNDO\n"
          ]
        }
      ]
    },
    {
      "cell_type": "code",
      "source": [
        "print(len(info_personal))"
      ],
      "metadata": {
        "colab": {
          "base_uri": "https://localhost:8080/"
        },
        "id": "iZui8TFboNjO",
        "outputId": "9ad0dd6b-3f9c-42f1-9c21-6f58f4900ac4"
      },
      "execution_count": null,
      "outputs": [
        {
          "output_type": "stream",
          "name": "stdout",
          "text": [
            "4\n"
          ]
        }
      ]
    },
    {
      "cell_type": "code",
      "source": [
        "print(lista_num)\n",
        "print(len(lista_num))  ## para medir el largo de una lista o diccionario"
      ],
      "metadata": {
        "colab": {
          "base_uri": "https://localhost:8080/"
        },
        "id": "eL4MNT4GocvJ",
        "outputId": "f13a64a6-8fce-4f3c-efd4-c101552e1de4"
      },
      "execution_count": null,
      "outputs": [
        {
          "output_type": "stream",
          "name": "stdout",
          "text": [
            "[1, 2, 3, 4]\n",
            "4\n"
          ]
        }
      ]
    },
    {
      "cell_type": "markdown",
      "source": [
        "Aritmética en python"
      ],
      "metadata": {
        "id": "Ol_De4X5oybG"
      }
    },
    {
      "cell_type": "code",
      "source": [
        "print(3+5) # suma\n",
        "print(7-3) # resta\n",
        "print(3/5) # division\n",
        "print(9//4) # parte entera\n",
        "print(9%4) # parte entera\n",
        "print(15%6) # cuociente\n",
        "print(2**3) # potencia"
      ],
      "metadata": {
        "colab": {
          "base_uri": "https://localhost:8080/"
        },
        "id": "PBBxRxALo3Rd",
        "outputId": "97f4018b-badd-472c-8ed2-a3fc1961bc3f"
      },
      "execution_count": null,
      "outputs": [
        {
          "output_type": "stream",
          "name": "stdout",
          "text": [
            "8\n",
            "4\n",
            "0.6\n",
            "2\n",
            "1\n",
            "3\n",
            "8\n"
          ]
        }
      ]
    },
    {
      "cell_type": "markdown",
      "source": [
        "mi primera libreria: random"
      ],
      "metadata": {
        "id": "f2zrcQZKpvIU"
      }
    },
    {
      "cell_type": "code",
      "source": [
        "import random as rd ## llamo a la libreria random\n",
        "opciones = ['cara','sello'] ## posibles opciones\n",
        "resultado = rd.choice(opciones) ## elegir una opcion de manera aleatoria\n",
        "print(f'El resultado es {resultado}') ## mostrar el resultado"
      ],
      "metadata": {
        "colab": {
          "base_uri": "https://localhost:8080/"
        },
        "id": "QYxJdeWap4g4",
        "outputId": "901f1c25-ca44-4adb-8c29-b991595083ad"
      },
      "execution_count": null,
      "outputs": [
        {
          "output_type": "stream",
          "name": "stdout",
          "text": [
            "El resultado es cara\n"
          ]
        }
      ]
    },
    {
      "cell_type": "markdown",
      "source": [
        "![gatito](https://t1.ea.ltmcdn.com/es/posts/7/4/3/como_ayudar_a_un_gatito_a_defecar_20347_600.jpg)"
      ],
      "metadata": {
        "id": "Mc6V5_XFs-7R"
      }
    },
    {
      "cell_type": "code",
      "source": [
        "valor = float(input('Ingrese un numero que divido por 2: '))\n",
        "resultado = round(valor/2,1)\n",
        "print(f'El resultado es {resultado}')\n",
        "\n",
        "## tipos de datos\n",
        "## int() entero\n",
        "## float() decimal\n",
        "## str() string / texto\n",
        "## boolen() True o False\n"
      ],
      "metadata": {
        "id": "yG7XB4MEs-nc",
        "colab": {
          "base_uri": "https://localhost:8080/"
        },
        "outputId": "9b28bf9f-50b5-49c7-b890-fd8501d6743b"
      },
      "execution_count": 52,
      "outputs": [
        {
          "output_type": "stream",
          "name": "stdout",
          "text": [
            "Ingrese un numero que divido por 2: 2.5\n",
            "El resultado es 1.2\n"
          ]
        }
      ]
    },
    {
      "cell_type": "code",
      "source": [
        "type(resultado)"
      ],
      "metadata": {
        "colab": {
          "base_uri": "https://localhost:8080/"
        },
        "id": "CdErmey4vODl",
        "outputId": "fa489712-4522-4bf4-a055-c70bda530cb5"
      },
      "execution_count": 47,
      "outputs": [
        {
          "output_type": "execute_result",
          "data": {
            "text/plain": [
              "float"
            ]
          },
          "metadata": {},
          "execution_count": 47
        }
      ]
    },
    {
      "cell_type": "code",
      "source": [
        "import random\n",
        "\n",
        "aleatorio = random.randint(1,3)\n",
        "print(aleatorio)"
      ],
      "metadata": {
        "colab": {
          "base_uri": "https://localhost:8080/"
        },
        "id": "uaCZ-moGxGWO",
        "outputId": "b46e9e23-50b9-4c50-c3bd-c9b0c0d9bd20"
      },
      "execution_count": 62,
      "outputs": [
        {
          "output_type": "stream",
          "name": "stdout",
          "text": [
            "2\n"
          ]
        }
      ]
    }
  ]
}