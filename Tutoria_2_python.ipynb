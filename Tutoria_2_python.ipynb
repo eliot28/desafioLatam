{
  "nbformat": 4,
  "nbformat_minor": 0,
  "metadata": {
    "colab": {
      "provenance": [],
      "authorship_tag": "ABX9TyMiAB/ZyF1ZPQrCL6n1AwCW",
      "include_colab_link": true
    },
    "kernelspec": {
      "name": "python3",
      "display_name": "Python 3"
    },
    "language_info": {
      "name": "python"
    }
  },
  "cells": [
    {
      "cell_type": "markdown",
      "metadata": {
        "id": "view-in-github",
        "colab_type": "text"
      },
      "source": [
        "<a href=\"https://colab.research.google.com/github/eliot28/desafioLatam/blob/main/Tutoria_2_python.ipynb\" target=\"_parent\"><img src=\"https://colab.research.google.com/assets/colab-badge.svg\" alt=\"Open In Colab\"/></a>"
      ]
    },
    {
      "cell_type": "markdown",
      "source": [
        "Operadores Logicos"
      ],
      "metadata": {
        "id": "yQGkTx7gzECX"
      }
    },
    {
      "cell_type": "code",
      "execution_count": 5,
      "metadata": {
        "colab": {
          "base_uri": "https://localhost:8080/"
        },
        "id": "un39Fw0NpaI1",
        "outputId": "4b241385-c44a-4a3b-89a6-eecc86bab58b"
      },
      "outputs": [
        {
          "output_type": "stream",
          "name": "stdout",
          "text": [
            "False\n"
          ]
        }
      ],
      "source": [
        "a=5\n",
        "b=10\n",
        "print(a==b)\n",
        "print(a!=b) ## <>\n",
        "print(a<=6<b)\n",
        "print(a<=15<b)"
      ]
    },
    {
      "cell_type": "markdown",
      "source": [
        "and / or / not"
      ],
      "metadata": {
        "id": "6wg6e_h4zPbr"
      }
    },
    {
      "cell_type": "code",
      "source": [
        "print('True and true: ', True and True)\n",
        "print('False and false: ', False and False)\n",
        "print('True and False: ', True and False)\n",
        "print('False and True: ', False and True)\n",
        "\n",
        "print('True or true: ', True or True)\n",
        "print('False or false: ', False or False)\n",
        "print('True or False: ', True or False)\n",
        "print('False or True: ', False or True)\n",
        "\n",
        "print('not False: ', not False)\n",
        "print('not True: ', not True)"
      ],
      "metadata": {
        "colab": {
          "base_uri": "https://localhost:8080/"
        },
        "id": "L28sfCQ0yGnF",
        "outputId": "1ec098d1-9d06-4027-fec5-95f996d4a9f5"
      },
      "execution_count": 7,
      "outputs": [
        {
          "output_type": "stream",
          "name": "stdout",
          "text": [
            "True and true:  True\n",
            "False and false:  False\n",
            "True and False:  False\n",
            "False and True:  False\n",
            "True or true:  True\n",
            "False or false:  False\n",
            "True or False:  True\n",
            "False or True:  True\n",
            "not False:  True\n",
            "not True:  False\n"
          ]
        }
      ]
    },
    {
      "cell_type": "code",
      "source": [
        "## if\n",
        "\n",
        "p = 7\n",
        "if p > 5:\n",
        "  print('Azulejo')\n",
        "  print(p+1)"
      ],
      "metadata": {
        "colab": {
          "base_uri": "https://localhost:8080/"
        },
        "id": "kklzGHJyyTJj",
        "outputId": "0553f61c-aa06-41d4-ffd3-78799e6c7474"
      },
      "execution_count": 8,
      "outputs": [
        {
          "output_type": "stream",
          "name": "stdout",
          "text": [
            "Azulejo\n",
            "8\n"
          ]
        }
      ]
    },
    {
      "cell_type": "code",
      "source": [
        "## ejemplo de numero par o impar\n",
        "num = int(input('Ingrese un numero para verificar si es par o impar: '))\n",
        "\n",
        "if num%2==0:\n",
        "  print('Par')\n",
        "else:\n",
        "  print('Impar')"
      ],
      "metadata": {
        "colab": {
          "base_uri": "https://localhost:8080/"
        },
        "id": "fCpBlbGiybbp",
        "outputId": "ef8e291b-bd55-4ac9-d053-a176c8289efa"
      },
      "execution_count": 16,
      "outputs": [
        {
          "output_type": "stream",
          "name": "stdout",
          "text": [
            "Ingrese un numero para verificar si es par o impar: 10\n",
            "Par\n"
          ]
        }
      ]
    },
    {
      "cell_type": "code",
      "source": [
        "## ejemplo elif con un dado\n",
        "import random\n",
        "\n",
        "dado = random.randint(1,6)\n",
        "\n",
        "if dado == 1:\n",
        "  print('uno')\n",
        "elif dado == 2:\n",
        "  print('dos')\n",
        "elif dado == 3:\n",
        "  print('tres')\n",
        "elif dado == 4:\n",
        "  print('cuatro')\n",
        "elif dado == 5:\n",
        "  print('cinco')\n",
        "else:\n",
        "  print('seis')"
      ],
      "metadata": {
        "colab": {
          "base_uri": "https://localhost:8080/"
        },
        "id": "3PDd8O492pFJ",
        "outputId": "aabd172a-ec8c-492b-bb2c-50ba67ad0cd8"
      },
      "execution_count": 24,
      "outputs": [
        {
          "output_type": "stream",
          "name": "stdout",
          "text": [
            "tres\n"
          ]
        }
      ]
    },
    {
      "cell_type": "code",
      "source": [
        "## ciclos for y while\n",
        "\n",
        "## con for / listas imprimir cada color\n",
        "lista = ['azul','rojo','amarillo','verde','naranjo']\n",
        "\n",
        "for x in lista:\n",
        "  print(x)\n"
      ],
      "metadata": {
        "colab": {
          "base_uri": "https://localhost:8080/"
        },
        "id": "Qzxq0hAY4Ans",
        "outputId": "781e8aac-b660-470b-922f-329bf95f184b"
      },
      "execution_count": 31,
      "outputs": [
        {
          "output_type": "stream",
          "name": "stdout",
          "text": [
            "azul\n",
            "rojo\n",
            "amarillo\n",
            "verde\n",
            "naranjo\n"
          ]
        }
      ]
    },
    {
      "cell_type": "code",
      "source": [
        "## con while / listas variables imprimir cada color\n",
        "y=0\n",
        "while y < len(lista):\n",
        "  print(lista[y])\n",
        "  y = y + 1"
      ],
      "metadata": {
        "colab": {
          "base_uri": "https://localhost:8080/"
        },
        "id": "WBfwgTwp4wnu",
        "outputId": "ac7ef137-6bc1-4cc9-83fc-e733590cd51d"
      },
      "execution_count": 35,
      "outputs": [
        {
          "output_type": "stream",
          "name": "stdout",
          "text": [
            "azul\n",
            "rojo\n",
            "amarillo\n",
            "verde\n",
            "naranjo\n"
          ]
        }
      ]
    },
    {
      "cell_type": "code",
      "source": [
        "## mostrar numero entre dos numero\n",
        "\n",
        "## for\n",
        "\n",
        "a=5\n",
        "b=10\n",
        "\n",
        "for z in range(a,b+1):\n",
        "  print(z)"
      ],
      "metadata": {
        "colab": {
          "base_uri": "https://localhost:8080/"
        },
        "id": "1WeqsFBz5hQr",
        "outputId": "0606cbd6-e5e2-45fa-f6e1-b4c6c1236885"
      },
      "execution_count": 37,
      "outputs": [
        {
          "output_type": "stream",
          "name": "stdout",
          "text": [
            "5\n",
            "6\n",
            "7\n",
            "8\n",
            "9\n",
            "10\n"
          ]
        }
      ]
    },
    {
      "cell_type": "code",
      "source": [
        "### while\n",
        "a=5\n",
        "while  a <= b:\n",
        "  print(a)\n",
        "  #a+=1\n",
        "  a = a+1\n",
        "\n",
        "## a+=1 <==> a = a+1 // para que lo tengan en consideración"
      ],
      "metadata": {
        "colab": {
          "base_uri": "https://localhost:8080/"
        },
        "id": "gIPjHT-G6A4F",
        "outputId": "eac6749e-e3d9-49e9-e017-1139e35a2a11"
      },
      "execution_count": 42,
      "outputs": [
        {
          "output_type": "stream",
          "name": "stdout",
          "text": [
            "5\n",
            "6\n",
            "7\n",
            "8\n",
            "9\n",
            "10\n"
          ]
        }
      ]
    },
    {
      "cell_type": "code",
      "source": [
        "moneda = random.randint(0,1)\n",
        "# 0 es cara\n",
        "# 1 es sello\n",
        "\n",
        "while True:\n",
        "  if moneda == 0:\n",
        "    print('cara')\n",
        "    break\n",
        "  else:\n",
        "    print('sello')\n",
        "    break\n",
        "\n",
        "print('_'+'🐌')\n",
        "print(\"\\U0001F600\")"
      ],
      "metadata": {
        "colab": {
          "base_uri": "https://localhost:8080/"
        },
        "id": "EwL_buiC7Q-r",
        "outputId": "8ea7c247-4604-4224-8f7a-b01cf378ba79"
      },
      "execution_count": 47,
      "outputs": [
        {
          "output_type": "stream",
          "name": "stdout",
          "text": [
            "cara\n",
            "_🐌\n",
            "😀\n"
          ]
        }
      ]
    },
    {
      "cell_type": "code",
      "source": [
        "## en resumen\n",
        "\n",
        "\"\"\"\n",
        "if condicion:\n",
        "  codigo a ejecutar\n",
        "\n",
        "elif condicion:\n",
        "  codigo a ejecutar\n",
        "\n",
        "else:\n",
        "  codigo a ejecutar\n",
        "\n",
        "\n",
        "for elemento in secuencia:\n",
        "  Código a ejecutar en cada iteración\n",
        "\n",
        "while condicion:\n",
        "  Código a ejecutar en cada iteración\n",
        "\n",
        "\"\"\"\n"
      ],
      "metadata": {
        "id": "EHLC7Ppb-0Qf"
      },
      "execution_count": null,
      "outputs": []
    },
    {
      "cell_type": "code",
      "source": [
        "## ejemplo ciclos de la guia de estudio\n",
        "\n",
        "numeros = [0,1,2,3,4,5,6,7,8,9,10]\n",
        "par = []\n",
        "\n",
        "for x in numeros:\n",
        "  if x % 2 == 0:\n",
        "    par.append(x)\n",
        "\n",
        "print(par)"
      ],
      "metadata": {
        "colab": {
          "base_uri": "https://localhost:8080/"
        },
        "id": "QEz5y-uIC_Es",
        "outputId": "e1a7fe0c-2e34-413f-c068-1362c0ab49fa"
      },
      "execution_count": 49,
      "outputs": [
        {
          "output_type": "stream",
          "name": "stdout",
          "text": [
            "[0, 2, 4, 6, 8, 10]\n"
          ]
        }
      ]
    },
    {
      "cell_type": "code",
      "source": [
        "## actividad N1\n",
        "\n",
        "password = '12345'\n",
        "\n",
        "while True:\n",
        "  clave = input('Ingrese contraseña: ')\n",
        "  if clave == password:\n",
        "    print('Contraseña valida')\n",
        "    break\n",
        "  else:\n",
        "    print('clave invalida, intente nuevamente')\n"
      ],
      "metadata": {
        "colab": {
          "base_uri": "https://localhost:8080/"
        },
        "id": "s7uSXXwRD39w",
        "outputId": "e109c564-118b-4cef-89d1-c268e294b360"
      },
      "execution_count": 50,
      "outputs": [
        {
          "output_type": "stream",
          "name": "stdout",
          "text": [
            "Ingrese contraseña: 1234\n",
            "clave invalida, intente nuevamente\n",
            "Ingrese contraseña: 12345\n",
            "Contraseña valida\n"
          ]
        }
      ]
    },
    {
      "cell_type": "code",
      "source": [
        "### función range dentro de un for\n",
        "\n",
        "# range(inicio,fin-1,salto)\n",
        "\n",
        "# incio <= x < fin\n",
        "\n",
        "for a in range(1,10,1):\n",
        "  print(a)\n",
        "\n",
        "print(\"\")\n",
        "for a in range(1,10,2):\n",
        "  print(a)\n",
        "\n",
        "print(\"\")\n",
        "for a in range(10,1,-1):\n",
        "  print(a)\n"
      ],
      "metadata": {
        "colab": {
          "base_uri": "https://localhost:8080/"
        },
        "id": "g9VJzlpmHume",
        "outputId": "2372ffc2-9c45-4357-bd88-09489d9c1600"
      },
      "execution_count": 67,
      "outputs": [
        {
          "output_type": "stream",
          "name": "stdout",
          "text": [
            "1\n",
            "2\n",
            "3\n",
            "4\n",
            "5\n",
            "6\n",
            "7\n",
            "8\n",
            "9\n",
            "\n",
            "1\n",
            "3\n",
            "5\n",
            "7\n",
            "9\n",
            "\n",
            "10\n",
            "9\n",
            "8\n",
            "7\n",
            "6\n",
            "5\n",
            "4\n",
            "3\n",
            "2\n"
          ]
        }
      ]
    },
    {
      "cell_type": "code",
      "source": [
        "lista1 = [\"manzana\", \"naranja\", \"uva\", \"fresa\", \"kiwi\"]\n",
        "lista2 = [\"sandía\", \"mango\", \"kiwi\", \"fresa\", \"limón\"]\n",
        "comunes = []\n",
        "for fruta in lista1:\n",
        "  #print(fruta)\n",
        "  if fruta in lista2:\n",
        "    comunes.append(fruta)\n",
        "\n",
        "print(comunes)\n"
      ],
      "metadata": {
        "colab": {
          "base_uri": "https://localhost:8080/"
        },
        "id": "5FbIYrGuJkqC",
        "outputId": "82c19898-3525-4ceb-ed2c-bfde2d1184ab"
      },
      "execution_count": 68,
      "outputs": [
        {
          "output_type": "stream",
          "name": "stdout",
          "text": [
            "manzana\n",
            "naranja\n",
            "uva\n",
            "fresa\n",
            "kiwi\n",
            "['fresa', 'kiwi']\n"
          ]
        }
      ]
    },
    {
      "cell_type": "code",
      "source": [
        "texto = \"En un lugar de la Mancha, de cuyo nombre no quiero acordarme, no ha mucho tiempo que vivía un hidalgo\"\n",
        "conteo = {}\n",
        "palabras = texto.split()\n",
        "print(palabras)\n",
        "#len(palabras)\n",
        "\n",
        "for x in palabras:\n",
        "  if x in conteo:\n",
        "    conteo[x] += 1\n",
        "  else:\n",
        "    conteo[x] = 1\n",
        "\n",
        "print(conteo)\n"
      ],
      "metadata": {
        "colab": {
          "base_uri": "https://localhost:8080/"
        },
        "id": "Jp00hUQpKnqZ",
        "outputId": "5f8d57bb-073c-4ce8-a5e5-756f26ed862e"
      },
      "execution_count": 71,
      "outputs": [
        {
          "output_type": "stream",
          "name": "stdout",
          "text": [
            "['En', 'un', 'lugar', 'de', 'la', 'Mancha,', 'de', 'cuyo', 'nombre', 'no', 'quiero', 'acordarme,', 'no', 'ha', 'mucho', 'tiempo', 'que', 'vivía', 'un', 'hidalgo']\n",
            "{'En': 1, 'un': 2, 'lugar': 1, 'de': 2, 'la': 1, 'Mancha,': 1, 'cuyo': 1, 'nombre': 1, 'no': 2, 'quiero': 1, 'acordarme,': 1, 'ha': 1, 'mucho': 1, 'tiempo': 1, 'que': 1, 'vivía': 1, 'hidalgo': 1}\n"
          ]
        }
      ]
    }
  ]
}