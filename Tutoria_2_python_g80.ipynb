{
  "nbformat": 4,
  "nbformat_minor": 0,
  "metadata": {
    "colab": {
      "provenance": [],
      "include_colab_link": true
    },
    "kernelspec": {
      "name": "python3",
      "display_name": "Python 3"
    },
    "language_info": {
      "name": "python"
    }
  },
  "cells": [
    {
      "cell_type": "markdown",
      "metadata": {
        "id": "view-in-github",
        "colab_type": "text"
      },
      "source": [
        "<a href=\"https://colab.research.google.com/github/eliot28/desafioLatam/blob/main/Tutoria_2_python_g80.ipynb\" target=\"_parent\"><img src=\"https://colab.research.google.com/assets/colab-badge.svg\" alt=\"Open In Colab\"/></a>"
      ]
    },
    {
      "cell_type": "markdown",
      "source": [
        "![logo_academia.png](data:image/png;base64,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)"
      ],
      "metadata": {
        "id": "a0FocXPklZba"
      }
    },
    {
      "cell_type": "code",
      "source": [
        "## repaso clase pasada\n",
        "\n",
        "variable = input('Ingrese un valor:')  ## siempre sera un str\n",
        "#resutado = variable  + 1\n",
        "#print(resultado)\n",
        "\n",
        "print('El tipo de la variable es: '+str(type(variable)))"
      ],
      "metadata": {
        "colab": {
          "base_uri": "https://localhost:8080/"
        },
        "id": "ePnJsM9Vn3JH",
        "outputId": "8e956275-77e7-4816-b2a2-d967c2fa3ddf"
      },
      "execution_count": 6,
      "outputs": [
        {
          "output_type": "stream",
          "name": "stdout",
          "text": [
            "Ingrese un valor:10,45\n",
            "El tipo de la variable es: <class 'str'>\n"
          ]
        }
      ]
    },
    {
      "cell_type": "code",
      "source": [
        "## if else\n",
        "\n",
        "numero = input('Ingrese un numero: ')\n",
        "numero = int(numero)\n",
        "\n",
        "print(numero <= 10)\n",
        "\n",
        "\n",
        "if numero <= 10:\n",
        "  print('Es menor que 10')\n",
        "else:\n",
        "  print('Es mayor que 10')\n"
      ],
      "metadata": {
        "colab": {
          "base_uri": "https://localhost:8080/"
        },
        "id": "EZ_Cp1quuHnV",
        "outputId": "e800c1d9-cbdd-4259-8132-6a2e16afad9d"
      },
      "execution_count": 10,
      "outputs": [
        {
          "output_type": "stream",
          "name": "stdout",
          "text": [
            "Ingrese un numero: 5\n",
            "True\n",
            "Es menor que 10\n"
          ]
        }
      ]
    },
    {
      "cell_type": "code",
      "source": [
        "### if elif else\n",
        "\n",
        "numero = input('Ingrese un numero: ')\n",
        "numero = int(numero)\n",
        "\n",
        "\n",
        "## rangos\n",
        "## menor que 0\n",
        "## 0 a 10\n",
        "## mayor que 10\n",
        "\n",
        "if numero <= 0:\n",
        "  print('Es menor que 0')\n",
        "elif numero > 0 and numero <= 10:\n",
        "  print('Es mayor que 0 y menor que 10')\n",
        "else:\n",
        "  print('Es mayor que 10')\n"
      ],
      "metadata": {
        "colab": {
          "base_uri": "https://localhost:8080/"
        },
        "id": "HDRg26puvHR8",
        "outputId": "dcaaa8df-d419-42bf-c985-a272235cac62"
      },
      "execution_count": 13,
      "outputs": [
        {
          "output_type": "stream",
          "name": "stdout",
          "text": [
            "Ingrese un numero: 20\n",
            "Es mayor que 10\n"
          ]
        }
      ]
    },
    {
      "cell_type": "code",
      "source": [
        "#### diferencias for con while\n",
        "\n",
        "\n",
        "lista = ['juan','pedro','ana','camila','diego']\n",
        "\n",
        "for x in lista:\n",
        "  print(x)\n",
        "\n",
        "print('')\n",
        "\n",
        "y = 0\n",
        "while y < len(lista):\n",
        "  print(lista[y])\n",
        "  y = y + 1\n",
        "  #y += 1\n"
      ],
      "metadata": {
        "colab": {
          "base_uri": "https://localhost:8080/"
        },
        "id": "OAUtLtvjww1d",
        "outputId": "497f771a-5946-49e5-fb68-db151ce9ff76"
      },
      "execution_count": 16,
      "outputs": [
        {
          "output_type": "stream",
          "name": "stdout",
          "text": [
            "juan\n",
            "pedro\n",
            "ana\n",
            "camila\n",
            "diego\n",
            "\n",
            "juan\n",
            "pedro\n",
            "ana\n",
            "camila\n",
            "diego\n"
          ]
        }
      ]
    },
    {
      "cell_type": "code",
      "source": [
        "len(lista)"
      ],
      "metadata": {
        "colab": {
          "base_uri": "https://localhost:8080/"
        },
        "id": "cXA9wlakxm4d",
        "outputId": "94ead989-ece1-4375-92c0-8c7d71f01835"
      },
      "execution_count": 15,
      "outputs": [
        {
          "output_type": "execute_result",
          "data": {
            "text/plain": [
              "5"
            ]
          },
          "metadata": {},
          "execution_count": 15
        }
      ]
    },
    {
      "cell_type": "markdown",
      "source": [
        "# <center><font color='green'>Ejercicios</font></center>\n",
        "\n",
        "1.  Crea un programa que solicite al usuario una contraseña. Luego, verifica si la contraseña cumple con los siguientes criterios: debe tener al menos 8 caracteres y contener al menos una letra mayúscula, una letra minúscula y un número.\n"
      ],
      "metadata": {
        "id": "5NJqVuZRlb8U"
      }
    },
    {
      "cell_type": "code",
      "source": [
        "pw = input('ingrese clave: ')\n",
        "\n",
        "for i in pw:\n",
        "  print(i)"
      ],
      "metadata": {
        "colab": {
          "base_uri": "https://localhost:8080/"
        },
        "id": "BAYDhQYX04Eh",
        "outputId": "c43b9d47-e6f0-4df2-fc36-2a162f4eac9b"
      },
      "execution_count": 18,
      "outputs": [
        {
          "output_type": "stream",
          "name": "stdout",
          "text": [
            "ingrese clave: qwfbvaefbq\n",
            "q\n",
            "w\n",
            "f\n",
            "b\n",
            "v\n",
            "a\n",
            "e\n",
            "f\n",
            "b\n",
            "q\n"
          ]
        }
      ]
    },
    {
      "cell_type": "code",
      "source": [
        "# Escribe aquí tu solución\n",
        "\n",
        "password = input('Ingrese contaseña: ') ## siempre string\n",
        "\n",
        "\n",
        "## al menos 8 caracteres:\n",
        "\n",
        "if len(password) >= 8:\n",
        "  print('cumple mayor a 8 caracteres')\n",
        "  if any(c.isupper() for c in password) == True:\n",
        "    print('Tiene mayuscula')\n",
        "    if any(c.islower() for c in password) == True:\n",
        "      print('Tiene minuscula')\n",
        "      if any(c.isdigit() for c in password) == True:\n",
        "        print('Tiene digitos')\n",
        "        print('Es segura!!!!')\n",
        "      else:\n",
        "        print('no tiene digitos')\n",
        "        print('no es segura :(')\n",
        "    else:\n",
        "      print('no tiene minuscula')\n",
        "      print('no es segura :(')\n",
        "  else:\n",
        "    print('no tiene mayuscula')\n",
        "    print('no es segura :(')\n",
        "else:\n",
        "  print('no tiene mas de 8 caracteres')\n",
        "  print('no es segura :(')\n"
      ],
      "metadata": {
        "id": "Emb-pu1UqKjm",
        "colab": {
          "base_uri": "https://localhost:8080/"
        },
        "outputId": "7b12955f-0855-4b9a-b64e-8ef64a750943"
      },
      "execution_count": 21,
      "outputs": [
        {
          "output_type": "stream",
          "name": "stdout",
          "text": [
            "Ingrese contaseña: Desafiolatam01\n",
            "cumple mayor a 8 caracteres\n",
            "Tiene mayuscula\n",
            "Tiene minuscula\n",
            "Tiene digitos\n",
            "Es segura!!!!\n"
          ]
        }
      ]
    },
    {
      "cell_type": "code",
      "source": [
        "password = input('Ingrese contaseña: ') ## siempre string\n",
        "\n",
        "\n",
        "## al menos 8 caracteres:\n",
        "\n",
        "if len(password) >= 8 and any(c.isupper() for c in password) == True and any(c.islower() for c in password) == True and any(c.isdigit() for c in password) == True:\n",
        "  print('Es segura!!!!')\n",
        "else:\n",
        "  print('no es segura :(')\n"
      ],
      "metadata": {
        "id": "iviTrk_r2sKw"
      },
      "execution_count": null,
      "outputs": []
    },
    {
      "cell_type": "code",
      "source": [
        "#Solución propuesta\n",
        "\n",
        "contraseña = input(\"Ingrese una contraseña: \")\n",
        "\n",
        "cumple_longitud = len(contraseña) >= 8\n",
        "cumple_mayuscula = any(c.isupper() for c in contraseña)\n",
        "cumple_minuscula = any(c.islower() for c in contraseña)\n",
        "cumple_numero = any(c.isdigit() for c in contraseña)\n",
        "\n",
        "if cumple_longitud and cumple_mayuscula and cumple_minuscula and cumple_numero:\n",
        "    print(\"Contraseña segura.\")\n",
        "else:\n",
        "    print(\"La contraseña no cumple con los criterios de seguridad.\")\n"
      ],
      "metadata": {
        "id": "AvpR0zfKq8WK",
        "colab": {
          "base_uri": "https://localhost:8080/"
        },
        "outputId": "60838340-53f6-42d8-e888-7efcb4d2d090"
      },
      "execution_count": 22,
      "outputs": [
        {
          "output_type": "stream",
          "name": "stdout",
          "text": [
            "Ingrese una contraseña: desafiolatam01\n",
            "La contraseña no cumple con los criterios de seguridad.\n"
          ]
        }
      ]
    },
    {
      "cell_type": "markdown",
      "source": [
        "2.  Crea un programa que solicite al usuario un número y verifique si es positivo, negativo o cero."
      ],
      "metadata": {
        "id": "6S7JIYZdnJnl"
      }
    },
    {
      "cell_type": "code",
      "source": [
        "# Escribe aquí tu solución\n",
        "\n",
        "numero = float(input(\"Ingrese un número: \")) ## lo transforma a float decimal\n",
        "\n",
        "if numero > 0:\n",
        "    print(\"El número es positivo.\")\n",
        "elif numero < 0:\n",
        "    print(\"El número es negativo.\")\n",
        "elif numero == 0:\n",
        "    print(\"El número es cero.\")\n",
        "\n"
      ],
      "metadata": {
        "id": "46As1AG6qLfl",
        "colab": {
          "base_uri": "https://localhost:8080/"
        },
        "outputId": "b1c93456-6b56-4e4f-ecc7-0f494bc016c4"
      },
      "execution_count": 30,
      "outputs": [
        {
          "output_type": "stream",
          "name": "stdout",
          "text": [
            "Ingrese un número: 3\n",
            "El número es positivo.\n"
          ]
        }
      ]
    },
    {
      "cell_type": "code",
      "source": [
        "#Solución propuesta\n",
        "numero = float(input(\"Ingrese un número: \")) ## lo transforma a float decimal\n",
        "\n",
        "if numero > 0:\n",
        "    print(\"El número es positivo.\")\n",
        "elif numero < 0:\n",
        "    print(\"El número es negativo.\")\n",
        "else:\n",
        "    print(\"El número es cero.\")\n",
        "\n"
      ],
      "metadata": {
        "id": "xd_8JY6bq9IC",
        "colab": {
          "base_uri": "https://localhost:8080/"
        },
        "outputId": "470c7054-b7d9-4d8e-f9d7-de3c695f3420"
      },
      "execution_count": 31,
      "outputs": [
        {
          "output_type": "stream",
          "name": "stdout",
          "text": [
            "Ingrese un número: 0\n",
            "El número es cero.\n"
          ]
        }
      ]
    },
    {
      "cell_type": "markdown",
      "source": [
        "\n",
        "\n",
        "3.  Crea un programa que solicite al usuario su edad y muestre un mensaje de acuerdo a su rango de edad: \"Niño\" (0-12), \"Adolescente\" (13-19), \"Adulto Joven\" (20-35), \"Adulto\" (36-59) o \"Adulto Mayor\" (60 en adelante)."
      ],
      "metadata": {
        "id": "wLfe_1S5nKwN"
      }
    },
    {
      "cell_type": "code",
      "source": [
        "# Escribe aquí tu solución\n",
        "edad = int(input(\"Ingrese su edad: \")) ## variable entera int\n",
        "\n",
        "if edad >= 0 and edad <= 12:\n",
        "    print(\"Eres un niño.\")\n",
        "elif edad > 12 and edad <= 19:\n",
        "    print(\"Eres un adolescente.\")\n",
        "elif edad > 19 and edad <= 35:\n",
        "    print(\"Eres un adulto joven.\")\n",
        "elif edad > 35 and edad <= 59:\n",
        "    print(\"Eres un adulto.\")\n",
        "else:\n",
        "    print(\"Eres un adulto mayor.\")"
      ],
      "metadata": {
        "id": "-UDb7fFZqNHz",
        "colab": {
          "base_uri": "https://localhost:8080/"
        },
        "outputId": "6df264bc-2ead-46da-838d-3e96a9d814c5"
      },
      "execution_count": 36,
      "outputs": [
        {
          "output_type": "stream",
          "name": "stdout",
          "text": [
            "Ingrese su edad: 30\n",
            "Eres un adulto joven.\n"
          ]
        }
      ]
    },
    {
      "cell_type": "code",
      "source": [
        "edad = int(input(\"Ingrese su edad: \")) ## variable entera int\n",
        "\n",
        "if  0<edad<= 12:\n",
        "    print(\"Eres un niño.\")\n",
        "elif 12<edad<=19:\n",
        "    print(\"Eres un adolescente.\")\n",
        "elif 19<edad<=35:\n",
        "    print(\"Eres un adulto joven.\")\n",
        "elif 35<edad<= 59:\n",
        "    print(\"Eres un adulto.\")\n",
        "else:\n",
        "    print(\"Eres un adulto mayor.\")"
      ],
      "metadata": {
        "colab": {
          "base_uri": "https://localhost:8080/"
        },
        "id": "dvUQoqDN7al7",
        "outputId": "fcce5cd3-e8e8-4a31-bfc3-6a04a2466d57"
      },
      "execution_count": 37,
      "outputs": [
        {
          "output_type": "stream",
          "name": "stdout",
          "text": [
            "Ingrese su edad: 30\n",
            "Eres un adulto joven.\n"
          ]
        }
      ]
    },
    {
      "cell_type": "code",
      "source": [
        "edad = int(input(\"Ingrese su edad: \")) ## variable entera int\n",
        "\n",
        "if edad <= 12:\n",
        "    print(\"Eres un niño.\")\n",
        "elif edad <= 19:\n",
        "    print(\"Eres un adolescente.\")\n",
        "elif edad <= 35:\n",
        "    print(\"Eres un adulto joven.\")\n",
        "elif edad <= 59:\n",
        "    print(\"Eres un adulto.\")\n",
        "else:\n",
        "    print(\"Eres un adulto mayor.\")\n"
      ],
      "metadata": {
        "id": "6ZZ2GwAmq-AV",
        "colab": {
          "base_uri": "https://localhost:8080/"
        },
        "outputId": "190eb759-3540-43ea-8355-1999f7a47148"
      },
      "execution_count": 34,
      "outputs": [
        {
          "output_type": "stream",
          "name": "stdout",
          "text": [
            "Ingrese su edad: 30\n",
            "Eres un adulto joven.\n"
          ]
        }
      ]
    },
    {
      "cell_type": "markdown",
      "source": [
        "4.  Crea un programa que solicite la calificación de un examen (0-100). Muestra un mensaje correspondiente a la calificación obtenida: \"Aprobado\", \"Reprobado\" o \"Resultado pendiente\"."
      ],
      "metadata": {
        "id": "ITRc-CjenK8I"
      }
    },
    {
      "cell_type": "code",
      "source": [
        "# Escribe aquí tu solución\n",
        "\n",
        "\n",
        "\n",
        "\n",
        "\n",
        "\n",
        "\n",
        "\n",
        "\n",
        "\n",
        "\n",
        "\n",
        "\n",
        "\n",
        "\n",
        "\n",
        "\n",
        "\n",
        "\n"
      ],
      "metadata": {
        "id": "DtfRVW1qqOgz"
      },
      "execution_count": null,
      "outputs": []
    },
    {
      "cell_type": "code",
      "source": [
        "calificacion = float(input(\"Ingrese la calificación del examen: \"))\n",
        "if calificacion >= 70:\n",
        "    print(\"Aprobado\")\n",
        "elif calificacion >= 0:\n",
        "    print(\"Reprobado\")\n",
        "else:\n",
        "    print(\"Resultado pendiente\")\n"
      ],
      "metadata": {
        "id": "Qy0qFiNUq-0n"
      },
      "execution_count": null,
      "outputs": []
    },
    {
      "cell_type": "markdown",
      "source": [
        "5.  Crea un programa que sume los números del 1 al 10 y muestre el resultado."
      ],
      "metadata": {
        "id": "N5fcqAhVnLGd"
      }
    },
    {
      "cell_type": "code",
      "source": [
        "# Escribe aquí tu solución\n",
        "\n",
        "\n",
        "\n",
        "\n",
        "\n",
        "\n"
      ],
      "metadata": {
        "id": "0axljlivqVDW"
      },
      "execution_count": null,
      "outputs": []
    },
    {
      "cell_type": "code",
      "source": [
        "suma = 0\n",
        "for numero in range(1, 11):\n",
        "    suma += numero\n",
        "print(\"La suma de los números del 1 al 10 es:\", suma)\n"
      ],
      "metadata": {
        "id": "eivCNEL2q___"
      },
      "execution_count": null,
      "outputs": []
    },
    {
      "cell_type": "markdown",
      "source": [
        "6. Crea un programa que muestre la tabla de multiplicar de un número ingresado por el usuario."
      ],
      "metadata": {
        "id": "HYQRLwchnLP6"
      }
    },
    {
      "cell_type": "code",
      "source": [
        "# Escribe aquí tu solución\n",
        "\n",
        "\n",
        "\n",
        "\n",
        "\n",
        "\n",
        "\n",
        "\n",
        "\n",
        "\n",
        "\n",
        "\n",
        "\n",
        "\n",
        "\n",
        "\n",
        "\n",
        "\n",
        "\n"
      ],
      "metadata": {
        "id": "YpkyA-JfqWFV"
      },
      "execution_count": null,
      "outputs": []
    },
    {
      "cell_type": "code",
      "source": [
        "numero = int(input(\"Ingrese un número para mostrar su tabla de multiplicar: \"))\n",
        "for i in range(1, 11):\n",
        "    resultado = numero * i\n",
        "    print(f\"{numero} x {i} = {resultado}\")"
      ],
      "metadata": {
        "id": "OF0wgkTYrA0A",
        "colab": {
          "base_uri": "https://localhost:8080/"
        },
        "outputId": "efa59ba0-0c2a-42fe-91fa-e14e6ed11f35"
      },
      "execution_count": 39,
      "outputs": [
        {
          "output_type": "stream",
          "name": "stdout",
          "text": [
            "Ingrese un número para mostrar su tabla de multiplicar: 7\n",
            "7 x 1 = 7\n",
            "7 x 2 = 14\n",
            "7 x 3 = 21\n",
            "7 x 4 = 28\n",
            "7 x 5 = 35\n",
            "7 x 6 = 42\n",
            "7 x 7 = 49\n",
            "7 x 8 = 56\n",
            "7 x 9 = 63\n",
            "7 x 10 = 70\n"
          ]
        }
      ]
    },
    {
      "cell_type": "markdown",
      "source": [
        "7.  Crea un programa que haga un conteo regresivo desde un número ingresado por el usuario hasta 0."
      ],
      "metadata": {
        "id": "0Z_y4U0TnLZD"
      }
    },
    {
      "cell_type": "code",
      "source": [
        "# Escribe aquí tu solución\n",
        "\n",
        "\n",
        "\n",
        "\n",
        "\n",
        "\n",
        "\n",
        "\n",
        "\n",
        "\n",
        "\n",
        "\n",
        "\n",
        "\n",
        "\n",
        "\n",
        "\n",
        "\n",
        "\n"
      ],
      "metadata": {
        "id": "LIdNdVWDqW8e"
      },
      "execution_count": null,
      "outputs": []
    },
    {
      "cell_type": "code",
      "source": [
        "numero_inicial = int(input(\"Ingrese un número para el conteo regresivo: \"))\n",
        "while numero_inicial >= 0:\n",
        "    print(numero_inicial)\n",
        "    numero_inicial -= 1"
      ],
      "metadata": {
        "id": "V6DsDXR9rBoc",
        "colab": {
          "base_uri": "https://localhost:8080/"
        },
        "outputId": "913556aa-3669-4caa-9514-3c12a0c4f448"
      },
      "execution_count": 40,
      "outputs": [
        {
          "output_type": "stream",
          "name": "stdout",
          "text": [
            "Ingrese un número para el conteo regresivo: 10\n",
            "10\n",
            "9\n",
            "8\n",
            "7\n",
            "6\n",
            "5\n",
            "4\n",
            "3\n",
            "2\n",
            "1\n",
            "0\n"
          ]
        }
      ]
    },
    {
      "cell_type": "code",
      "source": [
        "## como salir de un while\n",
        "condicion = True\n",
        "while condicion:\n",
        "  if condicion == True:\n",
        "    print('Salir del ciclo')\n",
        "    break\n",
        "  else:\n",
        "    print('Ciclo infinito')\n",
        "\n",
        "\n"
      ],
      "metadata": {
        "colab": {
          "base_uri": "https://localhost:8080/"
        },
        "id": "6lIepnu5_lwG",
        "outputId": "83af626d-77bf-463f-c569-3014e155fe62"
      },
      "execution_count": 43,
      "outputs": [
        {
          "output_type": "stream",
          "name": "stdout",
          "text": [
            "Salir del ciclo\n"
          ]
        }
      ]
    },
    {
      "cell_type": "code",
      "source": [
        "condicion = True\n",
        "while True:\n",
        "  if condicion == True:\n",
        "    print('Salir del ciclo')\n",
        "    break\n",
        "  else:\n",
        "    print('Ciclo infinito')"
      ],
      "metadata": {
        "colab": {
          "base_uri": "https://localhost:8080/"
        },
        "id": "WG0WCGyP__cl",
        "outputId": "3ac5253a-4698-4fd3-b2cd-d7c5689b6d14"
      },
      "execution_count": 45,
      "outputs": [
        {
          "output_type": "stream",
          "name": "stdout",
          "text": [
            "Salir del ciclo\n"
          ]
        }
      ]
    },
    {
      "cell_type": "code",
      "source": [
        "for p in range(3,18,2): ## range(inicio, fin-1, secuencia)\n",
        "  print(p)\n",
        "\n"
      ],
      "metadata": {
        "colab": {
          "base_uri": "https://localhost:8080/"
        },
        "id": "XnSgHt3xAaYc",
        "outputId": "e9fdce81-c79c-4cda-f8d1-b6a18e1b33f6"
      },
      "execution_count": 46,
      "outputs": [
        {
          "output_type": "stream",
          "name": "stdout",
          "text": [
            "3\n",
            "5\n",
            "7\n",
            "9\n",
            "11\n",
            "13\n",
            "15\n",
            "17\n"
          ]
        }
      ]
    },
    {
      "cell_type": "code",
      "source": [
        "type(range(1,10))"
      ],
      "metadata": {
        "colab": {
          "base_uri": "https://localhost:8080/"
        },
        "id": "ezq1I77CAnPA",
        "outputId": "7deae958-8638-401c-e2de-6cd6d37b59c5"
      },
      "execution_count": 47,
      "outputs": [
        {
          "output_type": "execute_result",
          "data": {
            "text/plain": [
              "range"
            ]
          },
          "metadata": {},
          "execution_count": 47
        }
      ]
    },
    {
      "cell_type": "code",
      "source": [
        "lista = ['manzana','limon']\n",
        "\n",
        "lista.append('pera')\n",
        "\n",
        "print(lista)"
      ],
      "metadata": {
        "colab": {
          "base_uri": "https://localhost:8080/"
        },
        "id": "4r6LBrGsA3xK",
        "outputId": "db205b38-2898-4dbe-eaba-e6811c354d52"
      },
      "execution_count": 48,
      "outputs": [
        {
          "output_type": "stream",
          "name": "stdout",
          "text": [
            "['manzana', 'limon', 'pera']\n"
          ]
        }
      ]
    },
    {
      "cell_type": "code",
      "source": [
        "import random\n",
        "\n",
        "num_aleatorio = random.randint(1, 100)\n",
        "print(num_aleatorio)\n",
        "\n",
        "🐌\n",
        "🐌"
      ],
      "metadata": {
        "colab": {
          "base_uri": "https://localhost:8080/"
        },
        "id": "5jjoINU3CsJX",
        "outputId": "7f64e7a0-8be6-44f3-982d-cc40a3ee9a7d"
      },
      "execution_count": 52,
      "outputs": [
        {
          "output_type": "stream",
          "name": "stdout",
          "text": [
            "77\n"
          ]
        }
      ]
    },
    {
      "cell_type": "markdown",
      "source": [
        "🐌"
      ],
      "metadata": {
        "id": "a5RN61uXEARr"
      }
    }
  ]
}